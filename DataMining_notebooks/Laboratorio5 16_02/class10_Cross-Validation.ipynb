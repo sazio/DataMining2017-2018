{
 "cells": [
  {
   "cell_type": "markdown",
   "metadata": {},
   "source": [
    "---\n",
    "\n",
    "# Data Mining:<br>Statistical Modeling and Learning from Data\n",
    "\n",
    "## Dr. Ciro Cattuto<br>Dr. Laetitia Gauvin<br>Dr. André Panisson\n",
    "\n",
    "### Exercises - Cross Validation and Regularization\n",
    "\n",
    "---"
   ]
  },
  {
   "cell_type": "code",
   "execution_count": 7,
   "metadata": {},
   "outputs": [
    {
     "name": "stdout",
     "output_type": "stream",
     "text": [
      "Populating the interactive namespace from numpy and matplotlib\n"
     ]
    }
   ],
   "source": [
    "%pylab inline"
   ]
  },
  {
   "cell_type": "markdown",
   "metadata": {},
   "source": [
    "## 1. Load the Diabetes dataset\n",
    "\n",
    "The diabetes dataset consists of 10 physiological variables (age, sex, weight, blood pressure) measure on 442 patients, and an indication of disease progression after one year.\n",
    "\n",
    "http://scikit-learn.org/stable/modules/generated/sklearn.datasets.load_diabetes.html#sklearn.datasets.load_diabetes\n",
    "\n",
    "Reference:\n",
    "   [http://web.stanford.edu/~hastie/Papers/LARS/LeastAngle_2002.pdf]\n",
    "\n",
    "Load the features in a variable with name $\\mathbf{X}$ and the target in a variable with name $\\mathbf{y}$."
   ]
  },
  {
   "cell_type": "code",
   "execution_count": 8,
   "metadata": {},
   "outputs": [],
   "source": [
    "from sklearn.datasets import load_diabetes\n",
    "\n",
    "diabetes = load_diabetes()\n",
    "X = diabetes.data\n",
    "y = diabetes.target"
   ]
  },
  {
   "cell_type": "code",
   "execution_count": 9,
   "metadata": {},
   "outputs": [
    {
     "data": {
      "text/plain": [
       "(442, 10)"
      ]
     },
     "execution_count": 9,
     "metadata": {},
     "output_type": "execute_result"
    }
   ],
   "source": [
    "X.shape"
   ]
  },
  {
   "cell_type": "code",
   "execution_count": 10,
   "metadata": {},
   "outputs": [
    {
     "data": {
      "text/plain": [
       "(442,)"
      ]
     },
     "execution_count": 10,
     "metadata": {},
     "output_type": "execute_result"
    }
   ],
   "source": [
    "y.shape"
   ]
  },
  {
   "cell_type": "code",
   "execution_count": 1,
   "metadata": {},
   "outputs": [
    {
     "ename": "NameError",
     "evalue": "name 'y' is not defined",
     "output_type": "error",
     "traceback": [
      "\u001b[0;31m---------------------------------------------------------------------------\u001b[0m",
      "\u001b[0;31mNameError\u001b[0m                                 Traceback (most recent call last)",
      "\u001b[0;32m<ipython-input-1-9063a9f0e032>\u001b[0m in \u001b[0;36m<module>\u001b[0;34m()\u001b[0m\n\u001b[0;32m----> 1\u001b[0;31m \u001b[0my\u001b[0m\u001b[0;34m\u001b[0m\u001b[0m\n\u001b[0m",
      "\u001b[0;31mNameError\u001b[0m: name 'y' is not defined"
     ]
    }
   ],
   "source": []
  },
  {
   "cell_type": "markdown",
   "metadata": {},
   "source": [
    "## 2. Evaluate a Linear Regression model using 10-fold cross-validation\n",
    "\n",
    "Create a Linear Regression model and assign it to a variable with name **`lr`**.   \n",
    "http://scikit-learn.org/stable/modules/linear_model.html#ordinary-least-squares\n",
    "\n",
    "Create a cross validation generator with 10 folds. Set the parameter **`shuffle`** to **`True`**, in order to shuffle the data before creating the folds. Set the parameter **`random_state`** to 0 to create always the same combination of folds.\n",
    "Assign it to a variable with name **`cv`**.   \n",
    "http://scikit-learn.org/stable/modules/cross_validation.html#k-fold\n",
    "\n",
    "Use the function **`cross_val_score`** to evaluate the model using the cross validator. This function returns a list of scores.   \n",
    "http://scikit-learn.org/stable/modules/cross_validation.html#computing-cross-validated-metrics\n",
    "\n",
    "Finally, print the mean and standard deviation of the scores."
   ]
  },
  {
   "cell_type": "code",
   "execution_count": 20,
   "metadata": {},
   "outputs": [
    {
     "name": "stdout",
     "output_type": "stream",
     "text": [
      "KFold(n_splits=10, random_state=0, shuffle=True)\n",
      "<class 'sklearn.model_selection._split.KFold'>\n"
     ]
    }
   ],
   "source": [
    "# YOUR CODE HERE\n",
    "#dataset composto dalla features matrix X e target Y,\n",
    "#dividiamo il dataset in 10 parti, ogni volta prendiamo un fold come\n",
    "#dataset di validazione e gli altri come trainingset\n",
    "# --> usiamo tutti i dati per fare training, e tutti i dati come controllo\n",
    "\n",
    "#vai sui link sopra per vedere la documentaizone: classe K-Fold:\n",
    "#c'è il parametro shuffle. 0 (False): non mischia i dati, \n",
    "#shuffle=1 (True): li mischia\n",
    "\n",
    "# funzione cross_val_score: vedi i parametri. Divide il dataset, fa il trainin\n",
    "#con una parte e la validazione con l'atra, n volte. (fa tutta la cross\n",
    "#validation da sola)\n",
    "\n",
    "from sklearn.linear_model import LinearRegression\n",
    "from sklearn.model_selection import KFold, cross_val_score\n",
    "\n",
    "lr = LinearRegression() \n",
    "\n",
    "cv = KFold( n_splits=10, shuffle=True, random_state=0) #crossvalidation\n",
    "cv.get_n_splits(X.shape[0])\n",
    "\n",
    "print (cv)\n",
    "\n",
    "print (type(cv))\n",
    "scores = cross_val_score(lr, X, y, cv=cv)\n",
    "#se non passiamo nesuna funzione di validazione a cross_val_score, succede\n",
    "#che viene usata di default quella del modello. in questo caso quella di lr\n",
    "\n",
    "#in tutti i modelli c'è un metodo chiamato score\n",
    "\n",
    "############################################\n",
    "# non ho il pcchetto model_selection !!! devo scaricare la versione più\n",
    "# aggiornata di anaconda\n",
    "#############################################"
   ]
  },
  {
   "cell_type": "code",
   "execution_count": 24,
   "metadata": {},
   "outputs": [
    {
     "data": {
      "text/plain": [
       "array([0.35720577, 0.2716695 , 0.5484652 , 0.36636058, 0.58562806,\n",
       "       0.46895863, 0.52219171, 0.5063803 , 0.6621795 , 0.54962916])"
      ]
     },
     "execution_count": 24,
     "metadata": {},
     "output_type": "execute_result"
    }
   ],
   "source": [
    "scores"
   ]
  },
  {
   "cell_type": "code",
   "execution_count": 25,
   "metadata": {},
   "outputs": [
    {
     "name": "stdout",
     "output_type": "stream",
     "text": [
      "0.4838668390667108\n",
      "0.11301537460659494\n"
     ]
    }
   ],
   "source": [
    "print (np.mean(scores))\n",
    "print (np.std(scores))"
   ]
  },
  {
   "cell_type": "code",
   "execution_count": 26,
   "metadata": {},
   "outputs": [],
   "source": [
    "#se vado su sklearn, model_selection, trovo il pacchetto metrics:\n",
    "#interessanti: per la parte di regressione possiamo utilizzare:\n",
    "#-MeanAbsoluteError. possiamo trasformare questo valore di errore in score,\n",
    "#semplicemente facendo *-1\n",
    "#-MeanSquareError --> stessa cosa\n",
    "#queste indicano un buon modello se sono vicine a zero\n",
    "#r^2 --> indica buon modello se è vicina a 1. Vai a vedere sulle librerie\n",
    "#come è calcolato.\n"
   ]
  },
  {
   "cell_type": "markdown",
   "metadata": {},
   "source": [
    "## 3. Redo the same evaluation, this time using the Mean Squared Error as score function\n",
    "\n",
    "Check which score function is used by the validator by default.\n",
    "\n",
    "Create a new scorer function that calculates the Mean Squared Error. You can use the function **`mean_squared_error`** from sklearn:   \n",
    "http://scikit-learn.org/stable/modules/model_evaluation.html#the-scoring-parameter-defining-model-evaluation-rules\n",
    "\n",
    "Use again the function **`cross_val_score`** to evaluate the model using the cross validator and the new scorer.\n",
    "\n",
    "Finally, print the mean and standard deviation of the new scores."
   ]
  },
  {
   "cell_type": "code",
   "execution_count": 28,
   "metadata": {},
   "outputs": [
    {
     "name": "stdout",
     "output_type": "stream",
     "text": [
      "Returns the coefficient of determination R^2 of the prediction.\n",
      "\n",
      "        The coefficient R^2 is defined as (1 - u/v), where u is the residual\n",
      "        sum of squares ((y_true - y_pred) ** 2).sum() and v is the total\n",
      "        sum of squares ((y_true - y_true.mean()) ** 2).sum().\n",
      "        The best possible score is 1.0 and it can be negative (because the\n",
      "        model can be arbitrarily worse). A constant model that always\n",
      "        predicts the expected value of y, disregarding the input features,\n",
      "        would get a R^2 score of 0.0.\n",
      "\n",
      "        Parameters\n",
      "        ----------\n",
      "        X : array-like, shape = (n_samples, n_features)\n",
      "            Test samples. For some estimators this may be a\n",
      "            precomputed kernel matrix instead, shape = (n_samples,\n",
      "            n_samples_fitted], where n_samples_fitted is the number of\n",
      "            samples used in the fitting for the estimator.\n",
      "\n",
      "        y : array-like, shape = (n_samples) or (n_samples, n_outputs)\n",
      "            True values for X.\n",
      "\n",
      "        sample_weight : array-like, shape = [n_samples], optional\n",
      "            Sample weights.\n",
      "\n",
      "        Returns\n",
      "        -------\n",
      "        score : float\n",
      "            R^2 of self.predict(X) wrt. y.\n",
      "        \n"
     ]
    }
   ],
   "source": [
    "print(lr.score.__doc__)"
   ]
  },
  {
   "cell_type": "code",
   "execution_count": 29,
   "metadata": {},
   "outputs": [
    {
     "name": "stdout",
     "output_type": "stream",
     "text": [
      "[3111.99256241 3766.9951443  2346.2970198  3501.04731142 2651.32867422\n",
      " 3359.19876335 2644.81205146 3098.28031011 2254.54473914 3117.78614971]\n",
      "2985.228272592277\n",
      "472.5471306514756\n"
     ]
    }
   ],
   "source": [
    "# YOUR CODE HERE\n",
    "from sklearn.linear_model import LinearRegression\n",
    "from sklearn.model_selection import KFold, cross_val_score\n",
    "from sklearn.metrics import mean_squared_error, make_scorer\n",
    "\n",
    "lr = LinearRegression() \n",
    "cv = KFold(n_splits=10, shuffle=True, random_state=0) #crossvalidation\n",
    "scores = cross_val_score(lr, X, y, cv=cv, \n",
    "                         scoring=make_scorer(mean_squared_error))\n",
    "     #si può usare anche: scoring = 'neg_mean_squared_error\n",
    "\n",
    "print (scores)\n",
    "print (np.mean(scores))\n",
    "print (np.std(scores))"
   ]
  },
  {
   "cell_type": "code",
   "execution_count": 30,
   "metadata": {},
   "outputs": [],
   "source": [
    "? make_scorer()"
   ]
  },
  {
   "cell_type": "markdown",
   "metadata": {},
   "source": [
    "## 4. Evaluate a Lasso model using 10-fold cross-validation\n",
    "\n",
    "Create a Lasso model with default parameters and assign it to a variable with name **`lasso`**.   \n",
    "http://scikit-learn.org/stable/modules/linear_model.html#lasso\n",
    "\n",
    "Create a cross validation generator with 10 folds. Set the parameter **`shuffle`** to **`True`**, in order to shuffle the data before creating the folds. Set the parameter **`random_state`** to 0 to create always the same combination of folds.\n",
    "Assign it to a variable with name **`cv`**.   \n",
    "http://scikit-learn.org/stable/modules/cross_validation.html#k-fold\n",
    "\n",
    "Use the function **`cross_val_score`** to evaluate the model using the cross validator.\n",
    "Use the scorer function that calculates the Mean Squared Error to calculate the scores.   \n",
    "http://scikit-learn.org/stable/modules/cross_validation.html#computing-cross-validated-metrics\n",
    "\n",
    "Finally, print the mean and standard deviation of the scores."
   ]
  },
  {
   "cell_type": "code",
   "execution_count": 31,
   "metadata": {},
   "outputs": [
    {
     "name": "stdout",
     "output_type": "stream",
     "text": [
      "-3864.0222424285066\n",
      "374.3830870563493\n"
     ]
    }
   ],
   "source": [
    "# YOUR CODE HERE\n",
    "from sklearn.linear_model import Lasso\n",
    "from sklearn.model_selection import KFold, cross_val_score\n",
    "from sklearn.metrics import mean_squared_error, make_scorer\n",
    "\n",
    "lasso = Lasso() \n",
    "cv = KFold(n_splits=10, shuffle=True, random_state=0) #crossvalidation\n",
    "scores = cross_val_score(lasso, X, y, cv=cv, \n",
    "                         scoring='neg_mean_squared_error')\n",
    "\n",
    "print (np.mean(scores))\n",
    "print (np.std(scores))\n",
    "\n",
    "#questo modello risulta peggiore del precedente, però non abbiamo cercato\n",
    "#il valore migliore del parametro alfa di regolarizazione.\n",
    "#lo facciamo nel prossimo esercizio"
   ]
  },
  {
   "cell_type": "markdown",
   "metadata": {},
   "source": [
    "Compare the average scores of the Lasso model with the LinearRegression. Is it better? Why?"
   ]
  },
  {
   "cell_type": "markdown",
   "metadata": {},
   "source": [
    "## 5. Find the best regularization parameter for a Lasso model using 10-fold cross-validation\n",
    "\n",
    "Create a Lasso model with default parameters and assign it to a variable with name **`lasso`**.   \n",
    "http://scikit-learn.org/stable/modules/linear_model.html#lasso\n",
    "\n",
    "Create a list of values for the regularization parameter (alpha) starting from $10^{-4}$ to $10^{-0.5}$, spaced evenly on a log scale.\n",
    "\n",
    "For each value of alpha, set the model parameter **`alpha`** to this value, calculate the 10-fold cross-validation scores, and add the average score to a list with name **`scores`**."
   ]
  },
  {
   "cell_type": "code",
   "execution_count": 32,
   "metadata": {},
   "outputs": [
    {
     "data": {
      "text/plain": [
       "array([1.00000000e-04, 2.44843675e-04, 5.99484250e-04, 1.46779927e-03,\n",
       "       3.59381366e-03, 8.79922544e-03, 2.15443469e-02, 5.27499706e-02,\n",
       "       1.29154967e-01, 3.16227766e-01])"
      ]
     },
     "execution_count": 32,
     "metadata": {},
     "output_type": "execute_result"
    }
   ],
   "source": [
    "np.logspace(-4, -0.5, 10)\n",
    "#funzione utile per esplorare uno spazio da valori molto piccoli a valori\n",
    "#molto alti. \n",
    "\n",
    "#questa è la lista di alfa che andremo a esplorare"
   ]
  },
  {
   "cell_type": "code",
   "execution_count": 33,
   "metadata": {},
   "outputs": [
    {
     "name": "stdout",
     "output_type": "stream",
     "text": [
      "3117.225341865959\n",
      "221.0186496111267\n"
     ]
    }
   ],
   "source": [
    "# YOUR CODE HERE\n",
    "from sklearn.linear_model import Lasso\n",
    "from sklearn.model_selection import KFold, cross_val_score\n",
    "from sklearn.metrics import mean_squared_error, make_scorer\n",
    "\n",
    "\n",
    "cv = KFold(n_splits=10, shuffle=True, random_state=0) #crossvalidation\n",
    "scores = []\n",
    "\n",
    "#ciclo sugli alfa per sondare lo spazio degli iperparametri\n",
    "alphas = np.logspace(-2, 0, 30)\n",
    "for alpha in alphas:\n",
    "    lasso = Lasso(alpha = alpha) \n",
    "    scores.append(np.mean(cross_val_score(lasso, X, y, cv=cv, \n",
    "                         scoring= make_scorer(mean_squared_error))))\n",
    "\n",
    "print (np.mean(scores))\n",
    "print (np.std(scores))\n"
   ]
  },
  {
   "cell_type": "markdown",
   "metadata": {},
   "source": [
    "Finally, let's plot the scores and print the best regularization parameter."
   ]
  },
  {
   "cell_type": "code",
   "execution_count": 34,
   "metadata": {},
   "outputs": [
    {
     "name": "stdout",
     "output_type": "stream",
     "text": [
      "2981.4247373941193\n",
      "Best alpha: 0.04893900918477494\n"
     ]
    },
    {
     "data": {
      "image/png": "[encoded data removed]",
      "text/plain": [
       "<Figure size 576x432 with 1 Axes>"
      ]
     },
     "metadata": {
      "needs_background": "light"
     },
     "output_type": "display_data"
    }
   ],
   "source": [
    "# Facciamo un plot con scala log sulle x perchè abbiamo utilizzato uno spacing logaritmico nella ricerca\n",
    "# del parametro alfa ottimale\n",
    "\n",
    "figure(figsize=(8, 6))\n",
    "semilogx(alphas, scores)\n",
    "ylabel('CV score (MSE)')\n",
    "xlabel('alpha')\n",
    "axhline(np.min(scores), linestyle='--', color='.5')\n",
    "\n",
    "print (np.min(scores))\n",
    "print ('Best alpha:', alphas[np.argmin(scores)])\n"
   ]
  },
  {
   "cell_type": "code",
   "execution_count": 37,
   "metadata": {},
   "outputs": [
    {
     "name": "stdout",
     "output_type": "stream",
     "text": [
      "[1.00000000e+00 3.59381366e+00 1.29154967e+01 4.64158883e+01\n",
      " 1.66810054e+02 5.99484250e+02 2.15443469e+03 7.74263683e+03\n",
      " 2.78255940e+04 1.00000000e+05]\n",
      "[0 1 2 3 4 5 6 7 8 9]\n"
     ]
    },
    {
     "data": {
      "text/plain": [
       "[<matplotlib.lines.Line2D at 0x11254f198>]"
      ]
     },
     "execution_count": 37,
     "metadata": {},
     "output_type": "execute_result"
    },
    {
     "data": {
      "image/png": "[encoded data removed]",
      "text/plain": [
       "<Figure size 432x288 with 1 Axes>"
      ]
     },
     "metadata": {
      "needs_background": "light"
     },
     "output_type": "display_data"
    }
   ],
   "source": [
    "#PROVE\n",
    "\n",
    "x = logspace(0, 5, 10)\n",
    "y = arange(10)\n",
    "print(x)\n",
    "print(y)\n",
    "semilogx(x,y)"
   ]
  },
  {
   "cell_type": "code",
   "execution_count": null,
   "metadata": {
    "collapsed": true
   },
   "outputs": [],
   "source": []
  }
 ],
 "metadata": {
  "kernelspec": {
   "display_name": "Python 3",
   "language": "python",
   "name": "python3"
  },
  "language_info": {
   "codemirror_mode": {
    "name": "ipython",
    "version": 3
   },
   "file_extension": ".py",
   "mimetype": "text/x-python",
   "name": "python",
   "nbconvert_exporter": "python",
   "pygments_lexer": "ipython3",
   "version": "3.7.0"
  }
 },
 "nbformat": 4,
 "nbformat_minor": 1
}
