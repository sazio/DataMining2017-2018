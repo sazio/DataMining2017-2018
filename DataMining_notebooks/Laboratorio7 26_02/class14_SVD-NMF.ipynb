{
 "cells": [
  {
   "cell_type": "markdown",
   "metadata": {},
   "source": [
    "---\n",
    "\n",
    "# Data Mining:<br>Statistical Modeling and Learning from Data\n",
    "\n",
    "## Dr. Ciro Cattuto<br>Dr. Laetitia Gauvin<br>Dr. André Panisson\n",
    "\n",
    "### Exercises - SVD versus NMF\n",
    "\n",
    "---"
   ]
  },
  {
   "cell_type": "code",
   "execution_count": 1,
   "metadata": {},
   "outputs": [],
   "source": [
    "import sklearn\n",
    "import numpy as np\n",
    "from scipy.linalg import svd"
   ]
  },
  {
   "cell_type": "code",
   "execution_count": 22,
   "metadata": {},
   "outputs": [],
   "source": [
    "A = np.matrix([[1,1,1,1,1],\n",
    "               [0,1,0,1,0],\n",
    "               [0,1,0,1,0]])"
   ]
  },
  {
   "cell_type": "code",
   "execution_count": 23,
   "metadata": {},
   "outputs": [
    {
     "data": {
      "text/plain": [
       "matrix([[1, 1, 1, 1, 1],\n",
       "        [0, 1, 0, 1, 0],\n",
       "        [0, 1, 0, 1, 0]])"
      ]
     },
     "execution_count": 23,
     "metadata": {},
     "output_type": "execute_result"
    }
   ],
   "source": [
    "A"
   ]
  },
  {
   "cell_type": "markdown",
   "metadata": {},
   "source": [
    "# Singular Value Decomposition"
   ]
  },
  {
   "cell_type": "code",
   "execution_count": 4,
   "metadata": {},
   "outputs": [],
   "source": [
    "U, S, Vh = svd(A, full_matrices=False) \n",
    "# full_matrices = False --> significa che U e Vh non sono quadrate: U: nxk,   Vh: kxm"
   ]
  },
  {
   "cell_type": "markdown",
   "metadata": {},
   "source": [
    "#Singular vectors and diagonal matrix"
   ]
  },
  {
   "cell_type": "code",
   "execution_count": 5,
   "metadata": {},
   "outputs": [
    {
     "data": {
      "text/plain": [
       "array([[-7.66184591e-01,  6.42620551e-01,  1.60393107e-16],\n",
       "       [-4.54401349e-01, -5.41774320e-01, -7.07106781e-01],\n",
       "       [-4.54401349e-01, -5.41774320e-01,  7.07106781e-01]])"
      ]
     },
     "execution_count": 5,
     "metadata": {},
     "output_type": "execute_result"
    }
   ],
   "source": [
    "U"
   ]
  },
  {
   "cell_type": "code",
   "execution_count": 6,
   "metadata": {},
   "outputs": [
    {
     "name": "stdout",
     "output_type": "stream",
     "text": [
      "[2.71519453e+00 1.27582079e+00 3.49481942e-17]\n",
      "\n",
      " shape: (3,)\n"
     ]
    }
   ],
   "source": [
    "print (S)\n",
    "# il terzo valore è praticamente zero\n",
    "# ==> per riottenere la matrice originale scarteremo questa dimensione \n",
    "print (\"\\n shape:\", S.shape)"
   ]
  },
  {
   "cell_type": "code",
   "execution_count": 7,
   "metadata": {},
   "outputs": [
    {
     "data": {
      "text/plain": [
       "array([[-0.28218405, -0.61689403, -0.28218405, -0.61689403, -0.28218405],\n",
       "       [ 0.50369186, -0.34560347,  0.50369186, -0.34560347,  0.50369186],\n",
       "       [-0.28130665,  0.66381468,  0.14065332, -0.66381468,  0.14065332]])"
      ]
     },
     "execution_count": 7,
     "metadata": {},
     "output_type": "execute_result"
    }
   ],
   "source": [
    "Vh"
   ]
  },
  {
   "cell_type": "code",
   "execution_count": 8,
   "metadata": {},
   "outputs": [
    {
     "name": "stdout",
     "output_type": "stream",
     "text": [
      "[[0.587 1.283 0.587 1.283 0.587]\n",
      " [0.348 0.761 0.348 0.761 0.348]\n",
      " [0.348 0.761 0.348 0.761 0.348]]\n",
      "\n",
      "[[ 0.413 -0.283  0.413 -0.283  0.413]\n",
      " [-0.348  0.239 -0.348  0.239 -0.348]\n",
      " [-0.348  0.239 -0.348  0.239 -0.348]]\n"
     ]
    }
   ],
   "source": [
    "c1 = (U[:,0]*S[0])[:, np.newaxis].dot(Vh[[0],:])\n",
    "# calcolo: prima riga di U * S[0], trasformo in vett. colonna, moltiplico per prima riga di Vh\n",
    "c2 = (U[:,1]*S[1])[:, np.newaxis].dot(Vh[[1],:])\n",
    "\n",
    "#non calcolo c3 --> trascuro informazione di k=3\n",
    "\n",
    "print (c1.round(3))\n",
    "print (\"\")\n",
    "print (c2.round(3))\n",
    "\n",
    "## Le prime due direzioni principali portano tutta l'informazione sostanzialmente "
   ]
  },
  {
   "cell_type": "code",
   "execution_count": 9,
   "metadata": {},
   "outputs": [
    {
     "data": {
      "text/plain": [
       "array([[1., 1., 1., 1., 1.],\n",
       "       [0., 1., 0., 1., 0.],\n",
       "       [0., 1., 0., 1., 0.]])"
      ]
     },
     "execution_count": 9,
     "metadata": {},
     "output_type": "execute_result"
    }
   ],
   "source": [
    "(c1+c2).round(5)\n",
    "# sommo le due componenti, vedo che riottengo la matrice originale\n",
    "# vuol dire che non ho perso informazione, cioè ho fatto bene a trascurare \n",
    "# la terza dimensione.\n",
    "\n",
    "# l'operazione che abbiamo fatto è:\n",
    "# X = U S V , guardando le dimensioni: nxm = nxk kxk kxm"
   ]
  },
  {
   "cell_type": "markdown",
   "metadata": {},
   "source": [
    "# Non-negative Matrix Factorization"
   ]
  },
  {
   "cell_type": "code",
   "execution_count": 9,
   "metadata": {},
   "outputs": [],
   "source": [
    "from sklearn.decomposition import NMF\n",
    "\n",
    "# qua avrò: X = L R ,guardando alla dimensione: nxd = nxk kxd"
   ]
  },
  {
   "cell_type": "code",
   "execution_count": 10,
   "metadata": {},
   "outputs": [],
   "source": [
    "nmf = NMF(n_components=2)\n",
    "\n",
    "# parametro principale è il numero di componenti\n",
    "# voglio considerare 2 componenti"
   ]
  },
  {
   "cell_type": "code",
   "execution_count": 11,
   "metadata": {},
   "outputs": [
    {
     "data": {
      "text/plain": [
       "NMF(alpha=0.0, beta_loss='frobenius', init=None, l1_ratio=0.0, max_iter=200,\n",
       "  n_components=2, random_state=None, shuffle=False, solver='cd',\n",
       "  tol=0.0001, verbose=0)"
      ]
     },
     "execution_count": 11,
     "metadata": {},
     "output_type": "execute_result"
    }
   ],
   "source": [
    "nmf.fit(A)\n",
    "#creo l'oggetto"
   ]
  },
  {
   "cell_type": "code",
   "execution_count": 12,
   "metadata": {},
   "outputs": [],
   "source": [
    "R = nmf.components_     #matrice di fattorizzazione"
   ]
  },
  {
   "cell_type": "code",
   "execution_count": 13,
   "metadata": {},
   "outputs": [
    {
     "data": {
      "text/plain": [
       "array([[0.   , 1.191, 0.   , 1.191, 0.   ],\n",
       "       [0.905, 0.   , 0.905, 0.   , 0.905]])"
      ]
     },
     "execution_count": 13,
     "metadata": {},
     "output_type": "execute_result"
    }
   ],
   "source": [
    "R.round(3)\n",
    "\n",
    "#abbiamo solo valori non negativi\n",
    "# R ha dimensione 2x5 = kxd\n",
    "\n",
    "# primo componente è fatto solo dalla seconda e quarta feature. il secondo \n",
    "#componente fatto dagli altri 3"
   ]
  },
  {
   "cell_type": "code",
   "execution_count": 14,
   "metadata": {},
   "outputs": [],
   "source": [
    "L=nmf.transform(A)  "
   ]
  },
  {
   "cell_type": "code",
   "execution_count": 15,
   "metadata": {},
   "outputs": [
    {
     "data": {
      "text/plain": [
       "array([[0.83940195, 1.10509402],\n",
       "       [0.83940195, 0.        ],\n",
       "       [0.83940195, 0.        ]])"
      ]
     },
     "execution_count": 15,
     "metadata": {},
     "output_type": "execute_result"
    }
   ],
   "source": [
    "L\n",
    "\n",
    "# dimensione 3x2 = nxk\n",
    "\n",
    "# seconda componente appartiene solo al primo punto\n",
    "# prima componente appartiene a tutti i punti"
   ]
  },
  {
   "cell_type": "code",
   "execution_count": 25,
   "metadata": {},
   "outputs": [
    {
     "data": {
      "text/plain": [
       "matrix([[0., 1., 0., 1., 0.],\n",
       "        [0., 1., 0., 1., 0.],\n",
       "        [0., 1., 0., 1., 0.]])"
      ]
     },
     "execution_count": 25,
     "metadata": {},
     "output_type": "execute_result"
    }
   ],
   "source": [
    "A1 = np.round(np.matrix(L)[:,0]*np.matrix(R)[0,:])\n",
    "A1\n",
    "# prima \"parte\" della matrice A: sto facendo  L[*1]R[1*]"
   ]
  },
  {
   "cell_type": "code",
   "execution_count": 26,
   "metadata": {},
   "outputs": [
    {
     "data": {
      "text/plain": [
       "matrix([[1., 0., 1., 0., 1.],\n",
       "        [0., 0., 0., 0., 0.],\n",
       "        [0., 0., 0., 0., 0.]])"
      ]
     },
     "execution_count": 26,
     "metadata": {},
     "output_type": "execute_result"
    }
   ],
   "source": [
    "A2 = np.round(np.matrix(L)[:,1]*np.matrix(R)[1,:])\n",
    "A2\n",
    "# L[*2]R[2*]"
   ]
  },
  {
   "cell_type": "code",
   "execution_count": 27,
   "metadata": {},
   "outputs": [
    {
     "data": {
      "text/plain": [
       "matrix([[ True,  True,  True,  True,  True],\n",
       "        [ True,  True,  True,  True,  True],\n",
       "        [ True,  True,  True,  True,  True]])"
      ]
     },
     "execution_count": 27,
     "metadata": {},
     "output_type": "execute_result"
    }
   ],
   "source": [
    "A == A1 + A2 # ok funziona "
   ]
  },
  {
   "cell_type": "code",
   "execution_count": null,
   "metadata": {},
   "outputs": [],
   "source": []
  }
 ],
 "metadata": {
  "kernelspec": {
   "display_name": "Python 3",
   "language": "python",
   "name": "python3"
  },
  "language_info": {
   "codemirror_mode": {
    "name": "ipython",
    "version": 3
   },
   "file_extension": ".py",
   "mimetype": "text/x-python",
   "name": "python",
   "nbconvert_exporter": "python",
   "pygments_lexer": "ipython3",
   "version": "3.7.0"
  }
 },
 "nbformat": 4,
 "nbformat_minor": 1
}
