{
 "cells": [
  {
   "cell_type": "markdown",
   "metadata": {},
   "source": [
    "---\n",
    "\n",
    "# Data Mining:<br>Statistical Modeling and Learning from Data\n",
    "\n",
    "## Dr. Ciro Cattuto<br>Dr. Laetitia Gauvin<br>Dr. André Panisson\n",
    "\n",
    "### Exercises - Logistic Regression\n",
    "\n",
    "---"
   ]
  },
  {
   "cell_type": "code",
   "execution_count": 7,
   "metadata": {},
   "outputs": [
    {
     "name": "stdout",
     "output_type": "stream",
     "text": [
      "Populating the interactive namespace from numpy and matplotlib\n"
     ]
    }
   ],
   "source": [
    "%pylab inline"
   ]
  },
  {
   "cell_type": "markdown",
   "metadata": {},
   "source": [
    "## Generating data\n",
    "\n",
    "In the following, we generated 50 samples from a bivariate Gaussian distribution $\\mathcal{ N } ((2, 0)^T , I)$ and labeled this class\n",
    "**RED**. Similarly, 50 more were drawn from $ \\mathcal{N} ((0, 2)^T , I)$ and labeled class **GREEN**."
   ]
  },
  {
   "cell_type": "code",
   "execution_count": 10,
   "metadata": {},
   "outputs": [
    {
     "data": {
      "text/plain": [
       "[<matplotlib.lines.Line2D at 0x10d4eb438>]"
      ]
     },
     "execution_count": 10,
     "metadata": {},
     "output_type": "execute_result"
    },
    {
     "data": {
      "image/png": "[encoded data removed]",
      "text/plain": [
       "<Figure size 360x360 with 1 Axes>"
      ]
     },
     "metadata": {
      "needs_background": "light"
     },
     "output_type": "display_data"
    }
   ],
   "source": [
    "np.random.seed(2) \n",
    "\n",
    "nr_samples = 100\n",
    "\n",
    "# Generate 10 means from two bivariate Gaussian distributions\n",
    "samples_red   = np.random.multivariate_normal(mean=(0,2), cov=np.identity(2),\n",
    "                     size=nr_samples//2) \n",
    "samples_green = np.random.multivariate_normal(mean=(2,0), \n",
    "                    cov=np.identity(2), size=nr_samples//2)\n",
    "\n",
    "#genero 50 punti rossi, seguendo una distribuzione gaussiana bivariata \n",
    "#(cioè una gaussiana 2D, con due variabili), con media in (0,2) e \n",
    "#covarianza = identità. Genero anche 50 punti verdi, secondo una distrib.\n",
    "#bivariata centrata in (2,0)\n",
    "\n",
    "\n",
    "#queste due variabili sono matrici 50x2: ogni punto ha due coordinate \n",
    "#che lo individuano\n",
    "\n",
    "# Join the red and green datasets as X and the class definitions as y\n",
    "\n",
    "X = np.concatenate([samples_red, samples_green]) #unica matrice 100x2 che \n",
    "                                                 #contiene tutti i punti\n",
    "y = np.zeros(nr_samples, dtype=int) #creo y = vettore di zeri\n",
    "y[nr_samples//2:] = 1  #i primi 50 punti valgono 0, gli altri 50 valgono 1\n",
    "\n",
    "# plot the red and green class points\n",
    "figure(num=None, figsize=(5, 5))\n",
    "plot(samples_red[:,0], samples_red[:,1], 'o', mec='r', mfc='none')\n",
    "plot(samples_green[:,0], samples_green[:,1], 'o', mec='g', mfc='none')\n"
   ]
  },
  {
   "cell_type": "markdown",
   "metadata": {},
   "source": [
    "# Exercises"
   ]
  },
  {
   "cell_type": "markdown",
   "metadata": {},
   "source": [
    "## Exercise 1: Logistic Regression\n",
    "\n",
    "Find the weight values $\\mathbf{w}$ that minimize the error \n",
    "\n",
    "$$E_{\\mathbf{in}}(\\mathbf{w}) = \\frac{1}{N} \\sum_{n=1}^N \n",
    "{ln(1 + e^{-\\mathbf{y}_n\\mathbf{w}^T\\mathbf{x}_n})}$$\n",
    "\n",
    "For this, implement the Gradient Descent algorithm with $\\mathbf{s}$ learning steps and learning rate $\\alpha$.  \n",
    "At each training step, update $\\mathbf{w}$ with this rule:\n",
    "\n",
    "$$\\mathbf{w}_i := \\mathbf{w}_i - \\alpha \\Delta E_{\\mathbf{in}} $$\n",
    "\n",
    "where\n",
    "\n",
    "$$\\nabla E_{\\mathbf{in}} = - \\frac{1}{N} \\sum_{n=1}^N \n",
    "{\\frac{\\mathbf{y}_n\\mathbf{x}_n}{1 + e^{\\mathbf{y}_n\\mathbf{w}^T\\mathbf{x}_n}}}$$"
   ]
  },
  {
   "cell_type": "code",
   "execution_count": 12,
   "metadata": {},
   "outputs": [],
   "source": [
    "# prepare the dataset for the matrix manipulations\n",
    "Xext = np.insert(X, 0, ones(len(X)), axis=1) #X estesa, con prima colonna di 1\n",
    "                                             #X è una matrice 100x3\n",
    "y[y==0] = -1\n",
    "\n",
    "N = Xext.shape[0] #numero punti = num righe della matrice Xext = 100\n",
    "d = Xext.shape[1] #numero di caratteristiche = num colonne = 3\n",
    "s = 2000 # learning steps --> passi nella discesa del gradiente\n",
    "alpha = 10 # learning rate\n",
    "\n",
    "w = zeros(d)\n",
    "\n",
    "# YOUR CODE HERE\n",
    "for step in range(s):\n",
    "    deltaE = zeros(d)  #inizializzo il  gradiente: vett. di 3 componenti (a zero)\n",
    "    for n in range(N):\n",
    "        deltaE = deltaE + (y[n]*Xext[n]) / (1 + np.exp(y[n]*w.T.dot(Xext[n]))) \n",
    "    w = w + alpha*deltaE/N\n",
    "    if np.linalg.norm(deltaE) < 1e-4:\n",
    "        break\n"
   ]
  },
  {
   "cell_type": "code",
   "execution_count": 13,
   "metadata": {},
   "outputs": [
    {
     "data": {
      "text/plain": [
       "array([ 6.43561594e-05, -7.13938397e-05,  2.78952197e-06])"
      ]
     },
     "execution_count": 13,
     "metadata": {},
     "output_type": "execute_result"
    }
   ],
   "source": [
    "deltaE  #verifico che valori ha il gradiente, se sono praticamente zero vuol\n",
    "        #dire che sono davvero al minimo"
   ]
  },
  {
   "cell_type": "code",
   "execution_count": 14,
   "metadata": {},
   "outputs": [
    {
     "data": {
      "text/plain": [
       "9.615912351088668e-05"
      ]
     },
     "execution_count": 14,
     "metadata": {},
     "output_type": "execute_result"
    }
   ],
   "source": [
    "#ancora meglio: verifichiamo la norma del gradiente:\n",
    "np.linalg.norm(deltaE)\n",
    "\n",
    "#nomrmalemente si ha un numero di passi molto alto, e ad ogni passo verifico\n",
    "#se la norma è sotto un certo valore. Quindi solitamente mi fermo molto prima \n",
    "#di fare migliaia di passi."
   ]
  },
  {
   "cell_type": "code",
   "execution_count": 15,
   "metadata": {},
   "outputs": [
    {
     "data": {
      "text/plain": [
       "178"
      ]
     },
     "execution_count": 15,
     "metadata": {},
     "output_type": "execute_result"
    }
   ],
   "source": [
    "step #mi sono bastati 178 passi per avere un gradiente con norma < 10^-4"
   ]
  },
  {
   "cell_type": "code",
   "execution_count": 16,
   "metadata": {},
   "outputs": [
    {
     "data": {
      "text/plain": [
       "array([-1.49789092,  3.37948789, -1.41264048])"
      ]
     },
     "execution_count": 16,
     "metadata": {},
     "output_type": "execute_result"
    }
   ],
   "source": [
    "w #pesi che determinano la funzioe del mio modello"
   ]
  },
  {
   "cell_type": "markdown",
   "metadata": {},
   "source": [
    "Here we visualize the area which is classified as RED and GREEN"
   ]
  },
  {
   "cell_type": "code",
   "execution_count": 19,
   "metadata": {},
   "outputs": [
    {
     "data": {
      "text/plain": [
       "[<matplotlib.lines.Line2D at 0x10e7f95c0>]"
      ]
     },
     "execution_count": 19,
     "metadata": {},
     "output_type": "execute_result"
    },
    {
     "data": {
      "image/png": "[encoded data removed]",
      "text/plain": [
       "<Figure size 360x360 with 1 Axes>"
      ]
     },
     "metadata": {
      "needs_background": "light"
     },
     "output_type": "display_data"
    }
   ],
   "source": [
    "# define the logistic function\n",
    "def l(x):\n",
    "    return 1. / (1. + exp(-x))\n",
    "\n",
    "# define a colormap to colorize the class areas\n",
    "cmap = matplotlib.colors.LinearSegmentedColormap.from_list('colormap',['#FFC0C0', '#C0FFC0'])\n",
    "\n",
    "# create a mesh of points that cover the full graph area\n",
    "x_min, x_max = X[:, 0].min() - .5, X[:, 0].max() + .5\n",
    "y_min, y_max = X[:, 1].min() - .5, X[:, 1].max() + .5\n",
    "h = .02  # step size in the mesh\n",
    "xx, yy = np.meshgrid(np.arange(x_min, x_max, h),\n",
    "            np.arange(y_min, y_max, h))\n",
    "\n",
    "# use the classifier to predict the class of each mesh point\n",
    "Xtest = np.c_[xx.ravel(), yy.ravel()]  #prendiamo il grafico, tutti i punti del grafico sono messi su una griglia e \n",
    "                                       #poi con colormesh andiamo a colorare pezzi di grafico in base \n",
    "                                       # alla classificazione che diamo\n",
    "        \n",
    "Xext = np.insert(Xtest, 0, ones(len(Xtest)), axis=1)\n",
    "Z = l(Xext.dot(w)) # --> applico la regressione logistica a Xext.dot(w)\n",
    "Z[Z>0.5] = 1 #gli elementi maggiori di 0.5 vengono sostituiti con 1\n",
    "Z[Z<=0.5] = 0 \n",
    "#la nostra g(x) è la funzione logistica, che valuta i notri punti. poi noi\n",
    "#applichiamo una soglia a questi risultati per vedere la classe predetta (+-1)\n",
    "\n",
    "#per vedere non solo la classe predetta, ma proprio la probabilità, dobbiamo\n",
    "#togliere questa soglia.\n",
    "\n",
    "#proviamo a silenziare queste due righe sopra. --> vedremo il plot sfumato,\n",
    "#c'è una zona di incertezza\n",
    "\n",
    "# colorize the graph using the class of each mesh point\n",
    "Z = Z.reshape(xx.shape) #Z è un vettore 1D con 180441 punti, infatti \n",
    "                        #Z = l(Xext.dot(w)): Xext = 180441x3, w = 3x1\n",
    "                        #quindi Xext.dot(w) = 180441x1 = Z\n",
    "                        # adesso risistemo Z in una matrice 369x489\n",
    "figure(figsize=(5, 5))\n",
    "pcolormesh(xx, yy, Z, cmap=cmap)\n",
    "\n",
    "# plot the red and green class points\n",
    "plot(samples_red[:,0], samples_red[:,1], 'ro')#, mec='r', mfc='none')\n",
    "plot(samples_green[:,0], samples_green[:,1], 'go', mec='g')#, #mfc='none')"
   ]
  },
  {
   "cell_type": "code",
   "execution_count": 21,
   "metadata": {},
   "outputs": [
    {
     "name": "stdout",
     "output_type": "stream",
     "text": [
      "[0 1 2 3 4 5 6 7 8 9]\n",
      "[ 0  1  2  3  4  5 99 99 99 99]\n"
     ]
    }
   ],
   "source": [
    "#PROVE\n",
    "\n",
    "x = arange(10)\n",
    "print(x)\n",
    "x[x>5]=99\n",
    "print (x)"
   ]
  },
  {
   "cell_type": "code",
   "execution_count": 22,
   "metadata": {},
   "outputs": [
    {
     "name": "stdout",
     "output_type": "stream",
     "text": [
      "[[1 2 3]\n",
      " [4 5 6]]\n",
      "[1 2 3 4 5 6]\n",
      "[[11 12 13]\n",
      " [14 15 16]]\n",
      "[11 12 13 14 15 16]\n"
     ]
    }
   ],
   "source": [
    "#PROVE\n",
    "\n",
    "a = np.array([[1, 2, 3], [4, 5, 6]])\n",
    "b = a+10\n",
    "print(a)\n",
    "print(a.ravel())\n",
    "print(b)\n",
    "print(b.ravel())\n",
    "c = np.c_[a.ravel(),b.ravel()]"
   ]
  },
  {
   "cell_type": "markdown",
   "metadata": {},
   "source": [
    "## Exercise 2: Logistic Regression with Scikit-Learn\n",
    "\n",
    "Find the values for the parameters $\\mathbf{w}$ using the model sklearn.linear_model.LogisticRegression  \n",
    "http://scikit-learn.org/dev/modules/generated/sklearn.linear_model.LogisticRegression.html"
   ]
  },
  {
   "cell_type": "code",
   "execution_count": 23,
   "metadata": {},
   "outputs": [
    {
     "data": {
      "text/plain": [
       "LogisticRegression(C=1.0, class_weight=None, dual=False, fit_intercept=True,\n",
       "          intercept_scaling=1, max_iter=100, multi_class='warn',\n",
       "          n_jobs=None, penalty='l2', random_state=None, solver='lbfgs',\n",
       "          tol=0.0001, verbose=0, warm_start=False)"
      ]
     },
     "execution_count": 23,
     "metadata": {},
     "output_type": "execute_result"
    }
   ],
   "source": [
    "# YOUR CODE HERE\n",
    "from sklearn.linear_model import LogisticRegression\n",
    "model = LogisticRegression(solver = 'lbfgs')\n",
    "model.fit(X,y)\n",
    "\n",
    "#vai sul link sopra, vedi tutti i parametri che può avere questo modello di \n",
    "#regressione lineare.\n",
    "#es: c --> paramtero importante, tolleranza: sotto quale soglia ci riteniamo \n",
    "#soddisfatti, cioè l'algoritmo si ferma...\n",
    "#noi non abbiamo settato niente, abbiamo cioò usato i parametri di default"
   ]
  },
  {
   "cell_type": "markdown",
   "metadata": {},
   "source": [
    "Again, we visualize the area which is classified as RED and GREEN"
   ]
  },
  {
   "cell_type": "code",
   "execution_count": 24,
   "metadata": {},
   "outputs": [
    {
     "data": {
      "text/plain": [
       "[<matplotlib.lines.Line2D at 0x115045940>]"
      ]
     },
     "execution_count": 24,
     "metadata": {},
     "output_type": "execute_result"
    },
    {
     "data": {
      "image/png": "[encoded data removed]",
      "text/plain": [
       "<Figure size 360x360 with 1 Axes>"
      ]
     },
     "metadata": {
      "needs_background": "light"
     },
     "output_type": "display_data"
    }
   ],
   "source": [
    "# define a colormap to colorize the class areas\n",
    "cmap = matplotlib.colors.LinearSegmentedColormap.from_list('colormap',['#FFC0C0', '#C0FFC0'])\n",
    "\n",
    "# create a mesh of points that cover the full graph area\n",
    "x_min, x_max = X[:, 0].min() - .5, X[:, 0].max() + .5\n",
    "y_min, y_max = X[:, 1].min() - .5, X[:, 1].max() + .5\n",
    "h = .02  # step size in the mesh\n",
    "xx, yy = np.meshgrid(np.arange(x_min, x_max, h),\n",
    "            np.arange(y_min, y_max, h))\n",
    "\n",
    "# use the classifier to predict the class of each mesh point\n",
    "Xtest = np.c_[xx.ravel(), yy.ravel()]\n",
    "Z = model.predict(Xtest) #questo predict restituisce valori -1,1\n",
    "#potremmo usare la funzione predict_proba, non ci dà la classe, ma proprio la\n",
    "#probabilità\n",
    "\n",
    "# colorize the graph using the class of each mesh point\n",
    "Z = Z.reshape(xx.shape)\n",
    "figure(figsize=(5, 5))\n",
    "pcolormesh(xx, yy, Z, cmap=cmap)\n",
    "\n",
    "# plot the red and green class points\n",
    "plot(samples_red[:,0], samples_red[:,1], 'o', mec='r', mfc='none')\n",
    "plot(samples_green[:,0], samples_green[:,1], 'o', mec='g', mfc='none')"
   ]
  },
  {
   "cell_type": "code",
   "execution_count": 25,
   "metadata": {},
   "outputs": [
    {
     "data": {
      "text/plain": [
       "array([-1, -1, -1, ...,  1,  1,  1])"
      ]
     },
     "execution_count": 25,
     "metadata": {},
     "output_type": "execute_result"
    }
   ],
   "source": [
    "model.predict(Xtest)"
   ]
  },
  {
   "cell_type": "code",
   "execution_count": 26,
   "metadata": {},
   "outputs": [
    {
     "data": {
      "text/plain": [
       "array([[9.87278175e-01, 1.27218248e-02],\n",
       "       [9.86743901e-01, 1.32560985e-02],\n",
       "       [9.86187504e-01, 1.38124960e-02],\n",
       "       ...,\n",
       "       [5.14707676e-04, 9.99485292e-01],\n",
       "       [4.93705964e-04, 9.99506294e-01],\n",
       "       [4.73560783e-04, 9.99526439e-01]])"
      ]
     },
     "execution_count": 26,
     "metadata": {},
     "output_type": "execute_result"
    }
   ],
   "source": [
    "model.predict_proba(Xtest)\n",
    "#es: primo punto ha prob 97.5% di essere +1,  prob 2.5% di essere -1"
   ]
  },
  {
   "cell_type": "code",
   "execution_count": 27,
   "metadata": {},
   "outputs": [
    {
     "data": {
      "text/plain": [
       "array([0.01272182, 0.0132561 , 0.0138125 , ..., 0.99948529, 0.99950629,\n",
       "       0.99952644])"
      ]
     },
     "execution_count": 27,
     "metadata": {},
     "output_type": "execute_result"
    }
   ],
   "source": [
    "model.predict_proba(Xtest)[:,1] \n",
    "#predict_proba, però andiamo a vedere solo la prob di essere classe 1"
   ]
  },
  {
   "cell_type": "code",
   "execution_count": null,
   "metadata": {
    "collapsed": true
   },
   "outputs": [],
   "source": []
  }
 ],
 "metadata": {
  "kernelspec": {
   "display_name": "Python 3",
   "language": "python",
   "name": "python3"
  },
  "language_info": {
   "codemirror_mode": {
    "name": "ipython",
    "version": 3
   },
   "file_extension": ".py",
   "mimetype": "text/x-python",
   "name": "python",
   "nbconvert_exporter": "python",
   "pygments_lexer": "ipython3",
   "version": "3.7.0"
  }
 },
 "nbformat": 4,
 "nbformat_minor": 1
}
