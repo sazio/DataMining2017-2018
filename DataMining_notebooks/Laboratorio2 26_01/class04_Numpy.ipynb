{
 "cells": [
  {
   "cell_type": "markdown",
   "metadata": {},
   "source": [
    "---\n",
    "\n",
    "# Data Mining:<br>Statistical Modeling and Learning from Data\n",
    "\n",
    "## Dr. Ciro Cattuto<br>Dr. Laetitia Gauvin<br>Dr. André Panisson\n",
    "\n",
    "### Exercises - Numpy\n",
    "\n",
    "---"
   ]
  },
  {
   "cell_type": "code",
   "execution_count": 1,
   "metadata": {},
   "outputs": [],
   "source": [
    "import numpy as np\n",
    "\n",
    "#funzioni di python che sono implementate in C\n",
    "# ==> velocità di C con interfaccia di python\n",
    "# anche pandas è implementata in C\n",
    "\n",
    "# guarda anche notebook 3b, usa la libreria pandas per fare esercizi che \n",
    "# abbiamo già fatto"
   ]
  },
  {
   "cell_type": "markdown",
   "metadata": {},
   "source": [
    "# Indexing/Slicing Review"
   ]
  },
  {
   "cell_type": "markdown",
   "metadata": {},
   "source": [
    "* `s[i]` (indexing)\n",
    "* `s[i:j]` (slicing)\n",
    "* `s[i:j:k]` (step slicing)\n",
    "* meaning of negative indices\n",
    "* 0-base counting"
   ]
  },
  {
   "cell_type": "markdown",
   "metadata": {},
   "source": [
    "## EXERCISE: Indexing Review"
   ]
  },
  {
   "cell_type": "code",
   "execution_count": 2,
   "metadata": {},
   "outputs": [
    {
     "data": {
      "text/plain": [
       "range(0, 10)"
      ]
     },
     "execution_count": 2,
     "metadata": {},
     "output_type": "execute_result"
    }
   ],
   "source": [
    "m = range(10)\n",
    "m"
   ]
  },
  {
   "cell_type": "code",
   "execution_count": 3,
   "metadata": {},
   "outputs": [
    {
     "data": {
      "text/plain": [
       "0"
      ]
     },
     "execution_count": 3,
     "metadata": {},
     "output_type": "execute_result"
    }
   ],
   "source": [
    "# access the first position of the list\n",
    "m[0]"
   ]
  },
  {
   "cell_type": "code",
   "execution_count": 4,
   "metadata": {},
   "outputs": [
    {
     "data": {
      "text/plain": [
       "9"
      ]
     },
     "execution_count": 4,
     "metadata": {},
     "output_type": "execute_result"
    }
   ],
   "source": [
    "# access the last position of the list\n",
    "m[-1]"
   ]
  },
  {
   "cell_type": "markdown",
   "metadata": {},
   "source": [
    "The triple [i:j:k] are in fact parameters of a **slice** object:\n",
    "\n",
    "### slice(start, stop[, step])\n",
    "> Return a slice object representing the set of indices specified by range(start, stop, step). The start and step arguments default to None. Slice objects have read-only data attributes start, stop and step which merely return the argument values (or their default). They have no other explicit functionality; however they are used by Numerical Python and other third party extensions. Slice objects are also generated when extended indexing syntax is used. For example: a[start:stop:step] or a[start:stop, i].\n",
    "\n",
    "http://docs.python.org/2/library/functions.html#slice\n",
    "\n",
    "For example, to return the first 3 elements in the even positions of a list, you can use:"
   ]
  },
  {
   "cell_type": "code",
   "execution_count": 5,
   "metadata": {},
   "outputs": [
    {
     "data": {
      "text/plain": [
       "range(0, 5, 2)"
      ]
     },
     "execution_count": 5,
     "metadata": {},
     "output_type": "execute_result"
    }
   ],
   "source": [
    "m[slice(0,5,2)] #solo valori da 0 fino a 5, ogni 2"
   ]
  },
  {
   "cell_type": "markdown",
   "metadata": {},
   "source": [
    "which is equivalent to"
   ]
  },
  {
   "cell_type": "code",
   "execution_count": 6,
   "metadata": {},
   "outputs": [
    {
     "data": {
      "text/plain": [
       "range(0, 5, 2)"
      ]
     },
     "execution_count": 6,
     "metadata": {},
     "output_type": "execute_result"
    }
   ],
   "source": [
    "m[0:5:2] #primo elemento 0, ultimo 5, passo = 2"
   ]
  },
  {
   "cell_type": "markdown",
   "metadata": {},
   "source": [
    "## EXERCISE: Slicing Review"
   ]
  },
  {
   "cell_type": "code",
   "execution_count": 7,
   "metadata": {},
   "outputs": [
    {
     "data": {
      "text/plain": [
       "range(0, 5)"
      ]
     },
     "execution_count": 7,
     "metadata": {},
     "output_type": "execute_result"
    }
   ],
   "source": [
    "# access the first five elements of the list\n",
    "m[:5] #dall'inizio all'elemento 5"
   ]
  },
  {
   "cell_type": "code",
   "execution_count": 8,
   "metadata": {},
   "outputs": [
    {
     "data": {
      "text/plain": [
       "range(5, 10)"
      ]
     },
     "execution_count": 8,
     "metadata": {},
     "output_type": "execute_result"
    }
   ],
   "source": [
    "# access the last five elements of the list\n",
    "m[-5:] #dall'elemento -5 fino alla fine"
   ]
  },
  {
   "cell_type": "code",
   "execution_count": 9,
   "metadata": {},
   "outputs": [
    {
     "data": {
      "text/plain": [
       "range(9, -1, -1)"
      ]
     },
     "execution_count": 9,
     "metadata": {},
     "output_type": "execute_result"
    }
   ],
   "source": [
    "# access the list elements in reverse order\n",
    "m[::-1] #dal'inizio alla fine con passo -1, cioè andando all'indietro"
   ]
  },
  {
   "cell_type": "markdown",
   "metadata": {},
   "source": [
    "## pylab mode\n",
    "\n",
    "These imports done for you in `pylab` mode.\n",
    "\n",
    "    import numpy as np\n",
    "    import matplotlib.pyplot as plt\n",
    "    \n",
    "The same can be done with the following command:"
   ]
  },
  {
   "cell_type": "code",
   "execution_count": 10,
   "metadata": {},
   "outputs": [
    {
     "name": "stdout",
     "output_type": "stream",
     "text": [
      "Populating the interactive namespace from numpy and matplotlib\n"
     ]
    }
   ],
   "source": [
    "%pylab inline"
   ]
  },
  {
   "cell_type": "markdown",
   "metadata": {},
   "source": [
    "# NumPy"
   ]
  },
  {
   "cell_type": "markdown",
   "metadata": {},
   "source": [
    "<http://www.numpy.org/>:\n",
    "\n",
    "NumPy is the **fundamental package for scientific computing with Python**. It contains among other things:\n",
    "\n",
    "* a powerful N-dimensional array object\n",
    "* sophisticated (**broadcasting**) functions [what is *broadcasting*?]\n",
    "* tools for integrating C/C++ and Fortran code\n",
    "* useful linear algebra, Fourier transform, and random number capabilities"
   ]
  },
  {
   "cell_type": "markdown",
   "metadata": {},
   "source": [
    "### ndarray.ndim, ndarray.shape"
   ]
  },
  {
   "cell_type": "code",
   "execution_count": 11,
   "metadata": {},
   "outputs": [
    {
     "data": {
      "text/plain": [
       "array(5)"
      ]
     },
     "execution_count": 11,
     "metadata": {},
     "output_type": "execute_result"
    }
   ],
   "source": [
    "# zero-dimensions\n",
    "\n",
    "a0 = array(5) #prende un oggetto che può essere un numero o una lista, e crea un array di questi oggetti\n",
    "a0"
   ]
  },
  {
   "cell_type": "code",
   "execution_count": 12,
   "metadata": {},
   "outputs": [
    {
     "ename": "SyntaxError",
     "evalue": "Missing parentheses in call to 'print'. Did you mean print(a0)? (<ipython-input-12-2ebf66dd7447>, line 1)",
     "output_type": "error",
     "traceback": [
      "\u001b[0;36m  File \u001b[0;32m\"<ipython-input-12-2ebf66dd7447>\"\u001b[0;36m, line \u001b[0;32m1\u001b[0m\n\u001b[0;31m    print a0\u001b[0m\n\u001b[0m           ^\u001b[0m\n\u001b[0;31mSyntaxError\u001b[0m\u001b[0;31m:\u001b[0m Missing parentheses in call to 'print'. Did you mean print(a0)?\n"
     ]
    }
   ],
   "source": [
    "print a0"
   ]
  },
  {
   "cell_type": "code",
   "execution_count": 13,
   "metadata": {},
   "outputs": [
    {
     "ename": "SyntaxError",
     "evalue": "Missing parentheses in call to 'print'. Did you mean print(a0.ndim, \"\\n\", a0.shape)? (<ipython-input-13-3ac7ef540272>, line 1)",
     "output_type": "error",
     "traceback": [
      "\u001b[0;36m  File \u001b[0;32m\"<ipython-input-13-3ac7ef540272>\"\u001b[0;36m, line \u001b[0;32m1\u001b[0m\n\u001b[0;31m    print a0.ndim, \"\\n\", a0.shape\u001b[0m\n\u001b[0m           ^\u001b[0m\n\u001b[0;31mSyntaxError\u001b[0m\u001b[0;31m:\u001b[0m Missing parentheses in call to 'print'. Did you mean print(a0.ndim, \"\\n\", a0.shape)?\n"
     ]
    }
   ],
   "source": [
    "print a0.ndim, \"\\n\", a0.shape"
   ]
  },
  {
   "cell_type": "code",
   "execution_count": 17,
   "metadata": {},
   "outputs": [
    {
     "name": "stdout",
     "output_type": "stream",
     "text": [
      "[1 2] \n",
      " 1 \n",
      " (2,)\n"
     ]
    }
   ],
   "source": [
    "# 1-d array\n",
    "a1 = array([1,2])\n",
    "print(a1, \"\\n\", a1.ndim, \"\\n\", a1.shape)"
   ]
  },
  {
   "cell_type": "code",
   "execution_count": 18,
   "metadata": {},
   "outputs": [
    {
     "data": {
      "text/plain": [
       "array([1, 2])"
      ]
     },
     "execution_count": 18,
     "metadata": {},
     "output_type": "execute_result"
    }
   ],
   "source": [
    "a1"
   ]
  },
  {
   "cell_type": "code",
   "execution_count": 19,
   "metadata": {},
   "outputs": [
    {
     "data": {
      "text/plain": [
       "1"
      ]
     },
     "execution_count": 19,
     "metadata": {},
     "output_type": "execute_result"
    }
   ],
   "source": [
    "a1.ndim"
   ]
  },
  {
   "cell_type": "code",
   "execution_count": 20,
   "metadata": {},
   "outputs": [
    {
     "data": {
      "text/plain": [
       "(2,)"
      ]
     },
     "execution_count": 20,
     "metadata": {},
     "output_type": "execute_result"
    }
   ],
   "source": [
    "a1.shape "
   ]
  },
  {
   "cell_type": "code",
   "execution_count": 22,
   "metadata": {},
   "outputs": [
    {
     "name": "stdout",
     "output_type": "stream",
     "text": [
      "[[1 2]\n",
      " [3 4]] \n",
      " 2 \n",
      " (2, 2)\n"
     ]
    }
   ],
   "source": [
    "# 2-d array\n",
    "a2 = array(([1,2], [3,4]))\n",
    "print(a2, \"\\n\", a2.ndim, \"\\n\", a2.shape)"
   ]
  },
  {
   "cell_type": "code",
   "execution_count": 23,
   "metadata": {},
   "outputs": [
    {
     "data": {
      "text/plain": [
       "array([[1, 2],\n",
       "       [3, 4]])"
      ]
     },
     "execution_count": 23,
     "metadata": {},
     "output_type": "execute_result"
    }
   ],
   "source": [
    "a2"
   ]
  },
  {
   "cell_type": "code",
   "execution_count": 24,
   "metadata": {},
   "outputs": [
    {
     "data": {
      "text/plain": [
       "2"
      ]
     },
     "execution_count": 24,
     "metadata": {},
     "output_type": "execute_result"
    }
   ],
   "source": [
    "a2.ndim #lista lunga 2"
   ]
  },
  {
   "cell_type": "code",
   "execution_count": 25,
   "metadata": {},
   "outputs": [
    {
     "data": {
      "text/plain": [
       "(2, 2)"
      ]
     },
     "execution_count": 25,
     "metadata": {},
     "output_type": "execute_result"
    }
   ],
   "source": [
    "a2.shape #matrice 2x2"
   ]
  },
  {
   "cell_type": "code",
   "execution_count": 26,
   "metadata": {},
   "outputs": [
    {
     "name": "stdout",
     "output_type": "stream",
     "text": [
      "['bla' 'cucu']\n",
      "1\n",
      "(2,)\n"
     ]
    }
   ],
   "source": [
    "#posso mettere anche parole o lettere in array\n",
    "\n",
    "bla = array([\"bla\",\"cucu\"])\n",
    "print(bla)\n",
    "print(bla.ndim)\n",
    "print(bla.shape)"
   ]
  },
  {
   "cell_type": "code",
   "execution_count": 27,
   "metadata": {},
   "outputs": [],
   "source": [
    "a = arange(10)"
   ]
  },
  {
   "cell_type": "code",
   "execution_count": 28,
   "metadata": {},
   "outputs": [
    {
     "data": {
      "text/plain": [
       "array([0, 1, 2, 3, 4, 5, 6, 7, 8, 9])"
      ]
     },
     "execution_count": 28,
     "metadata": {},
     "output_type": "execute_result"
    }
   ],
   "source": [
    "a"
   ]
  },
  {
   "cell_type": "code",
   "execution_count": 29,
   "metadata": {},
   "outputs": [
    {
     "data": {
      "text/plain": [
       "dtype('int64')"
      ]
     },
     "execution_count": 29,
     "metadata": {},
     "output_type": "execute_result"
    }
   ],
   "source": [
    "a.dtype  "
   ]
  },
  {
   "cell_type": "markdown",
   "metadata": {},
   "source": [
    "### Array creation routines"
   ]
  },
  {
   "cell_type": "code",
   "execution_count": 30,
   "metadata": {},
   "outputs": [
    {
     "data": {
      "text/plain": [
       "array([1, 2])"
      ]
     },
     "execution_count": 30,
     "metadata": {},
     "output_type": "execute_result"
    }
   ],
   "source": [
    "a = array([1,2])\n",
    "a"
   ]
  },
  {
   "cell_type": "code",
   "execution_count": 31,
   "metadata": {},
   "outputs": [
    {
     "data": {
      "text/plain": [
       "array([[0., 0.],\n",
       "       [0., 0.]])"
      ]
     },
     "execution_count": 31,
     "metadata": {},
     "output_type": "execute_result"
    }
   ],
   "source": [
    "a = zeros((2,2)) #crea una matrice 2x2 con tutti gli elementi a 0\n",
    "a"
   ]
  },
  {
   "cell_type": "code",
   "execution_count": 32,
   "metadata": {},
   "outputs": [
    {
     "data": {
      "text/plain": [
       "array([[[0., 0., 0.],\n",
       "        [0., 0., 0.]],\n",
       "\n",
       "       [[0., 0., 0.],\n",
       "        [0., 0., 0.]]])"
      ]
     },
     "execution_count": 32,
     "metadata": {},
     "output_type": "execute_result"
    }
   ],
   "source": [
    "b = zeros((2,2,3))\n",
    "b"
   ]
  },
  {
   "cell_type": "code",
   "execution_count": 33,
   "metadata": {},
   "outputs": [
    {
     "data": {
      "text/plain": [
       "array([[1., 1.],\n",
       "       [1., 1.]])"
      ]
     },
     "execution_count": 33,
     "metadata": {},
     "output_type": "execute_result"
    }
   ],
   "source": [
    "a = ones((2,2)) #crea matrice 2x2 con tutti 1\n",
    "a"
   ]
  },
  {
   "cell_type": "code",
   "execution_count": 37,
   "metadata": {},
   "outputs": [
    {
     "name": "stdout",
     "output_type": "stream",
     "text": [
      "[[4. 4.]\n",
      " [4. 4.]]\n"
     ]
    }
   ],
   "source": [
    "a = empty((2,2)) #crea matrice 2x2 con valori vuoti, poi dovremo inizializzare i valori della matrice\n",
    "a\n",
    "print(a*2+2)"
   ]
  },
  {
   "cell_type": "code",
   "execution_count": 38,
   "metadata": {},
   "outputs": [
    {
     "data": {
      "text/plain": [
       "array([[0., 0., 1., 0.],\n",
       "       [0., 0., 0., 1.],\n",
       "       [0., 0., 0., 0.]])"
      ]
     },
     "execution_count": 38,
     "metadata": {},
     "output_type": "execute_result"
    }
   ],
   "source": [
    "a = eye(3,4,2) #crea matrice 3x4 con valori settati a 1 sulla diagonale 1\n",
    "                # cioè la diagonale che parte dal secondo elemento della prima riga\n",
    "a"
   ]
  },
  {
   "cell_type": "code",
   "execution_count": 39,
   "metadata": {},
   "outputs": [
    {
     "data": {
      "text/plain": [
       "array([[1., 0., 0.],\n",
       "       [0., 1., 0.],\n",
       "       [0., 0., 1.]])"
      ]
     },
     "execution_count": 39,
     "metadata": {},
     "output_type": "execute_result"
    }
   ],
   "source": [
    "a = identity(3)\n",
    "a"
   ]
  },
  {
   "cell_type": "code",
   "execution_count": 40,
   "metadata": {},
   "outputs": [
    {
     "data": {
      "text/plain": [
       "array([[0, 0, 0, 0],\n",
       "       [0, 1, 0, 0],\n",
       "       [0, 0, 2, 0],\n",
       "       [0, 0, 0, 3]])"
      ]
     },
     "execution_count": 40,
     "metadata": {},
     "output_type": "execute_result"
    }
   ],
   "source": [
    "a = diag(arange(4))\n",
    "a"
   ]
  },
  {
   "cell_type": "code",
   "execution_count": 41,
   "metadata": {},
   "outputs": [
    {
     "data": {
      "text/plain": [
       "array([ 1.  ,  3.25,  5.5 ,  7.75, 10.  ])"
      ]
     },
     "execution_count": 41,
     "metadata": {},
     "output_type": "execute_result"
    }
   ],
   "source": [
    "a = linspace(1,10,5) \n",
    "a\n",
    "#crea lista con 5 elementi, spaziati linearmente, che iniziano a 0 e finiscono a 10"
   ]
  },
  {
   "cell_type": "code",
   "execution_count": 42,
   "metadata": {},
   "outputs": [
    {
     "data": {
      "text/plain": [
       "array([ 10.        ,  17.7827941 ,  31.6227766 ,  56.23413252,\n",
       "       100.        ])"
      ]
     },
     "execution_count": 42,
     "metadata": {},
     "output_type": "execute_result"
    }
   ],
   "source": [
    "a = logspace(1,2,5) \n",
    "a\n",
    "#creo lista di 5 elementi spaziati logaritmicamente. primo elemento è\n",
    "# 10^1, ultimo elemento è 10^2"
   ]
  },
  {
   "cell_type": "markdown",
   "metadata": {},
   "source": [
    "###Type hierarchy: \n",
    "\n",
    "<img src=\"http://docs.scipy.org/doc/numpy/_images/dtype-hierarchy.png\">"
   ]
  },
  {
   "cell_type": "code",
   "execution_count": 43,
   "metadata": {},
   "outputs": [
    {
     "data": {
      "text/plain": [
       "dtype('float64')"
      ]
     },
     "execution_count": 43,
     "metadata": {},
     "output_type": "execute_result"
    }
   ],
   "source": [
    "a = arange(10, dtype=float)\n",
    "a.dtype\n",
    "# crea una lista da 0 a 9 di float"
   ]
  },
  {
   "cell_type": "code",
   "execution_count": 44,
   "metadata": {},
   "outputs": [
    {
     "data": {
      "text/plain": [
       "array([0., 1., 2., 3., 4., 5., 6., 7., 8., 9.])"
      ]
     },
     "execution_count": 44,
     "metadata": {},
     "output_type": "execute_result"
    }
   ],
   "source": [
    "a"
   ]
  },
  {
   "cell_type": "code",
   "execution_count": 45,
   "metadata": {},
   "outputs": [
    {
     "name": "stdout",
     "output_type": "stream",
     "text": [
      "[0 1 2 3 4 5 6 7 8 9]\n"
     ]
    }
   ],
   "source": [
    "a = arange(10, dtype=byte)\n",
    "a.dtype\n",
    "print(a)"
   ]
  },
  {
   "cell_type": "code",
   "execution_count": 41,
   "metadata": {},
   "outputs": [
    {
     "data": {
      "text/plain": [
       "-128"
      ]
     },
     "execution_count": 41,
     "metadata": {},
     "output_type": "execute_result"
    }
   ],
   "source": [
    "a[0] = 128\n",
    "a[0]"
   ]
  },
  {
   "cell_type": "code",
   "execution_count": 46,
   "metadata": {},
   "outputs": [
    {
     "data": {
      "text/plain": [
       "128"
      ]
     },
     "execution_count": 46,
     "metadata": {},
     "output_type": "execute_result"
    }
   ],
   "source": [
    "a1 = a.astype(int16)\n",
    "a1[0] = 128\n",
    "a1[0]"
   ]
  },
  {
   "cell_type": "code",
   "execution_count": null,
   "metadata": {},
   "outputs": [],
   "source": []
  },
  {
   "cell_type": "markdown",
   "metadata": {},
   "source": [
    "### reshape, transpose"
   ]
  },
  {
   "cell_type": "code",
   "execution_count": 47,
   "metadata": {},
   "outputs": [
    {
     "data": {
      "text/plain": [
       "array([ 0,  1,  2,  3,  4,  5,  6,  7,  8,  9, 10, 11, 12, 13, 14, 15, 16,\n",
       "       17, 18, 19, 20, 21, 22, 23, 24, 25, 26, 27, 28, 29, 30, 31, 32, 33,\n",
       "       34, 35, 36, 37, 38, 39, 40, 41, 42, 43, 44, 45, 46, 47, 48, 49, 50,\n",
       "       51, 52, 53, 54, 55, 56, 57, 58, 59, 60, 61, 62, 63])"
      ]
     },
     "execution_count": 47,
     "metadata": {},
     "output_type": "execute_result"
    }
   ],
   "source": [
    "a = arange(64) #array con 64 componenti\n",
    "a"
   ]
  },
  {
   "cell_type": "code",
   "execution_count": 48,
   "metadata": {},
   "outputs": [
    {
     "data": {
      "text/plain": [
       "array([[ 0,  1,  2,  3,  4,  5,  6,  7],\n",
       "       [ 8,  9, 10, 11, 12, 13, 14, 15],\n",
       "       [16, 17, 18, 19, 20, 21, 22, 23],\n",
       "       [24, 25, 26, 27, 28, 29, 30, 31],\n",
       "       [32, 33, 34, 35, 36, 37, 38, 39],\n",
       "       [40, 41, 42, 43, 44, 45, 46, 47],\n",
       "       [48, 49, 50, 51, 52, 53, 54, 55],\n",
       "       [56, 57, 58, 59, 60, 61, 62, 63]])"
      ]
     },
     "execution_count": 48,
     "metadata": {},
     "output_type": "execute_result"
    }
   ],
   "source": [
    "# map a 0..63 1d array to a 8x8 2d array\n",
    "a1 = a.reshape(8,8)\n",
    "a1\n",
    "# qua cambio la forma del vettore a"
   ]
  },
  {
   "cell_type": "code",
   "execution_count": 49,
   "metadata": {},
   "outputs": [
    {
     "data": {
      "text/plain": [
       "array([[ 0,  1,  2,  3,  4,  5,  6,  7],\n",
       "       [ 8,  9, 10, 11, 12, 13, 14, 15],\n",
       "       [16, 17, 18, 19, 20, 21, 22, 23],\n",
       "       [24, 25, 26, 27, 28, 29, 30, 31],\n",
       "       [32, 33, 34, 35, 36, 37, 38, 39],\n",
       "       [40, 41, 42, 43, 44, 45, 46, 47],\n",
       "       [48, 49, 50, 51, 52, 53, 54, 55],\n",
       "       [56, 57, 58, 59, 60, 61, 62, 63]])"
      ]
     },
     "execution_count": 49,
     "metadata": {},
     "output_type": "execute_result"
    }
   ],
   "source": [
    "a.shape = (8,8)\n",
    "a\n",
    "# qua stampo solo la shape"
   ]
  },
  {
   "cell_type": "code",
   "execution_count": 50,
   "metadata": {},
   "outputs": [
    {
     "data": {
      "text/plain": [
       "array([[ 0,  8, 16, 24, 32, 40, 48, 56],\n",
       "       [ 1,  9, 17, 25, 33, 41, 49, 57],\n",
       "       [ 2, 10, 18, 26, 34, 42, 50, 58],\n",
       "       [ 3, 11, 19, 27, 35, 43, 51, 59],\n",
       "       [ 4, 12, 20, 28, 36, 44, 52, 60],\n",
       "       [ 5, 13, 21, 29, 37, 45, 53, 61],\n",
       "       [ 6, 14, 22, 30, 38, 46, 54, 62],\n",
       "       [ 7, 15, 23, 31, 39, 47, 55, 63]])"
      ]
     },
     "execution_count": 50,
     "metadata": {},
     "output_type": "execute_result"
    }
   ],
   "source": [
    "a.T #trasposta"
   ]
  },
  {
   "cell_type": "markdown",
   "metadata": {},
   "source": [
    "### stacking & concatenation"
   ]
  },
  {
   "cell_type": "code",
   "execution_count": 51,
   "metadata": {},
   "outputs": [
    {
     "name": "stdout",
     "output_type": "stream",
     "text": [
      "(2, 2) (1, 2)\n"
     ]
    }
   ],
   "source": [
    "a = array([[1, 2], [3, 4]])\n",
    "b = array([[5, 6]])\n",
    "print(a.shape, b.shape)"
   ]
  },
  {
   "cell_type": "code",
   "execution_count": 52,
   "metadata": {},
   "outputs": [
    {
     "name": "stdout",
     "output_type": "stream",
     "text": [
      "[[1 2]\n",
      " [3 4]\n",
      " [5 6]] (3, 2)\n"
     ]
    }
   ],
   "source": [
    "x = concatenate((a, b), axis=0) # vertical stack\n",
    "print(x, x.shape)"
   ]
  },
  {
   "cell_type": "code",
   "execution_count": 53,
   "metadata": {},
   "outputs": [
    {
     "name": "stdout",
     "output_type": "stream",
     "text": [
      "[[1 2 5]\n",
      " [3 4 6]] (2, 3)\n"
     ]
    }
   ],
   "source": [
    "y = concatenate((a, b.T), axis=1) # horizontal\n",
    "print(y, y.shape)"
   ]
  },
  {
   "cell_type": "code",
   "execution_count": 54,
   "metadata": {},
   "outputs": [
    {
     "name": "stdout",
     "output_type": "stream",
     "text": [
      "[[1 2]\n",
      " [3 4]\n",
      " [5 6]]\n",
      "[[1 2 5]\n",
      " [3 4 6]]\n"
     ]
    }
   ],
   "source": [
    "print(vstack((a,b)))\n",
    "print(hstack((a,b.T)))"
   ]
  },
  {
   "cell_type": "code",
   "execution_count": 55,
   "metadata": {},
   "outputs": [
    {
     "name": "stdout",
     "output_type": "stream",
     "text": [
      "[[1 2]\n",
      " [3 4]\n",
      " [5 6]]\n",
      "[[1 2 5]\n",
      " [3 4 6]]\n"
     ]
    }
   ],
   "source": [
    "print(append(a, b, axis=0))\n",
    "print(append(a, b.T, axis=1))"
   ]
  },
  {
   "cell_type": "code",
   "execution_count": 56,
   "metadata": {},
   "outputs": [
    {
     "name": "stdout",
     "output_type": "stream",
     "text": [
      "[[1 2]\n",
      " [3 4]\n",
      " [5 6]]\n",
      "[[1 2 5]\n",
      " [3 4 6]]\n"
     ]
    }
   ],
   "source": [
    "print(insert(a, 2, b, axis=0)) #inserisci b come riga 0 della matrice a\n",
    "print(insert(a, 2, b, axis=1)) #inserisci b come colonna 0 della matrice a"
   ]
  },
  {
   "cell_type": "markdown",
   "metadata": {},
   "source": [
    "##Numpy operations\n",
    "\n",
    "example of [broadcasting](http://docs.scipy.org/doc/numpy/user/basics.broadcasting.html):\n",
    "\n",
    "> The term broadcasting describes how numpy treats arrays with different shapes during arithmetic operations. Subject to certain constraints, the smaller array is “broadcast” across the larger array so that they have compatible shapes. Broadcasting provides a means of vectorizing array operations so that looping occurs in C instead of Python. It does this without making needless copies of data and usually leads to efficient algorithm implementations. There are, however, cases where broadcasting is a bad idea because it leads to inefficient use of memory that slows computation."
   ]
  },
  {
   "cell_type": "code",
   "execution_count": 57,
   "metadata": {},
   "outputs": [
    {
     "data": {
      "text/plain": [
       "array([[2, 4],\n",
       "       [6, 8]])"
      ]
     },
     "execution_count": 57,
     "metadata": {},
     "output_type": "execute_result"
    }
   ],
   "source": [
    "2*a #tutte le componnti sono *2"
   ]
  },
  {
   "cell_type": "code",
   "execution_count": 58,
   "metadata": {},
   "outputs": [
    {
     "data": {
      "text/plain": [
       "array([[3, 4],\n",
       "       [5, 6]])"
      ]
     },
     "execution_count": 58,
     "metadata": {},
     "output_type": "execute_result"
    }
   ],
   "source": [
    "a+2 #tutte le componnti sono +2\n",
    "#lo facciamo senza usare un for! le operazioni eseguite qui sono tutte \n",
    "# scritte in C"
   ]
  },
  {
   "cell_type": "markdown",
   "metadata": {},
   "source": [
    "More broadcasting\n",
    "\n",
    "<img src=\"http://scipy-lectures.github.io/_images/numpy_broadcasting.png\" width=\"600\">"
   ]
  },
  {
   "cell_type": "code",
   "execution_count": 59,
   "metadata": {},
   "outputs": [
    {
     "data": {
      "text/plain": [
       "(array([[0, 1, 2],\n",
       "        [0, 1, 2],\n",
       "        [0, 1, 2],\n",
       "        [0, 1, 2]]), array([[ 0,  0,  0],\n",
       "        [10, 10, 10],\n",
       "        [20, 20, 20],\n",
       "        [30, 30, 30]]))"
      ]
     },
     "execution_count": 59,
     "metadata": {},
     "output_type": "execute_result"
    }
   ],
   "source": [
    "a = array([range(0,3)]*4)\n",
    "b = array([range(0,40,10)]*3).T\n",
    "a, b"
   ]
  },
  {
   "cell_type": "code",
   "execution_count": 60,
   "metadata": {},
   "outputs": [
    {
     "data": {
      "text/plain": [
       "array([[ 0,  1,  2],\n",
       "       [10, 11, 12],\n",
       "       [20, 21, 22],\n",
       "       [30, 31, 32]])"
      ]
     },
     "execution_count": 60,
     "metadata": {},
     "output_type": "execute_result"
    }
   ],
   "source": [
    "a+b"
   ]
  },
  {
   "cell_type": "code",
   "execution_count": 61,
   "metadata": {},
   "outputs": [
    {
     "data": {
      "text/plain": [
       "array([[ 0,  1,  2],\n",
       "       [10, 11, 12],\n",
       "       [20, 21, 22],\n",
       "       [30, 31, 32]])"
      ]
     },
     "execution_count": 61,
     "metadata": {},
     "output_type": "execute_result"
    }
   ],
   "source": [
    "b + arange(0,3)"
   ]
  },
  {
   "cell_type": "code",
   "execution_count": 62,
   "metadata": {},
   "outputs": [
    {
     "data": {
      "text/plain": [
       "array([[ 0,  1,  2],\n",
       "       [10, 11, 12],\n",
       "       [20, 21, 22],\n",
       "       [30, 31, 32]])"
      ]
     },
     "execution_count": 62,
     "metadata": {},
     "output_type": "execute_result"
    }
   ],
   "source": [
    "arange(0,40,10).reshape(4,1) + arange(0,3)\n",
    "# qua avviene un'operazione chiamata \"...\"\n",
    "# una delle dimensioni viene estesa:\n",
    "# qua ho una matrice 4x1, e un vettore 1x3, faccio la somma e ottengo una \n",
    "# matrice con il max(righe)xmax(colonne) ==> ho matrice 4x3\n",
    "# estendo le matrici (nel mio caso ad es: la seconda matrice sarà il \n",
    "# vettore ripetuto 4 volte, 4 righe uguali) e poi le sommo.\n",
    "# se facessi il prodotto di matrici ottengo la stessa cosa\n",
    "\n",
    "#N.B. una matrice viene estesa se la dimensione da estendere è 1,\n",
    "#nell'esempio precedente ho una matrice 4x1 + matrice 1x3, estendo e \n",
    "#ottengo matrice 4x3. Se avessi 4x2 + 1x3 NON posso fare broadcasting"
   ]
  },
  {
   "cell_type": "code",
   "execution_count": 63,
   "metadata": {},
   "outputs": [
    {
     "ename": "SyntaxError",
     "evalue": "Missing parentheses in call to 'print'. Did you mean print(w)? (<ipython-input-63-9b84b1bce3b5>, line 3)",
     "output_type": "error",
     "traceback": [
      "\u001b[0;36m  File \u001b[0;32m\"<ipython-input-63-9b84b1bce3b5>\"\u001b[0;36m, line \u001b[0;32m3\u001b[0m\n\u001b[0;31m    print w\u001b[0m\n\u001b[0m          ^\u001b[0m\n\u001b[0;31mSyntaxError\u001b[0m\u001b[0;31m:\u001b[0m Missing parentheses in call to 'print'. Did you mean print(w)?\n"
     ]
    }
   ],
   "source": [
    "w = arange(0,3)\n",
    "a = arange(0,12).reshape(4,3)\n",
    "print w\n",
    "print a\n",
    "print w * a #questo è il prodotto elemento per elemento, non prodotto di matrici"
   ]
  },
  {
   "cell_type": "code",
   "execution_count": 64,
   "metadata": {},
   "outputs": [
    {
     "data": {
      "text/plain": [
       "array([[0., 0., 0.],\n",
       "       [0., 0., 0.],\n",
       "       [0., 0., 0.],\n",
       "       [0., 0., 0.]])"
      ]
     },
     "execution_count": 64,
     "metadata": {},
     "output_type": "execute_result"
    }
   ],
   "source": [
    "zeros((1,3)) + zeros((4,3)) #ok"
   ]
  },
  {
   "cell_type": "code",
   "execution_count": 65,
   "metadata": {},
   "outputs": [
    {
     "ename": "ValueError",
     "evalue": "operands could not be broadcast together with shapes (2,3) (4,3) ",
     "output_type": "error",
     "traceback": [
      "\u001b[0;31m---------------------------------------------------------------------------\u001b[0m",
      "\u001b[0;31mValueError\u001b[0m                                Traceback (most recent call last)",
      "\u001b[0;32m<ipython-input-65-af8b7c5d9a69>\u001b[0m in \u001b[0;36m<module>\u001b[0;34m()\u001b[0m\n\u001b[0;32m----> 1\u001b[0;31m \u001b[0mzeros\u001b[0m\u001b[0;34m(\u001b[0m\u001b[0;34m(\u001b[0m\u001b[0;36m2\u001b[0m\u001b[0;34m,\u001b[0m\u001b[0;36m3\u001b[0m\u001b[0;34m)\u001b[0m\u001b[0;34m)\u001b[0m \u001b[0;34m+\u001b[0m \u001b[0mzeros\u001b[0m\u001b[0;34m(\u001b[0m\u001b[0;34m(\u001b[0m\u001b[0;36m4\u001b[0m\u001b[0;34m,\u001b[0m\u001b[0;36m3\u001b[0m\u001b[0;34m)\u001b[0m\u001b[0;34m)\u001b[0m \u001b[0;31m#non funziona! non riesce a fare l'operazione\u001b[0m\u001b[0;34m\u001b[0m\u001b[0m\n\u001b[0m\u001b[1;32m      2\u001b[0m                             \u001b[0;31m#di broadcasting\u001b[0m\u001b[0;34m\u001b[0m\u001b[0;34m\u001b[0m\u001b[0m\n",
      "\u001b[0;31mValueError\u001b[0m: operands could not be broadcast together with shapes (2,3) (4,3) "
     ]
    }
   ],
   "source": [
    "zeros((2,3)) + zeros((4,3)) #non funziona! non riesce a fare l'operazione\n",
    "                            #di broadcasting"
   ]
  },
  {
   "cell_type": "markdown",
   "metadata": {},
   "source": [
    "## Indexing/Slicing"
   ]
  },
  {
   "cell_type": "code",
   "execution_count": 66,
   "metadata": {},
   "outputs": [
    {
     "data": {
      "text/plain": [
       "array([ 0,  1,  2,  3,  4,  5,  6,  7,  8,  9, 10, 11, 12, 13, 14, 15, 16,\n",
       "       17, 18, 19, 20, 21, 22, 23, 24, 25, 26, 27, 28, 29])"
      ]
     },
     "execution_count": 66,
     "metadata": {},
     "output_type": "execute_result"
    }
   ],
   "source": [
    "a3 = arange(30) #vettore di 30 elementi\n",
    "a3"
   ]
  },
  {
   "cell_type": "code",
   "execution_count": 67,
   "metadata": {},
   "outputs": [
    {
     "name": "stdout",
     "output_type": "stream",
     "text": [
      "0\n",
      "[29 28 27 26 25 24 23 22 21 20 19 18 17 16 15 14 13 12 11 10  9  8  7  6\n",
      "  5  4  3  2  1  0]\n",
      "[2 3 4]\n"
     ]
    }
   ],
   "source": [
    "print(a3[0] )    #elemento 0 del vett.\n",
    "print(a3[::-1])  #vett. in ordine inverso\n",
    "print(a3[2:5] )  #vett. da 2 a 5 (5 escluso)"
   ]
  },
  {
   "cell_type": "code",
   "execution_count": 68,
   "metadata": {},
   "outputs": [
    {
     "name": "stdout",
     "output_type": "stream",
     "text": [
      "[2 3 4 6 5 2]\n"
     ]
    }
   ],
   "source": [
    "print(a3[[2,3,4,6,5,2]])"
   ]
  },
  {
   "cell_type": "code",
   "execution_count": 69,
   "metadata": {},
   "outputs": [
    {
     "data": {
      "text/plain": [
       "array([0, 1, 2, 0, 1, 2, 0, 1, 2, 0, 1, 2, 0, 1, 2, 0, 1, 2, 0, 1, 2, 0,\n",
       "       1, 2, 0, 1, 2, 0, 1, 2])"
      ]
     },
     "execution_count": 69,
     "metadata": {},
     "output_type": "execute_result"
    }
   ],
   "source": [
    "np.mod(a3, 3) #prendo il resto di a3/3 --> lo fa elemento per elemento"
   ]
  },
  {
   "cell_type": "markdown",
   "metadata": {},
   "source": [
    "Select numbers divisible by 3."
   ]
  },
  {
   "cell_type": "code",
   "execution_count": 70,
   "metadata": {},
   "outputs": [
    {
     "data": {
      "text/plain": [
       "[0, 3, 6, 9, 12, 15, 18, 21, 24, 27]"
      ]
     },
     "execution_count": 70,
     "metadata": {},
     "output_type": "execute_result"
    }
   ],
   "source": [
    "# list comprehension\n",
    "[i for i in a3 if i % 3 == 0] #per elezionare tutti i valori del vett.\n",
    "                              #divisibili per 3"
   ]
  },
  {
   "cell_type": "code",
   "execution_count": 71,
   "metadata": {},
   "outputs": [
    {
     "data": {
      "text/plain": [
       "array([ True, False, False,  True, False, False,  True, False, False,\n",
       "        True, False, False,  True, False, False,  True, False, False,\n",
       "        True, False, False,  True, False, False,  True, False, False,\n",
       "        True, False, False])"
      ]
     },
     "execution_count": 71,
     "metadata": {},
     "output_type": "execute_result"
    }
   ],
   "source": [
    "np.mod(a3, 3) == 0 #vett. con risultati booleani"
   ]
  },
  {
   "cell_type": "code",
   "execution_count": 72,
   "metadata": {},
   "outputs": [
    {
     "data": {
      "text/plain": [
       "array([ 0,  3,  6,  9, 12, 15, 18, 21, 24, 27])"
      ]
     },
     "execution_count": 72,
     "metadata": {},
     "output_type": "execute_result"
    }
   ],
   "source": [
    "divisible_by_3 = np.mod(a3, 3) == 0\n",
    "a3[divisible_by_3]\n",
    "\n",
    "#in python le operazioni vettoriali sono molto più veloci dei cicli for!"
   ]
  },
  {
   "cell_type": "markdown",
   "metadata": {},
   "source": [
    "2d, 3d slicing"
   ]
  },
  {
   "cell_type": "code",
   "execution_count": 73,
   "metadata": {},
   "outputs": [
    {
     "data": {
      "text/plain": [
       "array([[ 0,  1,  2,  3,  4,  5,  6,  7],\n",
       "       [ 8,  9, 10, 11, 12, 13, 14, 15],\n",
       "       [16, 17, 18, 19, 20, 21, 22, 23],\n",
       "       [24, 25, 26, 27, 28, 29, 30, 31],\n",
       "       [32, 33, 34, 35, 36, 37, 38, 39],\n",
       "       [40, 41, 42, 43, 44, 45, 46, 47],\n",
       "       [48, 49, 50, 51, 52, 53, 54, 55],\n",
       "       [56, 57, 58, 59, 60, 61, 62, 63]])"
      ]
     },
     "execution_count": 73,
     "metadata": {},
     "output_type": "execute_result"
    }
   ],
   "source": [
    "a = arange(64).reshape(8,8) #matrice 8x8\n",
    "a"
   ]
  },
  {
   "cell_type": "code",
   "execution_count": 74,
   "metadata": {},
   "outputs": [
    {
     "data": {
      "text/plain": [
       "array([0, 1, 2, 3, 4, 5, 6, 7])"
      ]
     },
     "execution_count": 74,
     "metadata": {},
     "output_type": "execute_result"
    }
   ],
   "source": [
    "a[0,:] #prendo la riga di posizione 0, per quella riga prendo tutti gli\n",
    "       #elementi"
   ]
  },
  {
   "cell_type": "code",
   "execution_count": 75,
   "metadata": {},
   "outputs": [
    {
     "data": {
      "text/plain": [
       "array([ 0,  8, 16, 24, 32, 40, 48, 56])"
      ]
     },
     "execution_count": 75,
     "metadata": {},
     "output_type": "execute_result"
    }
   ],
   "source": [
    "a[:,0]"
   ]
  },
  {
   "cell_type": "code",
   "execution_count": 76,
   "metadata": {},
   "outputs": [
    {
     "data": {
      "text/plain": [
       "array([[0, 1],\n",
       "       [8, 9]])"
      ]
     },
     "execution_count": 76,
     "metadata": {},
     "output_type": "execute_result"
    }
   ],
   "source": [
    "a[:2,:2] #righe da 0 a 2 e colonne da 0 a 2"
   ]
  },
  {
   "cell_type": "code",
   "execution_count": 77,
   "metadata": {},
   "outputs": [
    {
     "data": {
      "text/plain": [
       "array([[ 0,  2,  4,  6],\n",
       "       [16, 18, 20, 22],\n",
       "       [32, 34, 36, 38],\n",
       "       [48, 50, 52, 54]])"
      ]
     },
     "execution_count": 77,
     "metadata": {},
     "output_type": "execute_result"
    }
   ],
   "source": [
    "a[::2,::2] #righe da 0 alla fine con passo 2 (solo righe pari), e solo\n",
    "           #colonne pari"
   ]
  },
  {
   "cell_type": "code",
   "execution_count": 78,
   "metadata": {},
   "outputs": [
    {
     "data": {
      "text/plain": [
       "array([[[ 0,  1,  2],\n",
       "        [ 3,  4,  5],\n",
       "        [ 6,  7,  8]],\n",
       "\n",
       "       [[ 9, 10, 11],\n",
       "        [12, 13, 14],\n",
       "        [15, 16, 17]],\n",
       "\n",
       "       [[18, 19, 20],\n",
       "        [21, 22, 23],\n",
       "        [24, 25, 26]]])"
      ]
     },
     "execution_count": 78,
     "metadata": {},
     "output_type": "execute_result"
    }
   ],
   "source": [
    "b = arange(27).reshape(3,3,3) #matrice 3D (3x3x3)\n",
    "b"
   ]
  },
  {
   "cell_type": "code",
   "execution_count": 79,
   "metadata": {},
   "outputs": [
    {
     "data": {
      "text/plain": [
       "array([[0, 1, 2],\n",
       "       [3, 4, 5],\n",
       "       [6, 7, 8]])"
      ]
     },
     "execution_count": 79,
     "metadata": {},
     "output_type": "execute_result"
    }
   ],
   "source": [
    "b[0,:,:] #primo indice sono gli slice, secondo indice è la riga, terzo \n",
    "         #indice è la colonna"
   ]
  },
  {
   "cell_type": "code",
   "execution_count": 80,
   "metadata": {},
   "outputs": [
    {
     "data": {
      "text/plain": [
       "array([[ 0,  1,  2],\n",
       "       [ 9, 10, 11],\n",
       "       [18, 19, 20]])"
      ]
     },
     "execution_count": 80,
     "metadata": {},
     "output_type": "execute_result"
    }
   ],
   "source": [
    "b[:,0,:]"
   ]
  },
  {
   "cell_type": "code",
   "execution_count": 81,
   "metadata": {},
   "outputs": [
    {
     "data": {
      "text/plain": [
       "array([[ 0,  3,  6],\n",
       "       [ 9, 12, 15],\n",
       "       [18, 21, 24]])"
      ]
     },
     "execution_count": 81,
     "metadata": {},
     "output_type": "execute_result"
    }
   ],
   "source": [
    "b[:,:,0]"
   ]
  },
  {
   "cell_type": "markdown",
   "metadata": {},
   "source": [
    "## Exercise:  Calculate a series that holds all the squares less than 100"
   ]
  },
  {
   "cell_type": "code",
   "execution_count": 82,
   "metadata": {},
   "outputs": [
    {
     "data": {
      "text/plain": [
       "array([ 0,  1,  4,  9, 16, 25, 36, 49, 64, 81])"
      ]
     },
     "execution_count": 82,
     "metadata": {},
     "output_type": "execute_result"
    }
   ],
   "source": [
    "# Use arange, np.sqrt, astype --> trasformare un float in un intero\n",
    "\n",
    "a = np.arange(100) #voglio scegliere solo i quadrati che sono in questa lista\n",
    "a[np.sqrt(a) == np.sqrt(a).astype(int)] \n",
    "\n",
    "# NB a[np.sqrt(a) == int(np.sqrt(a))] --> da errore, perchè non funziona per array di valori --> usare astype()\n",
    "    #prendo i valori di a tali che la loro radice è uguale a farne la\n",
    "    #radice e prendere solo la parte intera, cioè la radice è un numero int"
   ]
  },
  {
   "cell_type": "markdown",
   "metadata": {},
   "source": [
    "# NumPy Functions"
   ]
  },
  {
   "cell_type": "markdown",
   "metadata": {},
   "source": [
    "http://docs.scipy.org/doc/numpy/reference/routines.math.html"
   ]
  },
  {
   "cell_type": "code",
   "execution_count": 83,
   "metadata": {},
   "outputs": [
    {
     "name": "stdout",
     "output_type": "stream",
     "text": [
      "[3 6 4 7 6 3 9 8 3 9]\n",
      "3\n",
      "9\n",
      "5.8\n",
      "2.315167380558045\n",
      "58\n"
     ]
    }
   ],
   "source": [
    "import random\n",
    "a = array([random.randint(0, 10) for i in range(10)])\n",
    "\n",
    "print (a)\n",
    "print (a.min())\n",
    "print (a.max())\n",
    "print (a.mean())\n",
    "print (a.std()) # standard deviation\n",
    "print (a.sum())"
   ]
  },
  {
   "cell_type": "code",
   "execution_count": 86,
   "metadata": {},
   "outputs": [],
   "source": [
    "b = arange(16).reshape(4, 4)       #FUNZIONI PER OGGETTI 2D\n"
   ]
  },
  {
   "cell_type": "code",
   "execution_count": 87,
   "metadata": {},
   "outputs": [
    {
     "name": "stdout",
     "output_type": "stream",
     "text": [
      "[0 1 2] [1 2 3]\n",
      "8\n"
     ]
    }
   ],
   "source": [
    "a = arange(0,3)\n",
    "b = arange(1,4)\n",
    "print(a, b)\n",
    "print(np.dot(a,b))  #prodotto scalare"
   ]
  },
  {
   "cell_type": "markdown",
   "metadata": {},
   "source": [
    "### Matrices"
   ]
  },
  {
   "cell_type": "code",
   "execution_count": 88,
   "metadata": {},
   "outputs": [
    {
     "name": "stdout",
     "output_type": "stream",
     "text": [
      "[[ 3.   2.  -1. ]\n",
      " [ 2.  -2.   4. ]\n",
      " [-1.   0.5 -1. ]]\n",
      "[[0.]]\n",
      "[[ 3. -2. -1.]]\n",
      "[[ 3.   2.  -1. ]\n",
      " [ 2.  -2.   0.5]\n",
      " [-1.   4.  -1. ]]\n",
      "[[ 1.48029737e-16 -5.00000000e-01 -2.00000000e+00]\n",
      " [ 6.66666667e-01  1.33333333e+00  4.66666667e+00]\n",
      " [ 3.33333333e-01  1.16666667e+00  3.33333333e+00]]\n",
      "[[ 3.   2.  -1. ]\n",
      " [ 2.  -2.   0.5]\n",
      " [-1.   4.  -1. ]]\n"
     ]
    }
   ],
   "source": [
    "a = matrix([[3, 2, -1], [2, -2, 4], [-1, .5, -1]])\n",
    "print (a)\n",
    "print (a.trace())        #noi useremo vett. 2D con numpy non useremo matrici\n",
    "print (a.diagonal())\n",
    "print (a.T) # matrix transpose\n",
    "print (a.I) # matrix inverse\n",
    "print (a.H) # matrix conjugate transpose"
   ]
  },
  {
   "cell_type": "code",
   "execution_count": 89,
   "metadata": {},
   "outputs": [
    {
     "ename": "ValueError",
     "evalue": "shapes (2,3) and (2,3) not aligned: 3 (dim 1) != 2 (dim 0)",
     "output_type": "error",
     "traceback": [
      "\u001b[0;31m---------------------------------------------------------------------------\u001b[0m",
      "\u001b[0;31mValueError\u001b[0m                                Traceback (most recent call last)",
      "\u001b[0;32m<ipython-input-89-929df3f3159e>\u001b[0m in \u001b[0;36m<module>\u001b[0;34m()\u001b[0m\n\u001b[1;32m      1\u001b[0m \u001b[0ma\u001b[0m \u001b[0;34m=\u001b[0m \u001b[0mmatrix\u001b[0m\u001b[0;34m(\u001b[0m\u001b[0marange\u001b[0m\u001b[0;34m(\u001b[0m\u001b[0;36m0\u001b[0m\u001b[0;34m,\u001b[0m\u001b[0;36m6\u001b[0m\u001b[0;34m)\u001b[0m\u001b[0;34m.\u001b[0m\u001b[0mreshape\u001b[0m\u001b[0;34m(\u001b[0m\u001b[0;36m2\u001b[0m\u001b[0;34m,\u001b[0m\u001b[0;36m3\u001b[0m\u001b[0;34m)\u001b[0m\u001b[0;34m)\u001b[0m\u001b[0;34m\u001b[0m\u001b[0m\n\u001b[0;32m----> 2\u001b[0;31m \u001b[0mprint\u001b[0m \u001b[0;34m(\u001b[0m\u001b[0ma\u001b[0m \u001b[0;34m*\u001b[0m \u001b[0ma\u001b[0m\u001b[0;34m)\u001b[0m\u001b[0;31m#questo è un prodotto tra matrici! se usiamo invece numpy,\u001b[0m\u001b[0;34m\u001b[0m\u001b[0m\n\u001b[0m\u001b[1;32m      3\u001b[0m              \u001b[0;31m#con questa sintassi indicheremmo il prodotto elemento per\u001b[0m\u001b[0;34m\u001b[0m\u001b[0;34m\u001b[0m\u001b[0m\n\u001b[1;32m      4\u001b[0m              \u001b[0;31m#elemento\u001b[0m\u001b[0;34m\u001b[0m\u001b[0;34m\u001b[0m\u001b[0m\n\u001b[1;32m      5\u001b[0m \u001b[0;34m\u001b[0m\u001b[0m\n",
      "\u001b[0;32m/Library/Frameworks/Python.framework/Versions/3.7/lib/python3.7/site-packages/numpy/matrixlib/defmatrix.py\u001b[0m in \u001b[0;36m__mul__\u001b[0;34m(self, other)\u001b[0m\n\u001b[1;32m    213\u001b[0m         \u001b[0;32mif\u001b[0m \u001b[0misinstance\u001b[0m\u001b[0;34m(\u001b[0m\u001b[0mother\u001b[0m\u001b[0;34m,\u001b[0m \u001b[0;34m(\u001b[0m\u001b[0mN\u001b[0m\u001b[0;34m.\u001b[0m\u001b[0mndarray\u001b[0m\u001b[0;34m,\u001b[0m \u001b[0mlist\u001b[0m\u001b[0;34m,\u001b[0m \u001b[0mtuple\u001b[0m\u001b[0;34m)\u001b[0m\u001b[0;34m)\u001b[0m \u001b[0;34m:\u001b[0m\u001b[0;34m\u001b[0m\u001b[0m\n\u001b[1;32m    214\u001b[0m             \u001b[0;31m# This promotes 1-D vectors to row vectors\u001b[0m\u001b[0;34m\u001b[0m\u001b[0;34m\u001b[0m\u001b[0m\n\u001b[0;32m--> 215\u001b[0;31m             \u001b[0;32mreturn\u001b[0m \u001b[0mN\u001b[0m\u001b[0;34m.\u001b[0m\u001b[0mdot\u001b[0m\u001b[0;34m(\u001b[0m\u001b[0mself\u001b[0m\u001b[0;34m,\u001b[0m \u001b[0masmatrix\u001b[0m\u001b[0;34m(\u001b[0m\u001b[0mother\u001b[0m\u001b[0;34m)\u001b[0m\u001b[0;34m)\u001b[0m\u001b[0;34m\u001b[0m\u001b[0m\n\u001b[0m\u001b[1;32m    216\u001b[0m         \u001b[0;32mif\u001b[0m \u001b[0misscalar\u001b[0m\u001b[0;34m(\u001b[0m\u001b[0mother\u001b[0m\u001b[0;34m)\u001b[0m \u001b[0;32mor\u001b[0m \u001b[0;32mnot\u001b[0m \u001b[0mhasattr\u001b[0m\u001b[0;34m(\u001b[0m\u001b[0mother\u001b[0m\u001b[0;34m,\u001b[0m \u001b[0;34m'__rmul__'\u001b[0m\u001b[0;34m)\u001b[0m \u001b[0;34m:\u001b[0m\u001b[0;34m\u001b[0m\u001b[0m\n\u001b[1;32m    217\u001b[0m             \u001b[0;32mreturn\u001b[0m \u001b[0mN\u001b[0m\u001b[0;34m.\u001b[0m\u001b[0mdot\u001b[0m\u001b[0;34m(\u001b[0m\u001b[0mself\u001b[0m\u001b[0;34m,\u001b[0m \u001b[0mother\u001b[0m\u001b[0;34m)\u001b[0m\u001b[0;34m\u001b[0m\u001b[0m\n",
      "\u001b[0;31mValueError\u001b[0m: shapes (2,3) and (2,3) not aligned: 3 (dim 1) != 2 (dim 0)"
     ]
    }
   ],
   "source": [
    "a = matrix(arange(0,6).reshape(2,3))\n",
    "print (a * a)#questo è un prodotto tra matrici! se usiamo invece numpy, \n",
    "             #con questa sintassi indicheremmo il prodotto elemento per\n",
    "             #elemento\n",
    "        \n",
    "#non posso fare questo prodotto"
   ]
  },
  {
   "cell_type": "code",
   "execution_count": 90,
   "metadata": {},
   "outputs": [
    {
     "name": "stdout",
     "output_type": "stream",
     "text": [
      "[[ 5 14]\n",
      " [14 50]]\n"
     ]
    }
   ],
   "source": [
    "print (a * a.T) # matrici ---> uso la trasposta "
   ]
  },
  {
   "cell_type": "markdown",
   "metadata": {},
   "source": [
    "## Exercise: Implement the matrix product using python loops and compare the execution time with the Numpy implementation"
   ]
  },
  {
   "cell_type": "code",
   "execution_count": 91,
   "metadata": {},
   "outputs": [],
   "source": [
    "a = np.arange(50).reshape(5,10)\n",
    "\n",
    "def my_dot(a,b):\n",
    "    \n",
    "    m = len(a)\n",
    "    n = len(b[0])\n",
    "    p = len(b)\n",
    "    result = np.zeros((m,n))\n",
    "    for i in range(m):\n",
    "        for j in range(n):\n",
    "            for k in range(p):\n",
    "                result[i][j] = result[i][j] + a[i][k]*b[k][j]\n",
    "    return result\n",
    "  "
   ]
  },
  {
   "cell_type": "code",
   "execution_count": null,
   "metadata": {},
   "outputs": [],
   "source": []
  },
  {
   "cell_type": "code",
   "execution_count": 92,
   "metadata": {},
   "outputs": [
    {
     "name": "stdout",
     "output_type": "stream",
     "text": [
      "429 µs ± 51.7 µs per loop (mean ± std. dev. of 7 runs, 1000 loops each)\n"
     ]
    }
   ],
   "source": [
    "%timeit my_dot(a,a.T)"
   ]
  },
  {
   "cell_type": "code",
   "execution_count": 93,
   "metadata": {},
   "outputs": [
    {
     "name": "stdout",
     "output_type": "stream",
     "text": [
      "1.5 µs ± 54.9 ns per loop (mean ± std. dev. of 7 runs, 1000000 loops each)\n"
     ]
    }
   ],
   "source": [
    "%timeit a.dot(a.T)"
   ]
  },
  {
   "cell_type": "markdown",
   "metadata": {},
   "source": [
    "## Exercise:  Reimplement the perceptron using NumPy (e.g., using the matrix product operation)"
   ]
  },
  {
   "cell_type": "code",
   "execution_count": 94,
   "metadata": {},
   "outputs": [
    {
     "name": "stdout",
     "output_type": "stream",
     "text": [
      "Overwriting data.csv\n"
     ]
    }
   ],
   "source": [
    "%%file data.csv\n",
    "x1,x2,y\n",
    "0.4946,5.7661,0\n",
    "4.7206,5.7661,1\n",
    "1.2888,5.3433,0\n",
    "4.2898,5.3433,1\n",
    "1.4293,4.5592,0\n",
    "4.2286,4.5592,1\n",
    "1.1921,5.8563,0\n",
    "3.1454,5.8563,1\n",
    "1.063,5.7357,0\n",
    "5.1043,5.7357,1\n",
    "1.5079,5.8622,0\n",
    "3.9799,5.8622,1\n",
    "0.2678,6.9931,0\n",
    "4.5288,6.9931,1\n",
    "0.9726,3.6268,0\n",
    "4.106,3.6268,1\n",
    "2.5389,3.3884,0\n",
    "4.7555,3.3884,1\n",
    "2.473,5.6404,0\n",
    "4.7977,5.6404,1"
   ]
  },
  {
   "cell_type": "code",
   "execution_count": 95,
   "metadata": {},
   "outputs": [
    {
     "name": "stdout",
     "output_type": "stream",
     "text": [
      "[[0.4946 5.7661]\n",
      " [4.7206 5.7661]\n",
      " [1.2888 5.3433]\n",
      " [4.2898 5.3433]\n",
      " [1.4293 4.5592]\n",
      " [4.2286 4.5592]\n",
      " [1.1921 5.8563]\n",
      " [3.1454 5.8563]\n",
      " [1.063  5.7357]\n",
      " [5.1043 5.7357]\n",
      " [1.5079 5.8622]\n",
      " [3.9799 5.8622]\n",
      " [0.2678 6.9931]\n",
      " [4.5288 6.9931]\n",
      " [0.9726 3.6268]\n",
      " [4.106  3.6268]\n",
      " [2.5389 3.3884]\n",
      " [4.7555 3.3884]\n",
      " [2.473  5.6404]\n",
      " [4.7977 5.6404]]\n",
      "[0. 1. 0. 1. 0. 1. 0. 1. 0. 1. 0. 1. 0. 1. 0. 1. 0. 1. 0. 1.]\n",
      "<class 'numpy.ndarray'>\n",
      "<class 'numpy.ndarray'>     (20, 2)\n"
     ]
    }
   ],
   "source": [
    "data = np.genfromtxt('data.csv', delimiter=',', skip_header=1)\n",
    "\n",
    "X = data[:,:-1]\n",
    "y = data[:,-1]\n",
    "\n",
    "print(X)\n",
    "print(y)\n",
    "print(type(data))\n",
    "print(type(X), \"   \", X.shape)"
   ]
  },
  {
   "cell_type": "code",
   "execution_count": 96,
   "metadata": {},
   "outputs": [],
   "source": [
    "? np.genfromtxt()"
   ]
  },
  {
   "cell_type": "code",
   "execution_count": 97,
   "metadata": {},
   "outputs": [
    {
     "data": {
      "text/plain": [
       "[<matplotlib.lines.Line2D at 0x10d9862e8>]"
      ]
     },
     "execution_count": 97,
     "metadata": {},
     "output_type": "execute_result"
    },
    {
     "data": {
      "image/png": "[encoded data removed]",
      "text/plain": [
       "<Figure size 432x288 with 1 Axes>"
      ]
     },
     "metadata": {
      "needs_background": "light"
     },
     "output_type": "display_data"
    }
   ],
   "source": [
    "c0 = y==0\n",
    "c1 = y==1\n",
    "\n",
    "plt.plot(X[:,0][c0], X[:,1][c0], 'x', mec='r', mfc='none')\n",
    "plt.plot(X[:,0][c1], X[:,1][c1], 'o', mec='g', mfc='none')"
   ]
  },
  {
   "cell_type": "code",
   "execution_count": 98,
   "metadata": {},
   "outputs": [
    {
     "name": "stdout",
     "output_type": "stream",
     "text": [
      "SUCCESS!\n"
     ]
    }
   ],
   "source": [
    "class Perceptron: #creiamo una classe\n",
    "        \n",
    "    def predict(self, x): #x vett. che può avere qualunque n. di elementi\n",
    "        y = self.w[0] + np.dot(self.w[1:],x) #prima posizione dei w è \n",
    "                                             #l'intercetta della retta\n",
    "                                             #poi faccio il prod. scalare\n",
    "                #tra w e x. però w ha d+1 dimensioni, quindi considero solo\n",
    "                #dalla seconda colonna in poi di w.\n",
    "        if y<0:\n",
    "            return 0\n",
    "        else:\n",
    "            return 1  \n",
    "\n",
    "    def fit(self, X, y):\n",
    "        n = X.shape[0]\n",
    "        d = X.shape[1]\n",
    "        self.w = np.zeros(d+1)\n",
    "       \n",
    "        stop = False\n",
    "        for i in range(10000): #faccio il for così sono sicuro che, se \n",
    "                               #anche la condizione non viene mai soddisfatta,\n",
    "                               #dopo massimo 10000 cicli esco.\n",
    "            stop = True\n",
    "            \n",
    "            for idx in range(n): #per ogni punto \n",
    "                x = X[idx]       #assegno al vett. x la posizione del punto\n",
    "                ypred = self.predict(x) #risultato predetto.\n",
    "                                        #per chiamare una funzione della \n",
    "                                        #stessa classe devo usare self\n",
    "                ytrue = y[idx]     #risultato vero\n",
    "                \n",
    "                if ypred == 0 :\n",
    "                    ypred = -1\n",
    "                if ytrue == 0 :\n",
    "                    ytrue = -1\n",
    "                    \n",
    "                if ytrue != ypred:\n",
    "                    stop = False\n",
    "                    \n",
    "                    self.w[1:] = self.w[1:] + ytrue*x\n",
    "                    self.w[0] = self.w[0] + ytrue\n",
    "                              \n",
    "    \n",
    "p = Perceptron()\n",
    "p.fit(X, y)\n",
    "\n",
    "for i,x in enumerate(X):\n",
    "    #print i,\"   \", x, \"   \", p.predict(x), \"   \", y[i]   #per vedere cosa sta faendo\n",
    "    if p.predict(x) != y[i]:\n",
    "        print('FAIL')\n",
    "        break\n",
    "else:\n",
    "    print('SUCCESS!')\n",
    "    \n"
   ]
  },
  {
   "cell_type": "markdown",
   "metadata": {},
   "source": [
    "## Exercise:  Read a digits image and split it up in different training examples"
   ]
  },
  {
   "cell_type": "code",
   "execution_count": 99,
   "metadata": {},
   "outputs": [
    {
     "name": "stdout",
     "output_type": "stream",
     "text": [
      "(80, 80)\n",
      "float32\n"
     ]
    },
    {
     "name": "stderr",
     "output_type": "stream",
     "text": [
      "/Library/Frameworks/Python.framework/Versions/3.7/lib/python3.7/site-packages/ipykernel_launcher.py:2: DeprecationWarning: `imread` is deprecated!\n",
      "`imread` is deprecated in SciPy 1.0.0, and will be removed in 1.2.0.\n",
      "Use ``imageio.imread`` instead.\n",
      "  \n"
     ]
    },
    {
     "data": {
      "text/plain": [
       "<matplotlib.image.AxesImage at 0x10f26aef0>"
      ]
     },
     "execution_count": 99,
     "metadata": {},
     "output_type": "execute_result"
    },
    {
     "data": {
      "image/png": "[encoded data removed]",
      "text/plain": [
       "<Figure size 432x288 with 1 Axes>"
      ]
     },
     "metadata": {
      "needs_background": "light"
     },
     "output_type": "display_data"
    }
   ],
   "source": [
    "from scipy import misc\n",
    "img = misc.imread('data/digits.png', flatten=1)\n",
    "\n",
    "print(img.shape)\n",
    "print(img.dtype)\n",
    "\n",
    "plt.imshow(img, cmap='Greys_r')"
   ]
  },
  {
   "cell_type": "code",
   "execution_count": 105,
   "metadata": {},
   "outputs": [
    {
     "name": "stdout",
     "output_type": "stream",
     "text": [
      "[9.46810973e-01 4.88166948e-01 3.23967380e+00 4.28987145e-01\n",
      " 1.79190632e-02 1.40063390e+00 9.37982417e-03 1.21325807e+00\n",
      " 1.56502385e-01 2.41136559e-01 1.58176747e+00 6.01818387e+00\n",
      " 6.65371515e-01 6.84798114e-01 9.98469339e-01 3.44777357e-01\n",
      " 8.94895872e-01 5.47303508e-02 6.99346447e-01 1.13950899e+00\n",
      " 1.60744079e+00 6.66185960e-01 1.24150591e-01 2.13524695e-01\n",
      " 3.52829534e-02 8.65328545e-01 1.15859679e+00 2.68561485e-01\n",
      " 4.56889547e-01 9.35079687e-01 3.38045154e-01 1.21580823e-01\n",
      " 2.09148213e+00 7.06092587e-01 4.78595684e-01 1.15246455e+00\n",
      " 1.92864965e+00 5.11893487e-01 1.89404755e-01 8.70747920e-02\n",
      " 8.85391426e-01 1.07890810e+00 1.79127679e+00 1.71327949e+00\n",
      " 1.32772327e+00 1.31245976e-01 9.40050202e-01 1.84187449e+00\n",
      " 5.58564880e-01 4.17887196e-01 4.47404863e-01 2.77360890e+00\n",
      " 4.51551063e-01 5.00230411e-01 6.99326564e-01 7.64607726e-03\n",
      " 1.13674351e-01 2.16469451e+00 1.46786564e+00 1.14872849e+00\n",
      " 1.79604649e-01 7.95836158e-01 1.09832398e+00 3.01729079e+00\n",
      " 1.46703486e+00 2.38814628e-01 8.17200262e-02 1.09862823e+00\n",
      " 1.01989702e+00 7.40095271e-01 3.89089629e+00 9.65936374e-01\n",
      " 2.32818857e+00 2.57454183e-01 6.89779086e-01 2.20363752e+00\n",
      " 3.60385091e-01 1.42702979e-02 1.49329101e+00 5.70047735e-02\n",
      " 5.78589103e-01 7.50274772e-01 1.12464202e+00 9.83476934e-01\n",
      " 2.26915875e+00 7.43270311e-02 6.01488743e-01 1.12585914e+00\n",
      " 3.14397313e+00 6.84749817e-01 4.23364894e-01 6.75019989e-01\n",
      " 5.58250108e-01 7.24466422e-01 4.39174879e-01 1.23068436e+00\n",
      " 1.11272895e+00 6.46742075e-01 2.46126146e+00 2.00458517e-01\n",
      " 1.71945517e+00 4.68545411e-01 3.82732928e-01 1.19622454e+00\n",
      " 7.87749889e-01 2.45720476e-01 1.39386626e+00 1.26687334e+00\n",
      " 8.11600580e-02 2.56881524e-01 3.43687338e-01 2.35130066e-01\n",
      " 6.94419144e-01 1.08122906e-01 2.61203430e-01 1.51506529e+00\n",
      " 2.18701158e+00 4.26073829e-01 7.63204588e-03 6.43816830e-01\n",
      " 4.88300338e-01 2.40058153e+00 3.43161111e-01 2.10856471e-01\n",
      " 5.19502078e-01 1.36312136e+00 1.25955322e+00 2.51981972e-01\n",
      " 1.59330341e+00 9.95953158e-01 2.22915478e-01 4.11707418e+00\n",
      " 1.24376692e-03 6.48826896e-02 5.10166974e-01 1.03761542e+00\n",
      " 5.50486338e-01 1.25855284e+00 7.44550224e-02 3.83933775e-02\n",
      " 3.42886460e-01 2.54299990e+00 1.70107583e+00 5.00566602e-01\n",
      " 3.31305579e-01 4.11479035e-01 1.46910844e-01 3.92749605e-01\n",
      " 2.46542956e+00 9.35774406e-01 1.66314221e+00 2.37636724e+00\n",
      " 5.60017114e-01 4.03078819e-01 2.96540110e+00 7.15306474e-01\n",
      " 7.13235221e-01 2.94950711e+00 1.23290190e+00 4.56725135e+00\n",
      " 3.28519206e-02 6.63497046e-01 9.48621080e-01 1.44456036e+00\n",
      " 1.47577810e+00 6.40597742e-01 2.55409624e+00 3.17791635e-01\n",
      " 2.89591363e+00 1.10525284e+00 6.59270096e-01 5.50174459e-01\n",
      " 1.64105108e-01 2.00983466e-01 7.96550240e-01 2.70883517e-01\n",
      " 1.29318705e+00 5.43497417e-01 4.75537076e-01 3.54923769e-01\n",
      " 7.03801559e-01 3.67032155e-01 1.75260126e+00 2.59827183e+00\n",
      " 1.32800640e-01 1.60990798e+00 1.49230755e-01 1.08097390e+00\n",
      " 2.45598179e-01 1.18014091e-01 9.19759344e-01 8.64350986e-02\n",
      " 6.19967440e-01 2.05785951e+00 1.01193765e-01 3.73039779e-01\n",
      " 3.65072607e-01 1.10947068e+00 4.35927656e-01 3.21529303e+00\n",
      " 6.43221517e-01 3.88139124e+00 1.04022600e+00 4.62638276e-01\n",
      " 5.40759463e-01 1.62800286e+00 7.60153845e-01 4.79336755e-01\n",
      " 7.71235529e-01 8.76406277e-01 1.06720706e-01 2.97645921e+00\n",
      " 2.19022633e-01 6.09494422e-01 6.41626985e-01 2.11104170e+00\n",
      " 4.82964402e-02 5.40738203e-01 6.15756347e-01 1.58702059e+00\n",
      " 1.30896686e+00 4.04402169e-01 2.65269492e-01 2.50129335e+00\n",
      " 3.67551242e+00 5.19163494e-01 7.60934737e-03 8.91484204e-01\n",
      " 1.03540669e+00 3.64727490e+00 8.32399105e-01 5.22744312e-01\n",
      " 1.07244313e+00 2.24508064e-01 1.28076901e+00 1.24737955e-01\n",
      " 1.66268704e+00 4.37793217e-01 3.58826639e-01 1.00787639e+00\n",
      " 1.89804102e+00 1.47116340e+00 1.88218293e-01 2.15566807e-01\n",
      " 1.34106037e-01 3.36223482e-02 3.10220885e-01 4.37209934e-04\n",
      " 1.30754786e+00 2.72213161e+00 3.40172030e-01 2.67909249e-01\n",
      " 9.64466964e-01 1.56509552e+00 1.42496816e-01 5.09364734e-01\n",
      " 1.21005513e+00 6.00619562e-01 1.48050298e+00 1.82586714e+00\n",
      " 1.92263234e+00 1.39743958e+00 2.32396397e-01 1.84499061e+00\n",
      " 1.41458752e+00 2.42771292e-01 7.17580095e-02 2.86894767e-02\n",
      " 2.88089995e-01 3.28731918e+00 2.23241025e-01 8.19335064e-01\n",
      " 5.58266210e-01 1.93952788e-03 2.94688076e+00 1.19053437e-01\n",
      " 2.00762812e+00 1.16448391e+00 1.22592070e-01 6.81173747e-01\n",
      " 4.22538920e-01 3.19734909e+00 2.62802248e+00 7.54663498e-01\n",
      " 5.98203862e-01 1.90186252e-01 3.63288305e-01 3.47467430e-01\n",
      " 1.28577667e-01 2.30223103e+00 6.86550350e-01 4.39837525e+00\n",
      " 2.09817181e+00 1.36212373e+00 7.38266553e-02 1.15718895e+00\n",
      " 1.34645710e+00 9.73998297e-01 1.10612979e+00 4.59451192e+00\n",
      " 1.55915795e+00 2.96012849e+00 2.96603812e-01 2.87667203e-01\n",
      " 2.43542536e-01 3.11765435e-01 2.83965951e-01 7.70162607e-01\n",
      " 3.96772894e-01 1.43056884e+00 9.15582880e-01 2.35174244e+00\n",
      " 3.32166252e-01 5.00972356e-01 1.46813065e+00 1.21498753e+00\n",
      " 1.27533412e+00 1.48801634e-02 1.66404001e+00 1.07240110e+00\n",
      " 2.99542085e-01 1.41016387e+00 1.73459360e-01 2.55669586e-01\n",
      " 6.63073215e-01 2.83766496e-01 6.35729963e-01 6.17317383e-02\n",
      " 8.96090001e-01 3.12376124e-01 7.01764733e-01 1.12901148e+00\n",
      " 2.56181977e-01 2.91235370e+00 1.76881410e-01 2.49684333e+00\n",
      " 3.10103174e-01 1.27642621e+00 2.95695849e-01 1.54723781e+00\n",
      " 5.68737160e-01 2.78312654e+00 3.45003464e-01 6.70376678e-01\n",
      " 1.29697414e+00 3.44649393e-01 9.98405886e-01 3.94114760e-01\n",
      " 6.66958870e-01 2.16020779e+00 3.37509201e-01 3.07581802e-01\n",
      " 1.06647881e+00 1.61261787e-02 7.92795811e-01 2.57382848e+00\n",
      " 9.07115828e-01 1.01415902e+00 4.26704343e-01 1.33053878e-01\n",
      " 1.33818567e+00 1.70847242e+00 7.63632656e-01 1.78452410e-01\n",
      " 3.46747455e-01 2.21038553e+00 2.71622982e+00 8.98682107e-01\n",
      " 3.02457867e-01 1.74311783e+00 1.27725350e+00 4.88141626e-02\n",
      " 1.13559953e+00 2.87258271e+00 8.12126740e-01 5.83391949e+00\n",
      " 1.08498213e+00 2.18873933e-01 4.19532708e-01 2.66264786e+00\n",
      " 1.65438675e+00 6.35966933e-01 7.51300879e-01 1.08563225e+00\n",
      " 1.47300259e+00 6.86219067e-01 1.03573130e+00 7.77608338e-01\n",
      " 1.34567230e+00 2.03462974e+00 2.14828719e-01 5.87770329e-01\n",
      " 2.48662190e+00 2.03577026e-01 5.07266885e-01 1.98128538e+00\n",
      " 2.26666178e-01 3.29314450e+00 1.15733092e+00 2.48573359e+00\n",
      " 9.11005956e-01 3.31228060e-01 4.01374243e-01 1.99324687e+00\n",
      " 2.68345597e+00 9.45913756e-01 9.37820501e-01 1.66814932e+00\n",
      " 6.66060828e-01 3.29547744e+00 1.33514158e+00 1.50674949e+00\n",
      " 2.79634287e-01 2.27765434e-01 7.07645946e-01 2.83273977e+00\n",
      " 8.87730289e-01 3.30603611e+00 8.69137518e-01 1.23718846e+00\n",
      " 2.48480853e-01 6.83369883e-02 5.08683509e-01 8.70448799e-01\n",
      " 5.12267341e-01 7.12259667e-01 3.41061211e+00 7.64712152e-01\n",
      " 5.00978899e-01 1.46132244e+00 4.62429084e-02 5.60551663e-01\n",
      " 3.85643482e+00 1.24749677e+00 2.80001412e+00 8.44277573e-03\n",
      " 1.37865059e-01 2.09567068e+00 3.83617512e-02 2.60642066e-01\n",
      " 6.36598282e-01 5.89374136e-01 8.17296087e-02 9.59800951e-01\n",
      " 3.41063256e-01 1.51791982e+00 6.23850743e-01 1.54577048e+00\n",
      " 1.51563691e+00 2.45592305e+00 1.87487147e+00 7.01926642e-01\n",
      " 9.60316165e-01 1.53352487e+00 4.39945361e-01 4.35768734e-01\n",
      " 8.43663520e-01 1.11174896e-01 2.58593861e+00 9.03802361e-01\n",
      " 1.48673555e+00 9.35163312e-03 1.08820308e+00 2.42434683e-01\n",
      " 4.69897310e-01 4.70248739e-01 2.53527151e-02 6.09458213e-01\n",
      " 6.84894716e-02 1.85101617e+00 1.44950994e+00 5.91636170e+00\n",
      " 9.39846948e-01 1.26906397e+00 1.76003097e+00 2.68789905e-01\n",
      " 2.23852387e+00 4.05000410e-01 1.89935522e+00 1.62084111e+00\n",
      " 1.54987579e+00 9.85332505e-01 6.54015991e-01 1.44892961e+00\n",
      " 4.13887080e-01 2.21239499e+00 1.61260958e-02 1.57261701e-01\n",
      " 2.14890846e+00 7.31122801e-01 1.07990571e+00 2.10759851e-01\n",
      " 1.89507491e+00 1.38802626e+00 1.68778328e-01 3.48245101e+00\n",
      " 4.68068603e-01 2.23679566e+00 1.02846077e+00 4.10288141e-01\n",
      " 5.07084542e-01 4.07004472e-01 5.81532721e-01 2.20885551e+00\n",
      " 1.43822142e-01 2.19756454e+00 2.28658546e+00 7.96279070e-01\n",
      " 1.73304130e+00 1.95032808e+00 1.38158296e+00 1.65006776e+00\n",
      " 1.03036730e+00 9.91494806e-01 3.41209715e-01 4.05490839e-01\n",
      " 6.44218076e-01 2.75171707e-01 4.05106104e-01 2.29457047e-01\n",
      " 1.30622890e-01 1.49053624e+00 4.68070402e-01 3.81926883e+00\n",
      " 5.54275310e-02 5.43516645e+00 1.47279957e+00 6.82432640e-01\n",
      " 7.53170651e-01 8.06194333e-01 8.06198894e-01 4.36043836e-01\n",
      " 2.40175005e+00 7.09799857e-01 3.77252135e-01 3.67136571e+00\n",
      " 2.11964020e+00 9.93348522e-01 1.59043756e+00 3.08487599e-01\n",
      " 7.81414608e-01 1.13978063e-01 8.73767496e-01 7.05624225e-01\n",
      " 4.94816818e-01 6.10932477e-01 3.33217569e-01 2.61582878e+00\n",
      " 1.59735870e-01 6.30164948e-01 3.05675770e-01 2.50252939e-01\n",
      " 4.98785279e-01 1.17133325e-01 1.45348746e+00 5.16553396e-02\n",
      " 2.26394892e+00 2.45954812e+00 2.20145361e+00 1.74022133e+00\n",
      " 3.32209967e-01 1.26416540e+00 7.97831083e-01 3.34193587e+00\n",
      " 5.04862432e-01 7.44870139e-01 1.07790687e+00 2.43910209e-02\n",
      " 1.09552754e+00 5.45787298e-02 2.91267925e-01 1.51616057e-01\n",
      " 7.04101009e-01 4.00614100e-01 2.07298515e-01 4.58601443e-01\n",
      " 2.12893931e+00 1.40267835e+00 1.42047124e-01 5.48905980e-01\n",
      " 3.56588624e-01 2.41476381e-01 3.27868457e-01 8.91649447e-01\n",
      " 5.21747662e-01 3.38404857e-01 2.19619817e+00 1.18548958e+00\n",
      " 1.74643643e+00 1.54227417e+00 1.64475473e+00 4.01158747e-01\n",
      " 1.19506746e+00 4.25978019e-01 2.91138880e-01 2.14432658e+00\n",
      " 2.92122227e-01 4.50052733e-01 1.14720101e+00 1.02851379e+00\n",
      " 6.27680882e-01 9.73409121e-01 6.57371669e-01 8.12125934e-03\n",
      " 7.08747499e-02 4.97244396e+00 1.21426886e+00 2.48381585e+00\n",
      " 4.43769240e-01 1.48971652e+00 1.19883305e-01 4.08613029e-01\n",
      " 1.59342535e+00 2.51910176e-01 3.60100663e-01 7.32694922e-03\n",
      " 1.58411760e+00 1.07575040e+00 1.26083926e+00 6.49833958e-02\n",
      " 5.89112867e-02 3.27037146e-01 1.99025030e+00 1.57723405e+00\n",
      " 1.20699156e+00 2.94385369e-01 9.14264789e-01 3.56688097e-01\n",
      " 4.40254940e-02 1.42297786e+00 1.31173198e+00 1.81999727e-01\n",
      " 2.02533177e-01 2.40446019e-01 1.82433899e+00 2.22558590e-01\n",
      " 1.17405490e+00 9.01422712e-01 5.19172665e-01 2.23698170e+00\n",
      " 3.47272735e-01 2.63489807e+00 2.99396660e-01 4.01261026e+00\n",
      " 2.32356275e+00 7.00016943e-01 1.37654632e+00 4.52724388e-01\n",
      " 5.06689733e-01 6.51992103e-03 3.08544600e-01 8.50330633e-01\n",
      " 1.07413780e-01 3.09048301e-01 3.24226527e-01 2.38700211e-01\n",
      " 1.76776289e+00 1.44995053e+00 1.43054780e-01 6.56795034e-03\n",
      " 4.71608730e-01 1.92574979e+00 1.80248625e+00 4.19462095e-01\n",
      " 2.80090787e-01 1.08271550e+00 1.20630856e+00 1.24477670e+00\n",
      " 6.06311734e-01 1.81503081e+00 5.02624812e-01 1.01169557e-02\n",
      " 1.28518555e+00 2.56082020e-02 1.08709577e-01 1.74413499e+00\n",
      " 2.13767985e-01 3.27606765e-01 1.19136211e+00 5.91675000e-01\n",
      " 4.96151298e-01 4.41389682e-01 4.00878027e-01 6.20248573e-01\n",
      " 2.41728465e+00 1.41350986e+00 3.23198505e-01 1.57280399e-02\n",
      " 2.09886249e-01 9.62823719e-01 1.44351399e-02 1.04563643e-01\n",
      " 1.21614634e+00 2.17291926e+00 1.08386277e+00 2.73262451e-01\n",
      " 9.85006533e-02 6.80600439e-01 2.75376721e-01 1.05670595e+00\n",
      " 3.90311916e-01 1.00566267e+00 4.03133530e-01 2.12462960e+00\n",
      " 3.37429150e-01 4.50331778e-01 9.72856576e-01 4.68404208e-01\n",
      " 1.56053655e+00 2.45232231e+00 1.47535370e+00 3.16229314e-02\n",
      " 1.90316953e+00 1.81283491e-02 1.12980386e+00 1.55676600e+00\n",
      " 6.66994524e-01 6.60802260e-02 2.81394171e-01 5.96504398e-02\n",
      " 2.41881077e+00 9.82872909e-01 1.30860685e+00 7.99898501e-01\n",
      " 1.60992581e+00 1.74892922e+00 6.97566688e-02 1.74289363e+00\n",
      " 3.97103625e-01 5.32013959e-01 1.12246363e+00 6.58236912e-02\n",
      " 2.90676995e+00 7.42021166e-01 1.40896076e+00 2.64029425e+00\n",
      " 6.49672964e-01 1.81508866e+00 4.31843578e-02 3.98898507e-01\n",
      " 1.07345020e+00 3.79970373e+00 2.08517272e+00 1.40387544e+00\n",
      " 1.90863159e+00 5.47017461e-01 2.51621423e-01 2.66484845e-01\n",
      " 1.42264235e+00 9.31818522e-01 1.29786876e+00 3.37208905e-01\n",
      " 2.77236474e-01 1.28480780e+00 8.69520597e-01 1.66123070e+00\n",
      " 1.23020975e+00 6.87218922e-01 2.75818000e+00 9.38897726e-01\n",
      " 3.18961563e-01 1.95921627e-01 1.28250154e-01 1.84277350e-01\n",
      " 3.75410907e-01 6.99926116e-02 1.37434322e+00 1.34785710e-01\n",
      " 2.51857084e-01 1.32014423e-01 1.14684198e+00 1.42220020e-01\n",
      " 4.78983561e-01 1.05444183e+00 1.21873474e-01 1.00826634e+00\n",
      " 1.17756477e+00 8.94448003e-01 2.96433782e-02 2.76568925e-01\n",
      " 1.53273033e+00 5.84536483e-03 2.16363468e-01 1.32747467e+00\n",
      " 2.32397386e+00 5.71505845e-01 9.91120758e-01 8.03590966e-02\n",
      " 4.74328686e-01 4.19167149e-02 1.85440295e-02 9.99405697e-01\n",
      " 9.43746663e-01 1.47065831e+00 4.34115517e-01 1.21850045e-01\n",
      " 8.25987768e-01 2.25115863e+00 3.15498503e+00 2.36726323e-01\n",
      " 6.96019295e-01 2.54223127e+00 5.01268441e+00 9.20101453e-01\n",
      " 3.53563120e-01 1.91015981e+00 1.08139131e-01 9.91236653e-01\n",
      " 1.06569170e+00 2.90122918e+00 1.07140841e-01 8.98319161e-01\n",
      " 5.65537636e-01 8.08788318e-01 3.40916677e-01 6.62190862e-01\n",
      " 1.73753379e-02 3.81302191e-01 1.72819766e-01 5.63960223e-01\n",
      " 5.75375652e-02 1.26350019e+00 2.14116145e-01 5.66701621e+00\n",
      " 2.37518783e+00 1.06777993e-02 1.26791413e+00 1.12770100e+00\n",
      " 1.35068234e+00 6.78336761e-01 4.47325371e-01 3.65164498e-01\n",
      " 1.24494510e+00 2.94086073e-01 8.60126657e-01 2.03675777e-01\n",
      " 2.35601384e-01 2.71438433e-01 6.67612370e-01 2.06362906e-01\n",
      " 1.34911050e+00 5.12176227e+00 5.84742171e-01 2.63733673e+00\n",
      " 1.48703401e+00 1.64988703e+00 9.03830051e-01 4.65290630e-01\n",
      " 7.91691317e-01 1.22459648e-01 3.99148411e-01 1.66903538e+00\n",
      " 6.11500970e-01 1.85283850e+00 7.73305244e-01 1.20321396e+00\n",
      " 1.57789405e+00 2.34423785e-02 3.54979486e-01 9.32905783e-01\n",
      " 9.04754477e-01 1.03227967e+00 3.29036972e-01 1.04611187e+00\n",
      " 3.74897232e+00 2.45561145e-01 3.86507711e+00 4.51637565e-01\n",
      " 8.51422069e-01 9.56304440e-02 1.13949609e+00 4.72256425e-01\n",
      " 5.20311410e-01 4.06721326e-01 1.89283699e+00 5.68389856e-01\n",
      " 1.25629915e-01 7.93467577e-01 3.79414310e+00 4.10783001e-01\n",
      " 6.53186096e-01 1.28242386e+00 4.23733559e-01 1.75580908e+00\n",
      " 2.14738730e+00 6.66952445e-01 5.04081263e-02 3.28531533e-01\n",
      " 1.12416607e+00 5.72535607e-01 1.36786204e+00 3.44129171e-01\n",
      " 2.07625368e-01 1.00146137e+00 5.13293481e-01 2.07990031e-01\n",
      " 8.08144969e-01 3.94789603e+00 1.30867261e-01 1.37460894e-01\n",
      " 4.35407914e-01 1.50007226e+00 6.36486686e-01 3.86239462e-01\n",
      " 3.99805710e-01 6.65812838e-01 5.26822859e+00 6.88609070e-01\n",
      " 2.41111523e+00 1.72607495e+00 5.38920437e-01 6.76740494e-01\n",
      " 3.86478277e-02 7.71220364e-02 2.98521251e-02 3.04284122e+00\n",
      " 1.33413148e+00 2.59210858e-02 1.39481613e+00 2.85176298e-01\n",
      " 7.23782477e-01 1.54020776e-01 2.53762240e+00 8.12524776e-01\n",
      " 1.14451064e+00 8.26195079e-01 1.32652304e+00 6.69928173e-01\n",
      " 4.14455192e-01 4.63136714e-01 3.68735230e-01 1.75294981e+00\n",
      " 8.66927384e-01 5.47826366e-01 1.46251470e+00 5.57244988e-01\n",
      " 1.70347732e-02 1.72389294e+00 1.77435315e-01 4.84645554e-01\n",
      " 4.00370952e-01 6.94614329e-01 8.07618966e-01 2.72103752e-01\n",
      " 6.66228766e-01 2.81622469e-01 1.09284542e+00 1.39998885e+00\n",
      " 1.69608021e+00 9.40201969e-01 1.07923732e+00 2.45926229e+00\n",
      " 2.85244945e+00 2.63457995e-01 3.66185601e-01 4.91945273e-01\n",
      " 1.33568440e+00 3.11466653e+00 1.37913738e+00 1.36679838e+00\n",
      " 1.88788560e+00 7.23955909e-01 2.09674779e+00 5.34021394e-01\n",
      " 1.35331026e+00 4.12588872e-01 2.17456963e+00 1.32037173e+00\n",
      " 1.26089488e-02 2.20838040e+00 5.31585740e-01 1.57342827e-01\n",
      " 2.30138972e+00 7.99112247e-01 5.17761673e-01 6.71336732e-01\n",
      " 1.26488897e-01 2.18340511e+00 2.33745032e+00 3.91938711e-01\n",
      " 4.58249201e-01 1.34397747e-01 1.22543089e-01 1.61963173e+00\n",
      " 6.46342637e-01 2.70295977e-01 4.33666626e-02 2.10864116e-01\n",
      " 1.42217917e+00 3.76813436e-01 1.67085577e-01 2.13782386e-02\n",
      " 5.64586145e-01 3.60811231e-01 1.70674061e+00 1.08506403e+00\n",
      " 1.83305831e+00 2.67202644e+00 3.17371362e+00 1.46249865e+00]\n"
     ]
    },
    {
     "ename": "TypeError",
     "evalue": "Invalid dimensions for image data",
     "output_type": "error",
     "traceback": [
      "\u001b[0;31m---------------------------------------------------------------------------\u001b[0m",
      "\u001b[0;31mTypeError\u001b[0m                                 Traceback (most recent call last)",
      "\u001b[0;32m<ipython-input-105-8c00984ad299>\u001b[0m in \u001b[0;36m<module>\u001b[0;34m()\u001b[0m\n\u001b[1;32m      1\u001b[0m \u001b[0mprint\u001b[0m\u001b[0;34m(\u001b[0m\u001b[0mdata\u001b[0m\u001b[0;34m)\u001b[0m\u001b[0;34m\u001b[0m\u001b[0m\n\u001b[0;32m----> 2\u001b[0;31m \u001b[0mplt\u001b[0m\u001b[0;34m.\u001b[0m\u001b[0mimshow\u001b[0m\u001b[0;34m(\u001b[0m\u001b[0mdata\u001b[0m\u001b[0;34m,\u001b[0m \u001b[0mcmap\u001b[0m\u001b[0;34m=\u001b[0m\u001b[0;34m'Greys_r'\u001b[0m\u001b[0;34m)\u001b[0m\u001b[0;34m\u001b[0m\u001b[0m\n\u001b[0m",
      "\u001b[0;32m/Library/Frameworks/Python.framework/Versions/3.7/lib/python3.7/site-packages/matplotlib/pyplot.py\u001b[0m in \u001b[0;36mimshow\u001b[0;34m(X, cmap, norm, aspect, interpolation, alpha, vmin, vmax, origin, extent, shape, filternorm, filterrad, imlim, resample, url, hold, data, **kwargs)\u001b[0m\n\u001b[1;32m   3208\u001b[0m                         \u001b[0mfilternorm\u001b[0m\u001b[0;34m=\u001b[0m\u001b[0mfilternorm\u001b[0m\u001b[0;34m,\u001b[0m \u001b[0mfilterrad\u001b[0m\u001b[0;34m=\u001b[0m\u001b[0mfilterrad\u001b[0m\u001b[0;34m,\u001b[0m\u001b[0;34m\u001b[0m\u001b[0m\n\u001b[1;32m   3209\u001b[0m                         \u001b[0mimlim\u001b[0m\u001b[0;34m=\u001b[0m\u001b[0mimlim\u001b[0m\u001b[0;34m,\u001b[0m \u001b[0mresample\u001b[0m\u001b[0;34m=\u001b[0m\u001b[0mresample\u001b[0m\u001b[0;34m,\u001b[0m \u001b[0murl\u001b[0m\u001b[0;34m=\u001b[0m\u001b[0murl\u001b[0m\u001b[0;34m,\u001b[0m \u001b[0mdata\u001b[0m\u001b[0;34m=\u001b[0m\u001b[0mdata\u001b[0m\u001b[0;34m,\u001b[0m\u001b[0;34m\u001b[0m\u001b[0m\n\u001b[0;32m-> 3210\u001b[0;31m                         **kwargs)\n\u001b[0m\u001b[1;32m   3211\u001b[0m     \u001b[0;32mfinally\u001b[0m\u001b[0;34m:\u001b[0m\u001b[0;34m\u001b[0m\u001b[0m\n\u001b[1;32m   3212\u001b[0m         \u001b[0max\u001b[0m\u001b[0;34m.\u001b[0m\u001b[0m_hold\u001b[0m \u001b[0;34m=\u001b[0m \u001b[0mwashold\u001b[0m\u001b[0;34m\u001b[0m\u001b[0m\n",
      "\u001b[0;32m/Library/Frameworks/Python.framework/Versions/3.7/lib/python3.7/site-packages/matplotlib/__init__.py\u001b[0m in \u001b[0;36minner\u001b[0;34m(ax, *args, **kwargs)\u001b[0m\n\u001b[1;32m   1865\u001b[0m                         \u001b[0;34m\"the Matplotlib list!)\"\u001b[0m \u001b[0;34m%\u001b[0m \u001b[0;34m(\u001b[0m\u001b[0mlabel_namer\u001b[0m\u001b[0;34m,\u001b[0m \u001b[0mfunc\u001b[0m\u001b[0;34m.\u001b[0m\u001b[0m__name__\u001b[0m\u001b[0;34m)\u001b[0m\u001b[0;34m,\u001b[0m\u001b[0;34m\u001b[0m\u001b[0m\n\u001b[1;32m   1866\u001b[0m                         RuntimeWarning, stacklevel=2)\n\u001b[0;32m-> 1867\u001b[0;31m             \u001b[0;32mreturn\u001b[0m \u001b[0mfunc\u001b[0m\u001b[0;34m(\u001b[0m\u001b[0max\u001b[0m\u001b[0;34m,\u001b[0m \u001b[0;34m*\u001b[0m\u001b[0margs\u001b[0m\u001b[0;34m,\u001b[0m \u001b[0;34m**\u001b[0m\u001b[0mkwargs\u001b[0m\u001b[0;34m)\u001b[0m\u001b[0;34m\u001b[0m\u001b[0m\n\u001b[0m\u001b[1;32m   1868\u001b[0m \u001b[0;34m\u001b[0m\u001b[0m\n\u001b[1;32m   1869\u001b[0m         inner.__doc__ = _add_data_doc(inner.__doc__,\n",
      "\u001b[0;32m/Library/Frameworks/Python.framework/Versions/3.7/lib/python3.7/site-packages/matplotlib/axes/_axes.py\u001b[0m in \u001b[0;36mimshow\u001b[0;34m(self, X, cmap, norm, aspect, interpolation, alpha, vmin, vmax, origin, extent, shape, filternorm, filterrad, imlim, resample, url, **kwargs)\u001b[0m\n\u001b[1;32m   5499\u001b[0m                               resample=resample, **kwargs)\n\u001b[1;32m   5500\u001b[0m \u001b[0;34m\u001b[0m\u001b[0m\n\u001b[0;32m-> 5501\u001b[0;31m         \u001b[0mim\u001b[0m\u001b[0;34m.\u001b[0m\u001b[0mset_data\u001b[0m\u001b[0;34m(\u001b[0m\u001b[0mX\u001b[0m\u001b[0;34m)\u001b[0m\u001b[0;34m\u001b[0m\u001b[0m\n\u001b[0m\u001b[1;32m   5502\u001b[0m         \u001b[0mim\u001b[0m\u001b[0;34m.\u001b[0m\u001b[0mset_alpha\u001b[0m\u001b[0;34m(\u001b[0m\u001b[0malpha\u001b[0m\u001b[0;34m)\u001b[0m\u001b[0;34m\u001b[0m\u001b[0m\n\u001b[1;32m   5503\u001b[0m         \u001b[0;32mif\u001b[0m \u001b[0mim\u001b[0m\u001b[0;34m.\u001b[0m\u001b[0mget_clip_path\u001b[0m\u001b[0;34m(\u001b[0m\u001b[0;34m)\u001b[0m \u001b[0;32mis\u001b[0m \u001b[0;32mNone\u001b[0m\u001b[0;34m:\u001b[0m\u001b[0;34m\u001b[0m\u001b[0m\n",
      "\u001b[0;32m/Library/Frameworks/Python.framework/Versions/3.7/lib/python3.7/site-packages/matplotlib/image.py\u001b[0m in \u001b[0;36mset_data\u001b[0;34m(self, A)\u001b[0m\n\u001b[1;32m    652\u001b[0m         if not (self._A.ndim == 2\n\u001b[1;32m    653\u001b[0m                 or self._A.ndim == 3 and self._A.shape[-1] in [3, 4]):\n\u001b[0;32m--> 654\u001b[0;31m             \u001b[0;32mraise\u001b[0m \u001b[0mTypeError\u001b[0m\u001b[0;34m(\u001b[0m\u001b[0;34m\"Invalid dimensions for image data\"\u001b[0m\u001b[0;34m)\u001b[0m\u001b[0;34m\u001b[0m\u001b[0m\n\u001b[0m\u001b[1;32m    655\u001b[0m \u001b[0;34m\u001b[0m\u001b[0m\n\u001b[1;32m    656\u001b[0m         \u001b[0;32mif\u001b[0m \u001b[0mself\u001b[0m\u001b[0;34m.\u001b[0m\u001b[0m_A\u001b[0m\u001b[0;34m.\u001b[0m\u001b[0mndim\u001b[0m \u001b[0;34m==\u001b[0m \u001b[0;36m3\u001b[0m\u001b[0;34m:\u001b[0m\u001b[0;34m\u001b[0m\u001b[0m\n",
      "\u001b[0;31mTypeError\u001b[0m: Invalid dimensions for image data"
     ]
    },
    {
     "data": {
      "image/png": "[encoded data removed]",
      "text/plain": [
       "<Figure size 432x288 with 1 Axes>"
      ]
     },
     "metadata": {
      "needs_background": "light"
     },
     "output_type": "display_data"
    }
   ],
   "source": [
    "print(data)\n",
    "plt.imshow(data, cmap='Greys_r')"
   ]
  },
  {
   "cell_type": "markdown",
   "metadata": {},
   "source": [
    "# Random Generators"
   ]
  },
  {
   "cell_type": "code",
   "execution_count": 106,
   "metadata": {},
   "outputs": [],
   "source": [
    "import matplotlib.pyplot as plt\n",
    "import numpy as np"
   ]
  },
  {
   "cell_type": "code",
   "execution_count": 107,
   "metadata": {},
   "outputs": [
    {
     "data": {
      "image/png": "[encoded data removed]",
      "text/plain": [
       "<Figure size 432x288 with 1 Axes>"
      ]
     },
     "metadata": {
      "needs_background": "light"
     },
     "output_type": "display_data"
    }
   ],
   "source": [
    "from numpy import random\n",
    "data = random.normal(size=1000, loc=2)\n",
    "h=plt.hist(data, bins=50)"
   ]
  },
  {
   "cell_type": "code",
   "execution_count": 108,
   "metadata": {},
   "outputs": [
    {
     "data": {
      "text/plain": [
       "-1.0089368318680643"
      ]
     },
     "execution_count": 108,
     "metadata": {},
     "output_type": "execute_result"
    },
    {
     "data": {
      "image/png": "[encoded data removed]",
      "text/plain": [
       "<Figure size 432x288 with 1 Axes>"
      ]
     },
     "metadata": {
      "needs_background": "light"
     },
     "output_type": "display_data"
    },
    {
     "data": {
      "image/png": "[encoded data removed]",
      "text/plain": [
       "<Figure size 432x288 with 1 Axes>"
      ]
     },
     "metadata": {
      "needs_background": "light"
     },
     "output_type": "display_data"
    },
    {
     "data": {
      "image/png": "[encoded data removed]",
      "text/plain": [
       "<Figure size 432x288 with 1 Axes>"
      ]
     },
     "metadata": {
      "needs_background": "light"
     },
     "output_type": "display_data"
    }
   ],
   "source": [
    "data2 = np.random.normal(size=1000, loc=-1)\n",
    "h0 = plt.hist(data2, bins=100)\n",
    "plt.figure()\n",
    "h1 = plt.hist(data2, bins=40)\n",
    "plt.figure()\n",
    "h1 = plt.hist(data2, bins=20)\n",
    "data2.mean()\n"
   ]
  },
  {
   "cell_type": "markdown",
   "metadata": {},
   "source": [
    "http://docs.scipy.org/doc/numpy/reference/routines.random.html"
   ]
  },
  {
   "cell_type": "code",
   "execution_count": 109,
   "metadata": {},
   "outputs": [
    {
     "data": {
      "image/png": "[encoded data removed]",
      "text/plain": [
       "<Figure size 432x288 with 1 Axes>"
      ]
     },
     "metadata": {
      "needs_background": "light"
     },
     "output_type": "display_data"
    }
   ],
   "source": [
    "from numpy import random\n",
    "data = random.exponential(size=1000) #distrib. esponenziale con 1000 punti\n",
    "h = plt.hist(data, bins=50)"
   ]
  },
  {
   "cell_type": "markdown",
   "metadata": {},
   "source": [
    "## Exercise:  Create a set of 100 points that follow the function $$f(x) = 0.5x + 1 $$ and add Gaussian white noise to the result. "
   ]
  },
  {
   "cell_type": "code",
   "execution_count": 110,
   "metadata": {},
   "outputs": [],
   "source": [
    "X = np.linspace(1,10,1000) #creare un set di 100 punti che segue questa funzione\n",
    "                       # e aggiungere rumore (cioè punti casuali)\n",
    "                       #questa X sono i 100 punti\n",
    "        \n",
    "noise = random.normal(size=X.shape[0]) \n",
    "func = 0.5*X +1\n",
    "y = func + noise "
   ]
  },
  {
   "cell_type": "code",
   "execution_count": 111,
   "metadata": {},
   "outputs": [
    {
     "data": {
      "text/plain": [
       "[<matplotlib.lines.Line2D at 0x111e61748>]"
      ]
     },
     "execution_count": 111,
     "metadata": {},
     "output_type": "execute_result"
    },
    {
     "data": {
      "image/png": "[encoded data removed]",
      "text/plain": [
       "<Figure size 432x288 with 1 Axes>"
      ]
     },
     "metadata": {
      "needs_background": "light"
     },
     "output_type": "display_data"
    }
   ],
   "source": [
    "plt.plot(X,y,'.') #terzo parametro è il formato dei punti sul plot\n",
    "plt.plot(X,func,'x') "
   ]
  },
  {
   "cell_type": "markdown",
   "metadata": {},
   "source": [
    "## Exercise: Use polinomial fitting (numpy.polyfit) to fit the results in a line and verify that the error is Gaussian white noise."
   ]
  },
  {
   "cell_type": "code",
   "execution_count": 112,
   "metadata": {},
   "outputs": [
    {
     "name": "stdout",
     "output_type": "stream",
     "text": [
      "[0.49677555 0.98280685]\n"
     ]
    }
   ],
   "source": [
    "c = np.polyfit(X, y, 1) \n",
    "print(c)\n",
    "\n",
    "#devo verificare che l'errore sia proprio gaussiano"
   ]
  },
  {
   "cell_type": "code",
   "execution_count": 113,
   "metadata": {},
   "outputs": [
    {
     "data": {
      "text/plain": [
       "1000"
      ]
     },
     "execution_count": 113,
     "metadata": {},
     "output_type": "execute_result"
    }
   ],
   "source": [
    "len(X)"
   ]
  },
  {
   "cell_type": "code",
   "execution_count": 114,
   "metadata": {},
   "outputs": [
    {
     "data": {
      "text/plain": [
       "''"
      ]
     },
     "execution_count": 114,
     "metadata": {},
     "output_type": "execute_result"
    },
    {
     "data": {
      "image/png": "[encoded data removed]",
      "text/plain": [
       "<Figure size 432x288 with 1 Axes>"
      ]
     },
     "metadata": {
      "needs_background": "light"
     },
     "output_type": "display_data"
    }
   ],
   "source": [
    "ypred = X*c[0] + c[1]\n",
    "plt.hist(ypred - y, bins=30) #il plot viene proprio una gaussiana\n",
    "\n",
    "#il ; alla fine mi permette di stampare solo il plot\n",
    "#senza gli altri valori numerici prima\n",
    ";"
   ]
  },
  {
   "cell_type": "markdown",
   "metadata": {},
   "source": [
    "#Linear Regression"
   ]
  },
  {
   "cell_type": "markdown",
   "metadata": {},
   "source": [
    "##Exercise: Linear Regression with Ordinary Least Squares\n",
    "\n",
    "Find the weight values $\\mathbf{w}$ that minimize the error $E_{\\mathbf{in}}(\\mathbf{w}) = \\frac{1}{N} \\sum_{n=1}^n {(\\mathbf{w}^T \\mathbf{X}_n - \\mathbf{y}_n)^2}$.\n",
    "\n",
    "For this, implement Linear Regression and use the Ordinary Least Squares (OLS) closed-form expression to find the estimated values of $\\mathbf{w}$:\n",
    "\n",
    "$$\\mathbf{w} = (\\mathbf{X}^{\\rm T}\\mathbf{X})^{-1} \\mathbf{X}^{\\rm T}\\mathbf{y}$$\n",
    "\n",
    "You can use the `np.linalg.inv` function to invert a matrix:"
   ]
  },
  {
   "cell_type": "code",
   "execution_count": 115,
   "metadata": {},
   "outputs": [
    {
     "name": "stdout",
     "output_type": "stream",
     "text": [
      "Help on function inv in module numpy.linalg.linalg:\n",
      "\n",
      "inv(a)\n",
      "    Compute the (multiplicative) inverse of a matrix.\n",
      "    \n",
      "    Given a square matrix `a`, return the matrix `ainv` satisfying\n",
      "    ``dot(a, ainv) = dot(ainv, a) = eye(a.shape[0])``.\n",
      "    \n",
      "    Parameters\n",
      "    ----------\n",
      "    a : (..., M, M) array_like\n",
      "        Matrix to be inverted.\n",
      "    \n",
      "    Returns\n",
      "    -------\n",
      "    ainv : (..., M, M) ndarray or matrix\n",
      "        (Multiplicative) inverse of the matrix `a`.\n",
      "    \n",
      "    Raises\n",
      "    ------\n",
      "    LinAlgError\n",
      "        If `a` is not square or inversion fails.\n",
      "    \n",
      "    Notes\n",
      "    -----\n",
      "    \n",
      "    .. versionadded:: 1.8.0\n",
      "    \n",
      "    Broadcasting rules apply, see the `numpy.linalg` documentation for\n",
      "    details.\n",
      "    \n",
      "    Examples\n",
      "    --------\n",
      "    >>> from numpy.linalg import inv\n",
      "    >>> a = np.array([[1., 2.], [3., 4.]])\n",
      "    >>> ainv = inv(a)\n",
      "    >>> np.allclose(np.dot(a, ainv), np.eye(2))\n",
      "    True\n",
      "    >>> np.allclose(np.dot(ainv, a), np.eye(2))\n",
      "    True\n",
      "    \n",
      "    If a is a matrix object, then the return value is a matrix as well:\n",
      "    \n",
      "    >>> ainv = inv(np.matrix(a))\n",
      "    >>> ainv\n",
      "    matrix([[-2. ,  1. ],\n",
      "            [ 1.5, -0.5]])\n",
      "    \n",
      "    Inverses of several matrices can be computed at once:\n",
      "    \n",
      "    >>> a = np.array([[[1., 2.], [3., 4.]], [[1, 3], [3, 5]]])\n",
      "    >>> inv(a)\n",
      "    array([[[-2. ,  1. ],\n",
      "            [ 1.5, -0.5]],\n",
      "           [[-5. ,  2. ],\n",
      "            [ 3. , -1. ]]])\n",
      "\n"
     ]
    }
   ],
   "source": [
    "help(np.linalg.inv) #funz. \"inv\" del pacchetto \"linalg\" (linear algebra)\n",
    "                    #per fare la matrice inversa"
   ]
  },
  {
   "cell_type": "markdown",
   "metadata": {},
   "source": [
    "The following function generates some data to test the linear regression:"
   ]
  },
  {
   "cell_type": "code",
   "execution_count": 116,
   "metadata": {},
   "outputs": [
    {
     "data": {
      "text/plain": [
       "<matplotlib.collections.PathCollection at 0x1121f39e8>"
      ]
     },
     "execution_count": 116,
     "metadata": {},
     "output_type": "execute_result"
    },
    {
     "data": {
      "image/png": "[encoded data removed]",
      "text/plain": [
       "<Figure size 432x288 with 1 Axes>"
      ]
     },
     "metadata": {
      "needs_background": "light"
     },
     "output_type": "display_data"
    }
   ],
   "source": [
    "def generate_linear_regression(c):\n",
    "    X = np.random.rand(100, len(c)-1)\n",
    "    noise = random.normal(size=len(X), loc=0, scale=0.1)\n",
    "    y = ((c[0] + X*c[1:]).sum(axis=1) + noise).reshape(100, 1)\n",
    "    \n",
    "    #print X#, \"len(X) = \", len(X), \"len(c)-1 = \", len(c)-1\n",
    "    #print noise\n",
    "    #print X.sum(axis=1)\n",
    "    #print X, \"     \", (c[0] + X*c[1:]).sum(axis=1)\n",
    "    #gx = plt.plot(X,'bo')\n",
    "    #gn = plt.hist(noise,bins=20)\n",
    "    #gy = plt.plot(y,'r*')\n",
    "    \n",
    "    return X, y\n",
    "\n",
    "X, y = generate_linear_regression([2, 0.8])\n",
    "plt.scatter(X, y)\n",
    "\n",
    "#non possiamo usare direttamente la matrice X (che è una matrice nxd),\n",
    "# ma la dobbiamo estendere ad ua matrice nx(d+1), con prima colonna con \n",
    "#tutti 1data:image/png;base64,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\n"
   ]
  },
  {
   "cell_type": "code",
   "execution_count": 117,
   "metadata": {},
   "outputs": [
    {
     "data": {
      "text/plain": [
       "(100, 1)"
      ]
     },
     "execution_count": 117,
     "metadata": {},
     "output_type": "execute_result"
    }
   ],
   "source": [
    "X.shape"
   ]
  },
  {
   "cell_type": "markdown",
   "metadata": {},
   "source": [
    "To implement the linear regression, follow these steps:\n",
    "\n",
    "1. extend $\\mathbf{X}$ to $d + 1$ dimensions, setting the first column to 1\n",
    "2. calculate $\\mathbf{w}$ using the OLS closed form"
   ]
  },
  {
   "cell_type": "code",
   "execution_count": 118,
   "metadata": {},
   "outputs": [
    {
     "data": {
      "text/plain": [
       "array([1., 1., 1., 1., 1., 1., 1., 1., 1., 1., 1., 1., 1., 1., 1., 1., 1.,\n",
       "       1., 1., 1., 1., 1., 1., 1., 1., 1., 1., 1., 1., 1., 1., 1., 1., 1.,\n",
       "       1., 1., 1., 1., 1., 1., 1., 1., 1., 1., 1., 1., 1., 1., 1., 1., 1.,\n",
       "       1., 1., 1., 1., 1., 1., 1., 1., 1., 1., 1., 1., 1., 1., 1., 1., 1.,\n",
       "       1., 1., 1., 1., 1., 1., 1., 1., 1., 1., 1., 1., 1., 1., 1., 1., 1.,\n",
       "       1., 1., 1., 1., 1., 1., 1., 1., 1., 1., 1., 1., 1., 1., 1.])"
      ]
     },
     "execution_count": 118,
     "metadata": {},
     "output_type": "execute_result"
    }
   ],
   "source": [
    "np.ones(X.shape[0])"
   ]
  },
  {
   "cell_type": "code",
   "execution_count": 119,
   "metadata": {},
   "outputs": [],
   "source": [
    "Xext = np.insert(X, 0, np.ones(X.shape[0]), axis=1)   #X esteso\n",
    "            #primo parametro: array che vogliamo utilizzare come input\n",
    "            #secondo: indice che vogliamo aggiungere\n",
    "            #terzo: valori\n",
    "            #quarto: asse\n",
    "            #posso anche scrivere: np.insert(X, 0, 1, axis=1)    "
   ]
  },
  {
   "cell_type": "code",
   "execution_count": 120,
   "metadata": {},
   "outputs": [
    {
     "data": {
      "text/plain": [
       "array([[1.97729818],\n",
       "       [0.83996181]])"
      ]
     },
     "execution_count": 120,
     "metadata": {},
     "output_type": "execute_result"
    }
   ],
   "source": [
    "#calcoliamo i nostri pesi\n",
    "w = np.linalg.inv(Xext.T.dot(Xext)).dot(Xext.T).dot(y)\n",
    "w\n",
    "#noi avevamo usato i valori 2 e 0.8 per generare i dati, vediamo che i pesi\n",
    "#rispecchiano questi due valori\n",
    "\n",
    "#abbiamo fatto la regressione lineare usando numeric python (numpy)"
   ]
  },
  {
   "cell_type": "markdown",
   "metadata": {},
   "source": [
    "##Exercise: Linear Regression with nonlinear data\n",
    "\n",
    "Even if the data is nonlinear, linear regression can be used. \n",
    "The first step is to transform the data nonlinearly and append it as new features.\n",
    "\n",
    "The following function creates nonlinear data:"
   ]
  },
  {
   "cell_type": "code",
   "execution_count": 121,
   "metadata": {},
   "outputs": [
    {
     "data": {
      "text/plain": [
       "<matplotlib.collections.PathCollection at 0x1122ef860>"
      ]
     },
     "execution_count": 121,
     "metadata": {},
     "output_type": "execute_result"
    },
    {
     "data": {
      "image/png": "[encoded data removed]",
      "text/plain": [
       "<Figure size 432x288 with 1 Axes>"
      ]
     },
     "metadata": {
      "needs_background": "light"
     },
     "output_type": "display_data"
    }
   ],
   "source": [
    "#facciamo la stessa cosa usando una x un po' divesa:\n",
    "\n",
    "def generate_linear_regression_squared(c):\n",
    "    X = np.random.rand(100, len(c)-1)\n",
    "    noise = random.normal(size=len(X), loc=0, scale=0.1)\n",
    "    y = ((c[0] + c[1:]*X**2).sum(axis=1) + noise).reshape(100, 1)\n",
    "                #qua ho una X^2. genero dei valori che non stanno su una\n",
    "                #funz. non lineare. farò comunque un fit lineare\n",
    "    \n",
    "    return X, y\n",
    "\n",
    "X, y = generate_linear_regression_squared([2, 2])\n",
    "plt.scatter(X, y)"
   ]
  },
  {
   "cell_type": "markdown",
   "metadata": {},
   "source": [
    "To apply the linear regression in nonlinear data, follow these steps:\n",
    "\n",
    "1. extend $\\mathbf{X}$ to add a nonlinear transformation of $\\mathbf{X}$ (e.g., $\\mathbf{Z} = [\\mathbf{X}, \\mathbf{X}^2$]).\n",
    "1. extend $\\mathbf{Z}$ to $d + 1$ dimensions, setting the first column to 1.\n",
    "2. calculate $\\mathbf{w}$ applying OLS to $\\mathbf{Z}$."
   ]
  },
  {
   "cell_type": "code",
   "execution_count": 122,
   "metadata": {},
   "outputs": [
    {
     "data": {
      "text/plain": [
       "(100, 1)"
      ]
     },
     "execution_count": 122,
     "metadata": {},
     "output_type": "execute_result"
    }
   ],
   "source": [
    "X.shape"
   ]
  },
  {
   "cell_type": "code",
   "execution_count": 123,
   "metadata": {},
   "outputs": [],
   "source": [
    "#creo Z:\n",
    "Z = np.concatenate([X, X**2], axis=1) #dobbiamo concatenare le colonne (axis=1)\n",
    "Zext = np.insert(Z, 0, 1, axis=1)\n",
    "w = np.linalg.inv(Zext.T.dot(Zext)).dot(Zext.T).dot(y)"
   ]
  },
  {
   "cell_type": "code",
   "execution_count": 89,
   "metadata": {},
   "outputs": [
    {
     "data": {
      "text/plain": [
       "array([[1.9739647 ],\n",
       "       [0.04222448],\n",
       "       [1.99864591]])"
      ]
     },
     "execution_count": 89,
     "metadata": {},
     "output_type": "execute_result"
    }
   ],
   "source": [
    "w\n",
    "#il secondo peso è molto piccolo --> termine di primo grado"
   ]
  }
 ],
 "metadata": {
  "kernelspec": {
   "display_name": "Python 3",
   "language": "python",
   "name": "python3"
  },
  "language_info": {
   "codemirror_mode": {
    "name": "ipython",
    "version": 3
   },
   "file_extension": ".py",
   "mimetype": "text/x-python",
   "name": "python",
   "nbconvert_exporter": "python",
   "pygments_lexer": "ipython3",
   "version": "3.7.0"
  }
 },
 "nbformat": 4,
 "nbformat_minor": 1
}
