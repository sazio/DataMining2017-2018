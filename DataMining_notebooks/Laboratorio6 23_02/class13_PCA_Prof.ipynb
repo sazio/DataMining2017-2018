{
 "cells": [
  {
   "cell_type": "markdown",
   "metadata": {},
   "source": [
    "---\n",
    "\n",
    "# Data Mining:<br>Statistical Modeling and Learning from Data\n",
    "\n",
    "## Dr. Ciro Cattuto<br>Dr. Laetitia Gauvin<br>Dr. André Panisson\n",
    "\n",
    "### Exercises - Principal Component Analysis\n",
    "\n",
    "---"
   ]
  },
  {
   "cell_type": "code",
   "execution_count": 1,
   "metadata": {},
   "outputs": [
    {
     "name": "stdout",
     "output_type": "stream",
     "text": [
      "Populating the interactive namespace from numpy and matplotlib\n"
     ]
    }
   ],
   "source": [
    "%pylab inline"
   ]
  },
  {
   "cell_type": "markdown",
   "metadata": {},
   "source": [
    "The MNIST dataset contains 70000 images of hand-written digits. Each image is a matrix of 28x28 grayscale pixels. The value of each pixel goes from 0 to 255.\n",
    "\n",
    "There is more information available in the MNIST dataset repository:\n",
    "http://yann.lecun.com/exdb/mnist/\n",
    "\n",
    "Let's first fetch the dataset from the internet (which may take a while, note the asterisk [*]):"
   ]
  },
  {
   "cell_type": "code",
   "execution_count": 2,
   "metadata": {},
   "outputs": [
    {
     "name": "stdout",
     "output_type": "stream",
     "text": [
      "(70000, 784)\n",
      "(70000,)\n",
      "<class 'numpy.ndarray'>\n",
      "[[  0   0   0   0   0   0 253   0 253   0   0 162 252   0   0   0]\n",
      " [  0   0   0 255   0   0 202   0 251   0   0 251 251   0   0   0]\n",
      " [  0   0   0   0   0   0   0 241   0   0   0   0   9  98   0   0]\n",
      " [  0   0   0 114   0   0 253   0   0   0   0   0 163 253   0   0]\n",
      " [  0   0   0   2   0   0   0 235   0   0   0 249   0   0   0   0]\n",
      " [  0   0   0   0   0   0   0   0   0   0   0   0   0   0   0   0]\n",
      " [  0   0   0   0   0   0 251 253 251   0   0 119   0   0   0   0]\n",
      " [  0   0   0   0   0   0   0   0   0   0   0   0  16   0   0   0]\n",
      " [  0   0 252   0   0   0 224   0 252   0   0 173 252   0   0   0]\n",
      " [  0   0   0   0   0   0 255 252 254   0   0 233   0   0   0   0]\n",
      " [  0   0   0 101   0   0   0 253   0   0   0   0 252   0   0   0]\n",
      " [  0   0   0   0   0   0   0 253 253   0   0 208   0   0   0   0]\n",
      " [  0   0   0   0   0   0 105   0 253   0   0 253 251   0   0   0]\n",
      " [  0   0   0 248   0   0   0 254 238   0   0 254   0   0   0   0]]\n",
      " \n",
      "[[0 0 0 ... 0 0 0]\n",
      " [0 0 0 ... 0 0 0]\n",
      " [0 0 0 ... 0 0 0]\n",
      " ...\n",
      " [0 0 0 ... 0 0 0]\n",
      " [0 0 0 ... 0 0 0]\n",
      " [0 0 0 ... 0 0 0]]\n"
     ]
    },
    {
     "name": "stderr",
     "output_type": "stream",
     "text": [
      "/Library/Frameworks/Python.framework/Versions/3.7/lib/python3.7/site-packages/sklearn/utils/deprecation.py:77: DeprecationWarning: Function fetch_mldata is deprecated; fetch_mldata was deprecated in version 0.20 and will be removed in version 0.22\n",
      "  warnings.warn(msg, category=DeprecationWarning)\n",
      "/Library/Frameworks/Python.framework/Versions/3.7/lib/python3.7/site-packages/sklearn/utils/deprecation.py:77: DeprecationWarning: Function mldata_filename is deprecated; mldata_filename was deprecated in version 0.20 and will be removed in version 0.22\n",
      "  warnings.warn(msg, category=DeprecationWarning)\n"
     ]
    }
   ],
   "source": [
    "from sklearn.datasets import fetch_mldata\n",
    "mnist = fetch_mldata(\"MNIST Original\", data_home='.') # fetch dataset from internet\n",
    "X_all = mnist.data\n",
    "y_all = mnist.target\n",
    "print (X_all.shape)\n",
    "print (y_all.shape)\n",
    "print (type(X_all))\n",
    "print (X_all[0:70000:5000,0:784:50])\n",
    "print (' ')\n",
    "print (X_all[69970:70000,750:784])"
   ]
  },
  {
   "cell_type": "markdown",
   "metadata": {},
   "source": [
    "This dataset is ordered, and we will get just part of it to speed up this exercise.\n",
    "\n",
    "For this, we need to shuffle the entire data and get the first instances."
   ]
  },
  {
   "cell_type": "code",
   "execution_count": 3,
   "metadata": {},
   "outputs": [],
   "source": [
    "from sklearn.utils import shuffle\n",
    "\n",
    "# shuffle dataset (which is sorted!)\n",
    "X_all, y_all = shuffle(X_all, y_all, random_state=42)\n",
    "\n",
    "# take only the first instances, to shorten runtime\n",
    "X = X_all[:1500]\n",
    "y = y_all[:1500]\n",
    "\n",
    "# take the other instances for testing\n",
    "X_test = X_all[1500:]\n",
    "y_test = y_all[1500:]"
   ]
  },
  {
   "cell_type": "markdown",
   "metadata": {},
   "source": [
    "From the sklearn documentation:\n",
    "\n",
    "> Many elements used in the objective function of a learning algorithm (such as the RBF kernel of Support Vector Machines or the l1 and l2 regularizers of linear models) assume that all features are centered around zero and have variance in the same order. If a feature has a variance that is orders of magnitude larger that others, it might dominate the objective function and make the estimator unable to learn from other features correctly as expected.\n",
    "\n",
    "We will then rescale the training data, since this is important to improve the performance of the classification algorithm that we will use later."
   ]
  },
  {
   "cell_type": "code",
   "execution_count": 4,
   "metadata": {},
   "outputs": [],
   "source": [
    "# Rescale grayscale from -1 to 1\n",
    "X = X/255.0*2 - 1"
   ]
  },
  {
   "cell_type": "markdown",
   "metadata": {},
   "source": [
    "Let's have a look at some of the instances in the dataset we just loaded:"
   ]
  },
  {
   "cell_type": "code",
   "execution_count": 5,
   "metadata": {},
   "outputs": [
    {
     "data": {
      "image/png": "[encoded data removed]",
      "text/plain": [
       "<Figure size 576x288 with 10 Axes>"
      ]
     },
     "metadata": {},
     "output_type": "display_data"
    }
   ],
   "source": [
    "plt.rc(\"image\", cmap=\"binary\")\n",
    "plt.figure(figsize=(8,4))     # dimensione delle figure\n",
    "for i in range(10):           # disegno le prime 10 figure\n",
    "    plt.subplot(2,5,i+1)      # divido il plot in 10 subplot, 2 righe e 5 colonne\n",
    "    plt.imshow(X[i].reshape(28,28))\n",
    "    plt.title(y[i])\n",
    "    plt.xticks(())\n",
    "    plt.yticks(())\n",
    "plt.tight_layout()"
   ]
  },
  {
   "cell_type": "markdown",
   "metadata": {},
   "source": [
    "PCA (Principal Component Analysis) converts a dataset of possibly correlated features into a dataset of linearly uncorrelated features called principal components. is equivalent to **Singular Value Decomposition** (SVD):\n",
    "\n",
    "$$\\mathbf{X} = \\mathbf{U} \\boldsymbol{\\Sigma} \\mathbf{V}^T$$\n",
    "\n",
    "The value returned from `transform` is in fact the matrix $\\mathbf{U}$. The parameter `n_components` is the number of components to keep. if n_components is not set, all components are kept; it means that the result of `transform` is a matrix $n \\times n$ (if $d \\geq n$) or $n \\times d$ (if $d < n$).\n",
    "\n",
    "The values in the attribute `explained_variance_` are related to $\\boldsymbol{\\Sigma}$ in the SVD decomposition. Finally, the values in the attribute `components_` are related to $\\mathbf{V}^T$.\n",
    "\n",
    "The optional parameter `whiten=True` make it possible to project the data onto the singular space while scaling each component to unit variance. This is often useful if the models down-stream make strong assumptions on the isotropy of the signal: this is for example the case for Support Vector Machines with the RBF kernel and the K-Means clustering algorithm."
   ]
  },
  {
   "cell_type": "code",
   "execution_count": 7,
   "metadata": {
    "scrolled": false
   },
   "outputs": [
    {
     "name": "stdout",
     "output_type": "stream",
     "text": [
      "(1500, 784)\n",
      "(784,)\n",
      "(784, 784)\n",
      "\n",
      " [[223.79032274 -35.82042406 -28.23414871 ... -37.05369894 -23.74118328\n",
      "  -35.90633125]\n",
      " [-35.82042406 245.74259307   6.24297838 ... -35.97634116 -23.18178014\n",
      "    7.85011918]\n",
      " [-28.23414871   6.24297838 279.90144135 ... -15.50782052 -29.12137945\n",
      "   10.69741722]\n",
      " ...\n",
      " [-37.05369894 -35.97634116 -15.50782052 ... 172.12217943  26.04116952\n",
      "   33.22784008]\n",
      " [-23.74118328 -23.18178014 -29.12137945 ...  26.04116952 166.07879091\n",
      "  -23.91513061]\n",
      " [-35.90633125   7.85011918  10.69741722 ...  33.22784008 -23.91513061\n",
      "  172.99979831]]\n",
      "\n",
      "[[ 1.00000000e+00  3.95516953e-16  5.89805982e-17 ... -2.90433026e-17\n",
      "   1.70743300e-17 -1.28193706e-19]\n",
      " [ 3.95516953e-16  1.00000000e+00  3.08780779e-16 ...  2.50446265e-17\n",
      "   7.19435050e-18 -1.14765288e-17]\n",
      " [ 5.89805982e-17  3.08780779e-16  1.00000000e+00 ...  3.26832570e-17\n",
      "   3.78051003e-18  3.89026496e-18]\n",
      " ...\n",
      " [-2.90433026e-17  2.50446265e-17  3.26832570e-17 ...  1.00000000e+00\n",
      "   2.38958159e-16 -3.33934269e-16]\n",
      " [ 1.70743300e-17  7.19435050e-18  3.78051003e-18 ...  2.38958159e-16\n",
      "   1.00000000e+00  2.27682456e-16]\n",
      " [-1.28193706e-19 -1.14765288e-17  3.89026496e-18 ... -3.33934269e-16\n",
      "   2.27682456e-16  1.00000000e+00]] \n",
      "\n"
     ]
    },
    {
     "data": {
      "text/plain": [
       "\"\\n###  controllo se il prodotto USV^t è simile a X, matrice iniziale. Anzi, controllo che la norma di frobenius: \\n# || X - USV^t || ~ 0 come per def\\n\\nSigma = diag(S)\\nA = (U.dot(Sigma)).dot(V.T)\\nB = X-A\\nprint ('**********************')\\nprint (X.shape)\\nprint ((U.dot(Sigma)).dot(V.T).shape)\\nprint ('**********************')\\nnormaF = 0\\nfor i in range(1500):\\n    for j in range(784):\\n           normaF += (B[i][j])**2\\n    \\nprint (normaF)\\n#questa norma mi viene un numero altissimo, come faccio a capire se USV^t approssima davvero X ???\\n\\n\\n###   calcolo la matrice rapporto, cioè che ha come componenti: X_ij/(USV^t)_ij, per vedere se le componentidi X \\n# e di (USV^t) sono più o meno uguali:\\nR = zeros(A.shape)\\nprint (R.shape)\\ncnt = 0\\nfor i in range(1500):\\n    for j in range(784):\\n        if A[i][j]==0:\\n            A[i][j]=0.0000000001\\n        R[i][j]=X[i][j]/A[i][j]\\n        if R[i][j]>0.8 and R[i][j]<1.3: \\n            cnt += 1\\nprint (cnt)\\nprint (R.size)\\n# NO! USV^t non approssima per niente X!!! (solo 5 mila componenti su 1 milione sono simili) --> come mai ???\\n\\n\""
      ]
     },
     "execution_count": 7,
     "metadata": {},
     "output_type": "execute_result"
    }
   ],
   "source": [
    "from sklearn.decomposition import PCA\n",
    "pca = PCA()\n",
    "\n",
    "pca.fit(X)\n",
    "\n",
    "U = pca.transform(X)\n",
    "S = pca.explained_variance_  #non ho bencapito cosa è questa S. c'è anche pca.singular_values_ ,cosa cambia?\n",
    "                             # è la stessa cosa ma dopo aver riscalato i dati del valore della media (media == origine)\n",
    "V = pca.components_\n",
    "\n",
    "print (U.shape)\n",
    "print (S.shape)\n",
    "print (V.shape)\n",
    "\n",
    "\n",
    "###   controllo se U e V sono ortogonali\n",
    "print ('\\n', U.dot(U.T))\n",
    "print ('')\n",
    "print (V.dot(V.T), '\\n')\n",
    "#ma non dovrebbero essere ortogonali U e V? -> NO , U E V non sono ortogonali tra di loro nel senso che formati da\n",
    "# vettori colonna ortogonali (vedi def) \n",
    "\"\"\"\n",
    "###  controllo se il prodotto USV^t è simile a X, matrice iniziale. Anzi, controllo che la norma di frobenius: \n",
    "# || X - USV^t || ~ 0 come per def\n",
    "\n",
    "Sigma = diag(S)\n",
    "A = (U.dot(Sigma)).dot(V.T)\n",
    "B = X-A\n",
    "print ('**********************')\n",
    "print (X.shape)\n",
    "print ((U.dot(Sigma)).dot(V.T).shape)\n",
    "print ('**********************')\n",
    "normaF = 0\n",
    "for i in range(1500):\n",
    "    for j in range(784):\n",
    "           normaF += (B[i][j])**2\n",
    "    \n",
    "print (normaF)\n",
    "#questa norma mi viene un numero altissimo, come faccio a capire se USV^t approssima davvero X ???\n",
    "\n",
    "\n",
    "###   calcolo la matrice rapporto, cioè che ha come componenti: X_ij/(USV^t)_ij, per vedere se le componentidi X \n",
    "# e di (USV^t) sono più o meno uguali:\n",
    "R = zeros(A.shape)\n",
    "print (R.shape)\n",
    "cnt = 0\n",
    "for i in range(1500):\n",
    "    for j in range(784):\n",
    "        if A[i][j]==0:\n",
    "            A[i][j]=0.0000000001\n",
    "        R[i][j]=X[i][j]/A[i][j]\n",
    "        if R[i][j]>0.8 and R[i][j]<1.3: \n",
    "            cnt += 1\n",
    "print (cnt)\n",
    "print (R.size)\n",
    "# NO! USV^t non approssima per niente X!!! (solo 5 mila componenti su 1 milione sono simili) --> come mai ???\n",
    "\n",
    "\"\"\""
   ]
  },
  {
   "cell_type": "markdown",
   "metadata": {},
   "source": [
    "It does not make much sense to look at the transformed images, they will look like noise to us.\n",
    "\n",
    "Instead, let's have a look at the most important directions on which the dataset was projected. These directions can be accessed in the $\\mathbf{V}^T$ matrix."
   ]
  },
  {
   "cell_type": "code",
   "execution_count": 8,
   "metadata": {},
   "outputs": [
    {
     "data": {
      "image/png": "[encoded data removed]",
      "text/plain": [
       "<Figure size 576x432 with 10 Axes>"
      ]
     },
     "metadata": {},
     "output_type": "display_data"
    }
   ],
   "source": [
    "plt.figure(figsize=(8,6))\n",
    "\n",
    "for i in range(10): # loop over all means\n",
    "    plt.subplot(2,5,i+1)\n",
    "    plt.imshow(V[i].reshape(28,28))\n",
    "    plt.xticks(())\n",
    "    plt.yticks(())\n",
    "plt.tight_layout()\n",
    "\n",
    "#queste figure dovrebber rappresentare il collegamento tra cifre e intensità di colore nei pixel, infatti:\n",
    "#la matrice dei dati iniziale (X) aveva: righe --> immagini, colonne --> pixel dell'immagine, componenti -->\n",
    "#                                        intensità di quel pixel, di quell'immagine\n",
    "#U: collegamento tra immagini e pixel (quante immagini rappresentano una certa cifra)\n",
    "#S: peso dei diversi pixel (S ha 784 componenti, ogni componente individua un pixel, sono 28*28)\n",
    "#V: collegamento tra cifra e pixel (quanto è importante quel pixel nell'individuare una certa cifra)\n",
    "\n",
    "#nelle immagini sotto credo che le zone più scure sono quelle determinanti per individuare la cifra associata: \n",
    "# es: nella prima immagine la maggior parte dell'informazione sta nei pixel più scuri. Questi sono rilevanti \n",
    "# nel riconoscere la cifra 0 ==> quest'immagine rappresenterà uno zero\n"
   ]
  },
  {
   "cell_type": "markdown",
   "metadata": {},
   "source": [
    "The later directions (here, from the 100-th on) show noise and small variations between different, but very similar training instances:"
   ]
  },
  {
   "cell_type": "code",
   "execution_count": 9,
   "metadata": {},
   "outputs": [
    {
     "data": {
      "image/png": "[encoded data removed]",
      "text/plain": [
       "<Figure size 576x288 with 10 Axes>"
      ]
     },
     "metadata": {},
     "output_type": "display_data"
    }
   ],
   "source": [
    "plt.figure(figsize=(8,4))\n",
    "\n",
    "for i in range(10): # loop over all means\n",
    "    plt.subplot(2,5,i+1)\n",
    "    plt.imshow(V[100+i].reshape(28,28))\n",
    "    plt.xticks(())\n",
    "    plt.yticks(())\n",
    "plt.tight_layout()"
   ]
  },
  {
   "cell_type": "markdown",
   "metadata": {},
   "source": [
    "The number of \"interesting\" dimensions can be seen from the importance of the found directions.\n",
    "\n",
    "We can find this information by plotting the `explained_variance_` attribute from the `PCA` variable. This is related to the $\\Sigma$ matrix in the following way:\n",
    "\n",
    "$$\\mathbf{ev} = \\frac{1}{N} \\Sigma^2 $$\n",
    "\n",
    "In order to find the most relevant directions, we can use the `explained_variance_` to get 90% of the dataset variance."
   ]
  },
  {
   "cell_type": "code",
   "execution_count": 14,
   "metadata": {},
   "outputs": [
    {
     "data": {
      "text/plain": [
       "[<matplotlib.lines.Line2D at 0x7f4f6b8f5630>]"
      ]
     },
     "execution_count": 14,
     "metadata": {},
     "output_type": "execute_result"
    },
    {
     "data": {
      "image/png": "[encoded data removed]",
      "text/plain": [
       "<Figure size 432x288 with 1 Axes>"
      ]
     },
     "metadata": {},
     "output_type": "display_data"
    }
   ],
   "source": [
    "plt.plot(pca.explained_variance_)"
   ]
  },
  {
   "cell_type": "code",
   "execution_count": 12,
   "metadata": {},
   "outputs": [
    {
     "name": "stdout",
     "output_type": "stream",
     "text": [
      "[0.09542386 0.16920216 0.23494218 0.28650051 0.33297476 0.37669119\n",
      " 0.41010068 0.44114079 0.46825078 0.49301279]\n",
      "80\n"
     ]
    },
    {
     "data": {
      "image/png": "[encoded data removed]",
      "text/plain": [
       "<Figure size 432x288 with 1 Axes>"
      ]
     },
     "metadata": {
      "needs_background": "light"
     },
     "output_type": "display_data"
    }
   ],
   "source": [
    "ev_cumsum = np.cumsum(pca.explained_variance_)/(pca.explained_variance_).sum()\n",
    "ev_at90 = ev_cumsum[ev_cumsum<0.9].shape[0]\n",
    "print (ev_cumsum[:10])\n",
    "print (ev_at90)\n",
    "\n",
    "#cumsum: sostituisce ad ogni componente del vettore la somma di tutte le componenti precedenti. (somma cumulativa)\n",
    "\n",
    "plt.plot(ev_cumsum)\n",
    "plt.vlines(ev_at90, 0, 1, linestyles='dashed')\n",
    "plt.hlines(0.9, 0, 500, linestyles='dashed');"
   ]
  },
  {
   "cell_type": "code",
   "execution_count": 14,
   "metadata": {},
   "outputs": [
    {
     "data": {
      "text/plain": [
       "'a = np.array(range(10))\\nprint (a.sum())\\nprint (a)\\nprint (np.cumsum(a))\\nb = np.cumsum(a)/a.sum()\\nprint (b)\\nc = b[b<0.9].shape[0]\\nprint (b<0.9)\\nprint (b[b<0.9])\\nprint (c)\\n\\nplt.plot(b)\\n'"
      ]
     },
     "execution_count": 14,
     "metadata": {},
     "output_type": "execute_result"
    }
   ],
   "source": [
    "\"\"\"a = np.array(range(10))\n",
    "print (a.sum())\n",
    "print (a)\n",
    "print (np.cumsum(a))\n",
    "b = np.cumsum(a)/a.sum()\n",
    "print (b)\n",
    "c = b[b<0.9].shape[0]\n",
    "print (b<0.9)\n",
    "print (b[b<0.9])\n",
    "print (c)\n",
    "\n",
    "plt.plot(b)\n",
    "\"\"\""
   ]
  },
  {
   "cell_type": "markdown",
   "metadata": {},
   "source": [
    "We can see that the intrinsic dimensionality is not higher than 80, even though the dataset has 784 dimensions."
   ]
  },
  {
   "cell_type": "markdown",
   "metadata": {},
   "source": [
    "By setting the parameter `n_components` to $\\mathbf{k}$, we limit the number of components to $\\mathbf{k}$. At this point, the decomposition is a **Truncated SVD**.\n",
    "\n",
    "As consequence, the value returned from `transform` is in fact a matrix $\\mathbf{U} \\in \\mathbb{R}^{n \\times k}$, where n is the number of samples and k is the number of components. The number of values in the attribute `explained_variance_`, related to $\\boldsymbol{\\Sigma}$ in the SVD decomposition, is $\\mathbf{k}$. Finally, the values in the attribute `components_` are a matrix $\\mathbf{V}^T \\in \\mathbb{R}^{k \\times m}$, where $m$ is the number of features."
   ]
  },
  {
   "cell_type": "code",
   "execution_count": 15,
   "metadata": {},
   "outputs": [
    {
     "name": "stdout",
     "output_type": "stream",
     "text": [
      "(1500, 80)\n",
      "(80,)\n",
      "(80, 784)\n"
     ]
    }
   ],
   "source": [
    "from sklearn.decomposition import PCA\n",
    "pca = PCA(80)\n",
    "\n",
    "pca.fit(X)\n",
    "\n",
    "U = pca.transform(X)\n",
    "S = pca.explained_variance_\n",
    "V = pca.components_\n",
    "\n",
    "print (U.shape)\n",
    "print (S.shape)\n",
    "print (V.shape)"
   ]
  },
  {
   "cell_type": "markdown",
   "metadata": {},
   "source": [
    "## Exercise\n",
    "\n",
    "From now on, we will try to train a SVM classificator to classify the numbers.\n",
    "\n",
    "For this, create a SVM classifier with **rbf** kernel and default parameters and assign it to a variable with name **`svm`**.\n",
    "Then, create a list named **`gammas`** with 10 values for the rbf coefficient (gamma) starting from $10^{-4}$ to $10^{0}$, spaced evenly on a log scale. For each value of gamma, set the model parameter **`gamma`** to this value, calculate a list of 3-fold cross-validation scores, and add the average score to a list with name **`scores`**. Use **`X`** and **`y`** to train the model.\n",
    "\n",
    "Finally, plot the score for each gamma value.\n",
    "\n",
    "Make note of the time that it takes to search for the best gamma."
   ]
  },
  {
   "cell_type": "code",
   "execution_count": 16,
   "metadata": {},
   "outputs": [],
   "source": [
    "from sklearn.svm import SVC"
   ]
  },
  {
   "cell_type": "code",
   "execution_count": 17,
   "metadata": {},
   "outputs": [],
   "source": [
    "from sklearn import model_selection"
   ]
  },
  {
   "cell_type": "code",
   "execution_count": 18,
   "metadata": {},
   "outputs": [
    {
     "name": "stdout",
     "output_type": "stream",
     "text": [
      "CPU times: user 46.9 s, sys: 128 ms, total: 47 s\n",
      "Wall time: 47.1 s\n"
     ]
    }
   ],
   "source": [
    "%%time\n",
    "\n",
    "classifier = SVC(kernel='rbf')\n",
    "\n",
    "gammas = np.logspace(-4, 0, 10)\n",
    "cv = model_selection.KFold(n_splits=3, shuffle=True,\n",
    "                            random_state=0)\n",
    "\n",
    "scores = []\n",
    "\n",
    "for gamma in gammas:\n",
    "    classifier.gamma = gamma\n",
    "    scores_gamma = model_selection.cross_val_score(classifier, X, y, \n",
    "                                                    cv=cv)\n",
    "    scores.append(np.average(scores_gamma))"
   ]
  },
  {
   "cell_type": "code",
   "execution_count": 19,
   "metadata": {},
   "outputs": [
    {
     "name": "stdout",
     "output_type": "stream",
     "text": [
      "Best gamma: 0.005994842503189409\n",
      "Best score: 0.9133333333333334\n"
     ]
    },
    {
     "data": {
      "text/plain": [
       "Text(0,0.5,'Score (accuracy)')"
      ]
     },
     "execution_count": 19,
     "metadata": {},
     "output_type": "execute_result"
    },
    {
     "data": {
      "image/png": "[encoded data removed]",
      "text/plain": [
       "<Figure size 432x288 with 1 Axes>"
      ]
     },
     "metadata": {
      "needs_background": "light"
     },
     "output_type": "display_data"
    }
   ],
   "source": [
    "print ('Best gamma:', gammas[np.argmax(scores)])\n",
    "print ('Best score:', scores[np.argmax(scores)])\n",
    "\n",
    "semilogx(gammas, scores)\n",
    "plt.xlabel('gamma')\n",
    "plt.ylabel('Score (accuracy)')"
   ]
  },
  {
   "cell_type": "markdown",
   "metadata": {},
   "source": [
    "Check the score of the best model in the test set."
   ]
  },
  {
   "cell_type": "code",
   "execution_count": 20,
   "metadata": {},
   "outputs": [
    {
     "name": "stdout",
     "output_type": "stream",
     "text": [
      "0.9346423357664233\n"
     ]
    }
   ],
   "source": [
    "svm = SVC(kernel='rbf', gamma=gammas[np.argmax(scores)])\n",
    "svm.fit(X, y)\n",
    "\n",
    "X_test_norm = X_test/255.0*2 - 1\n",
    "print (svm.score(X_test_norm, y_test))"
   ]
  },
  {
   "cell_type": "markdown",
   "metadata": {},
   "source": [
    "In the next exercise, reduce the **`X`** data to a matrix **`U`** using PCA with 80 components.\n",
    "\n",
    "Next, reproduce exactly the same steps as the previous exercise, but use **`U`** instead of **`X`** to train the model.\n",
    "\n",
    "Make note of the time that it takes to search for the best gamma."
   ]
  },
  {
   "cell_type": "code",
   "execution_count": 21,
   "metadata": {},
   "outputs": [
    {
     "name": "stdout",
     "output_type": "stream",
     "text": [
      "CPU times: user 6.39 s, sys: 64.1 ms, total: 6.45 s\n",
      "Wall time: 6.22 s\n"
     ]
    }
   ],
   "source": [
    "%%time\n",
    "\n",
    "classifier = SVC(kernel='rbf')\n",
    "\n",
    "pca = PCA(80)\n",
    "pca.fit(X)\n",
    "U = pca.transform(X)\n",
    "\n",
    "gammas = np.logspace(-4, 0, 10)\n",
    "cv = model_selection.KFold(n_splits=3, shuffle=True,\n",
    "                            random_state=0)\n",
    "\n",
    "scores = []\n",
    "\n",
    "for gamma in gammas:\n",
    "    classifier.gamma = gamma\n",
    "    scores_gamma = model_selection.cross_val_score(classifier, U, y, \n",
    "                                                    cv=cv)\n",
    "    scores.append(np.average(scores_gamma))"
   ]
  },
  {
   "cell_type": "code",
   "execution_count": 22,
   "metadata": {},
   "outputs": [
    {
     "name": "stdout",
     "output_type": "stream",
     "text": [
      "Best gamma: 0.005994842503189409\n",
      "Best score: 0.9213333333333334\n"
     ]
    },
    {
     "data": {
      "text/plain": [
       "Text(0,0.5,'Score (accuracy)')"
      ]
     },
     "execution_count": 22,
     "metadata": {},
     "output_type": "execute_result"
    },
    {
     "data": {
      "image/png": "[encoded data removed]",
      "text/plain": [
       "<Figure size 432x288 with 1 Axes>"
      ]
     },
     "metadata": {
      "needs_background": "light"
     },
     "output_type": "display_data"
    }
   ],
   "source": [
    "print ('Best gamma:', gammas[np.argmax(scores)])\n",
    "print ('Best score:', scores[np.argmax(scores)])\n",
    "\n",
    "semilogx(gammas, scores)\n",
    "plt.xlabel('gamma')\n",
    "plt.ylabel('Score (accuracy)')"
   ]
  },
  {
   "cell_type": "markdown",
   "metadata": {},
   "source": [
    "Check the score of the best model that uses PCA in the test set."
   ]
  },
  {
   "cell_type": "code",
   "execution_count": 23,
   "metadata": {},
   "outputs": [
    {
     "name": "stdout",
     "output_type": "stream",
     "text": [
      "0.9365109489051094\n"
     ]
    }
   ],
   "source": [
    "svm = SVC(kernel='rbf', gamma=gammas[np.argmax(scores)])\n",
    "svm.fit(U, y)\n",
    "\n",
    "X_test_norm = X_test/255.0*2 - 1\n",
    "U_test = pca.transform(X_test_norm)\n",
    "print (svm.score(U_test, y_test))"
   ]
  },
  {
   "cell_type": "markdown",
   "metadata": {},
   "source": [
    "Finally, find the best value also for the C parameter and check its score in the test set."
   ]
  },
  {
   "cell_type": "code",
   "execution_count": 24,
   "metadata": {},
   "outputs": [
    {
     "data": {
      "text/plain": [
       "GridSearchCV(cv=KFold(n_splits=3, random_state=0, shuffle=True),\n",
       "       error_score='raise-deprecating',\n",
       "       estimator=SVC(C=1.0, cache_size=200, class_weight=None, coef0=0.0,\n",
       "  decision_function_shape='ovr', degree=3, gamma='auto_deprecated',\n",
       "  kernel='rbf', max_iter=-1, probability=False, random_state=None,\n",
       "  shrinking=True, tol=0.001, verbose=False),\n",
       "       fit_params=None, iid='warn', n_jobs=None,\n",
       "       param_grid={'gamma': array([1.00000e-04, 2.78256e-04, 7.74264e-04, 2.15443e-03, 5.99484e-03,\n",
       "       1.66810e-02, 4.64159e-02, 1.29155e-01, 3.59381e-01, 1.00000e+00]), 'C': array([ 0.1,  1. , 10. ])},\n",
       "       pre_dispatch='2*n_jobs', refit=True, return_train_score='warn',\n",
       "       scoring=None, verbose=0)"
      ]
     },
     "execution_count": 24,
     "metadata": {},
     "output_type": "execute_result"
    }
   ],
   "source": [
    "classifier = SVC(kernel='rbf')\n",
    "\n",
    "pca = PCA(80)\n",
    "pca.fit(X)\n",
    "U = pca.transform(X)\n",
    "\n",
    "gammas = np.logspace(-4, 0, 10)\n",
    "Cs = np.logspace(-1, 1, 3)\n",
    "cv = model_selection.KFold(n_splits=3, shuffle=True,\n",
    "                            random_state=0)\n",
    "\n",
    "gs = model_selection.GridSearchCV(classifier, param_grid={'gamma': gammas, 'C': Cs}, cv=cv)\n",
    "gs.fit(U, y)"
   ]
  },
  {
   "cell_type": "code",
   "execution_count": 25,
   "metadata": {},
   "outputs": [
    {
     "data": {
      "text/plain": [
       "{'C': 10.0, 'gamma': 0.005994842503189409}"
      ]
     },
     "execution_count": 25,
     "metadata": {},
     "output_type": "execute_result"
    }
   ],
   "source": [
    "gs.best_params_"
   ]
  },
  {
   "cell_type": "code",
   "execution_count": 26,
   "metadata": {},
   "outputs": [
    {
     "name": "stdout",
     "output_type": "stream",
     "text": [
      "0.9393138686131387\n"
     ]
    }
   ],
   "source": [
    "X_test_norm = X_test/255.0*2 - 1\n",
    "U_test = pca.transform(X_test_norm)\n",
    "print (gs.score(U_test, y_test))"
   ]
  },
  {
   "cell_type": "code",
   "execution_count": null,
   "metadata": {},
   "outputs": [],
   "source": []
  }
 ],
 "metadata": {
  "kernelspec": {
   "display_name": "Python 3",
   "language": "python",
   "name": "python3"
  },
  "language_info": {
   "codemirror_mode": {
    "name": "ipython",
    "version": 3
   },
   "file_extension": ".py",
   "mimetype": "text/x-python",
   "name": "python",
   "nbconvert_exporter": "python",
   "pygments_lexer": "ipython3",
   "version": "3.7.0"
  }
 },
 "nbformat": 4,
 "nbformat_minor": 1
}
